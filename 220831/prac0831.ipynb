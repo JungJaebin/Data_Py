{
 "cells": [
  {
   "cell_type": "code",
   "execution_count": 2,
   "metadata": {},
   "outputs": [],
   "source": [
    "# 1. corona.csv 로드 - 데이터프레임화\n",
    "# 2. 데이터를 복사본 생성\n",
    "# 3. 결측치가 존재하는지 확인\n",
    "# 4. 컬럼의 이름 변경 → 등록일시, 사망자, 확진자, 게시글번호, 기준일, 기준시간, 수정일시, 누적의심자, 누적확진률\n",
    "# 5. 결측치가 존재하는 컬럼 삭제\n",
    "# 6. 등록일시를 기준으로 오름차순 정렬\n",
    "# 7. 인덱스의 값을 재지정(기존의 인덱스 값 삭제)\n",
    "# 8. 등록일시 데이터의 형태를 datetime으로 변경"
   ]
  },
  {
   "cell_type": "code",
   "execution_count": 3,
   "metadata": {},
   "outputs": [
    {
     "name": "stdout",
     "output_type": "stream",
     "text": [
      "Requirement already satisfied: requests in /Library/Frameworks/Python.framework/Versions/3.10/lib/python3.10/site-packages (2.28.1)\n",
      "Requirement already satisfied: certifi>=2017.4.17 in /Library/Frameworks/Python.framework/Versions/3.10/lib/python3.10/site-packages (from requests) (2022.6.15)\n",
      "Requirement already satisfied: charset-normalizer<3,>=2 in /Library/Frameworks/Python.framework/Versions/3.10/lib/python3.10/site-packages (from requests) (2.1.1)\n",
      "Requirement already satisfied: idna<4,>=2.5 in /Library/Frameworks/Python.framework/Versions/3.10/lib/python3.10/site-packages (from requests) (3.3)\n",
      "Requirement already satisfied: urllib3<1.27,>=1.21.1 in /Library/Frameworks/Python.framework/Versions/3.10/lib/python3.10/site-packages (from requests) (1.26.12)\n",
      "\u001b[33mWARNING: You are using pip version 22.0.4; however, version 22.2.2 is available.\n",
      "You should consider upgrading via the '/usr/local/bin/python3 -m pip install --upgrade pip' command.\u001b[0m\u001b[33m\n",
      "\u001b[0mNote: you may need to restart the kernel to use updated packages.\n"
     ]
    }
   ],
   "source": [
    "pip install requests"
   ]
  },
  {
   "cell_type": "code",
   "execution_count": 4,
   "metadata": {},
   "outputs": [
    {
     "name": "stdout",
     "output_type": "stream",
     "text": [
      "Requirement already satisfied: xmltodict in /Library/Frameworks/Python.framework/Versions/3.10/lib/python3.10/site-packages (0.13.0)\n",
      "\u001b[33mWARNING: You are using pip version 22.0.4; however, version 22.2.2 is available.\n",
      "You should consider upgrading via the '/usr/local/bin/python3 -m pip install --upgrade pip' command.\u001b[0m\u001b[33m\n",
      "\u001b[0mNote: you may need to restart the kernel to use updated packages.\n"
     ]
    }
   ],
   "source": [
    "pip install xmltodict"
   ]
  },
  {
   "cell_type": "code",
   "execution_count": 5,
   "metadata": {},
   "outputs": [],
   "source": [
    "import requests\n",
    "from urllib import parse\n",
    "import xmltodict\n",
    "import json\n",
    "import pandas as pd\n",
    "import numpy as np\n",
    "import datetime"
   ]
  },
  {
   "cell_type": "code",
   "execution_count": 6,
   "metadata": {},
   "outputs": [
    {
     "data": {
      "text/html": "<div>\n<style scoped>\n    .dataframe tbody tr th:only-of-type {\n        vertical-align: middle;\n    }\n\n    .dataframe tbody tr th {\n        vertical-align: top;\n    }\n\n    .dataframe thead th {\n        text-align: right;\n    }\n</style>\n<table border=\"1\" class=\"dataframe\">\n  <thead>\n    <tr style=\"text-align: right;\">\n      <th></th>\n      <th>Unnamed: 0</th>\n      <th>createDt</th>\n      <th>deathCnt</th>\n      <th>decideCnt</th>\n      <th>seq</th>\n      <th>stateDt</th>\n      <th>stateTime</th>\n      <th>updateDt</th>\n      <th>accExamCnt</th>\n      <th>accDefRate</th>\n    </tr>\n  </thead>\n  <tbody>\n    <tr>\n      <th>0</th>\n      <td>0</td>\n      <td>2022-06-08 09:09:05.982</td>\n      <td>24305</td>\n      <td>18188200</td>\n      <td>904</td>\n      <td>20220608</td>\n      <td>00:00</td>\n      <td>NaN</td>\n      <td>NaN</td>\n      <td>NaN</td>\n    </tr>\n    <tr>\n      <th>1</th>\n      <td>1</td>\n      <td>2022-06-07 09:09:00.897</td>\n      <td>24299</td>\n      <td>18174842</td>\n      <td>903</td>\n      <td>20220607</td>\n      <td>00:00</td>\n      <td>2022-06-08 09:10:36.846</td>\n      <td>NaN</td>\n      <td>NaN</td>\n    </tr>\n    <tr>\n      <th>2</th>\n      <td>2</td>\n      <td>2022-06-06 09:00:06.734</td>\n      <td>24279</td>\n      <td>18168670</td>\n      <td>902</td>\n      <td>20220606</td>\n      <td>00:00</td>\n      <td>2022-06-08 09:10:50.441</td>\n      <td>NaN</td>\n      <td>NaN</td>\n    </tr>\n    <tr>\n      <th>3</th>\n      <td>3</td>\n      <td>2022-06-05 08:53:19.426</td>\n      <td>24258</td>\n      <td>18163648</td>\n      <td>901</td>\n      <td>20220605</td>\n      <td>00:00</td>\n      <td>2022-06-08 09:11:04.758</td>\n      <td>NaN</td>\n      <td>NaN</td>\n    </tr>\n    <tr>\n      <th>4</th>\n      <td>4</td>\n      <td>2022-06-04 08:56:49.219</td>\n      <td>24238</td>\n      <td>18153814</td>\n      <td>900</td>\n      <td>20220604</td>\n      <td>00:00</td>\n      <td>2022-06-08 09:11:26.303</td>\n      <td>NaN</td>\n      <td>NaN</td>\n    </tr>\n  </tbody>\n</table>\n</div>",
      "text/plain": "   Unnamed: 0                 createDt  deathCnt  decideCnt  seq   stateDt  \\\n0           0  2022-06-08 09:09:05.982     24305   18188200  904  20220608   \n1           1  2022-06-07 09:09:00.897     24299   18174842  903  20220607   \n2           2  2022-06-06 09:00:06.734     24279   18168670  902  20220606   \n3           3  2022-06-05 08:53:19.426     24258   18163648  901  20220605   \n4           4  2022-06-04 08:56:49.219     24238   18153814  900  20220604   \n\n  stateTime                 updateDt  accExamCnt  accDefRate  \n0     00:00                      NaN         NaN         NaN  \n1     00:00  2022-06-08 09:10:36.846         NaN         NaN  \n2     00:00  2022-06-08 09:10:50.441         NaN         NaN  \n3     00:00  2022-06-08 09:11:04.758         NaN         NaN  \n4     00:00  2022-06-08 09:11:26.303         NaN         NaN  "
     },
     "execution_count": 6,
     "metadata": {},
     "output_type": "execute_result"
    }
   ],
   "source": [
    "# 1. corona.csv 로드 - 데이터프레임화\n",
    "\n",
    "prac0831 = pd.read_csv('../csv/corona.csv')\n",
    "\n",
    "prac0831.head()"
   ]
  },
  {
   "cell_type": "code",
   "execution_count": 7,
   "metadata": {},
   "outputs": [
    {
     "data": {
      "text/html": "<div>\n<style scoped>\n    .dataframe tbody tr th:only-of-type {\n        vertical-align: middle;\n    }\n\n    .dataframe tbody tr th {\n        vertical-align: top;\n    }\n\n    .dataframe thead th {\n        text-align: right;\n    }\n</style>\n<table border=\"1\" class=\"dataframe\">\n  <thead>\n    <tr style=\"text-align: right;\">\n      <th></th>\n      <th>createDt</th>\n      <th>deathCnt</th>\n      <th>decideCnt</th>\n      <th>seq</th>\n      <th>stateDt</th>\n      <th>stateTime</th>\n      <th>updateDt</th>\n      <th>accExamCnt</th>\n      <th>accDefRate</th>\n    </tr>\n  </thead>\n  <tbody>\n    <tr>\n      <th>0</th>\n      <td>2022-06-08 09:09:05.982</td>\n      <td>24305</td>\n      <td>18188200</td>\n      <td>904</td>\n      <td>20220608</td>\n      <td>00:00</td>\n      <td>NaN</td>\n      <td>NaN</td>\n      <td>NaN</td>\n    </tr>\n    <tr>\n      <th>1</th>\n      <td>2022-06-07 09:09:00.897</td>\n      <td>24299</td>\n      <td>18174842</td>\n      <td>903</td>\n      <td>20220607</td>\n      <td>00:00</td>\n      <td>2022-06-08 09:10:36.846</td>\n      <td>NaN</td>\n      <td>NaN</td>\n    </tr>\n    <tr>\n      <th>2</th>\n      <td>2022-06-06 09:00:06.734</td>\n      <td>24279</td>\n      <td>18168670</td>\n      <td>902</td>\n      <td>20220606</td>\n      <td>00:00</td>\n      <td>2022-06-08 09:10:50.441</td>\n      <td>NaN</td>\n      <td>NaN</td>\n    </tr>\n    <tr>\n      <th>3</th>\n      <td>2022-06-05 08:53:19.426</td>\n      <td>24258</td>\n      <td>18163648</td>\n      <td>901</td>\n      <td>20220605</td>\n      <td>00:00</td>\n      <td>2022-06-08 09:11:04.758</td>\n      <td>NaN</td>\n      <td>NaN</td>\n    </tr>\n    <tr>\n      <th>4</th>\n      <td>2022-06-04 08:56:49.219</td>\n      <td>24238</td>\n      <td>18153814</td>\n      <td>900</td>\n      <td>20220604</td>\n      <td>00:00</td>\n      <td>2022-06-08 09:11:26.303</td>\n      <td>NaN</td>\n      <td>NaN</td>\n    </tr>\n  </tbody>\n</table>\n</div>",
      "text/plain": "                  createDt  deathCnt  decideCnt  seq   stateDt stateTime  \\\n0  2022-06-08 09:09:05.982     24305   18188200  904  20220608     00:00   \n1  2022-06-07 09:09:00.897     24299   18174842  903  20220607     00:00   \n2  2022-06-06 09:00:06.734     24279   18168670  902  20220606     00:00   \n3  2022-06-05 08:53:19.426     24258   18163648  901  20220605     00:00   \n4  2022-06-04 08:56:49.219     24238   18153814  900  20220604     00:00   \n\n                  updateDt  accExamCnt  accDefRate  \n0                      NaN         NaN         NaN  \n1  2022-06-08 09:10:36.846         NaN         NaN  \n2  2022-06-08 09:10:50.441         NaN         NaN  \n3  2022-06-08 09:11:04.758         NaN         NaN  \n4  2022-06-08 09:11:26.303         NaN         NaN  "
     },
     "execution_count": 7,
     "metadata": {},
     "output_type": "execute_result"
    }
   ],
   "source": [
    "prac0831 = prac0831.drop(['Unnamed: 0'], axis = 'columns')\n",
    "\n",
    "prac0831.head()"
   ]
  },
  {
   "cell_type": "code",
   "execution_count": 8,
   "metadata": {},
   "outputs": [
    {
     "data": {
      "text/html": "<div>\n<style scoped>\n    .dataframe tbody tr th:only-of-type {\n        vertical-align: middle;\n    }\n\n    .dataframe tbody tr th {\n        vertical-align: top;\n    }\n\n    .dataframe thead th {\n        text-align: right;\n    }\n</style>\n<table border=\"1\" class=\"dataframe\">\n  <thead>\n    <tr style=\"text-align: right;\">\n      <th></th>\n      <th>createDt</th>\n      <th>deathCnt</th>\n      <th>decideCnt</th>\n      <th>seq</th>\n      <th>stateDt</th>\n      <th>stateTime</th>\n      <th>updateDt</th>\n      <th>accExamCnt</th>\n      <th>accDefRate</th>\n    </tr>\n  </thead>\n  <tbody>\n    <tr>\n      <th>0</th>\n      <td>2022-06-08 09:09:05.982</td>\n      <td>24305</td>\n      <td>18188200</td>\n      <td>904</td>\n      <td>20220608</td>\n      <td>00:00</td>\n      <td>NaN</td>\n      <td>NaN</td>\n      <td>NaN</td>\n    </tr>\n    <tr>\n      <th>1</th>\n      <td>2022-06-07 09:09:00.897</td>\n      <td>24299</td>\n      <td>18174842</td>\n      <td>903</td>\n      <td>20220607</td>\n      <td>00:00</td>\n      <td>2022-06-08 09:10:36.846</td>\n      <td>NaN</td>\n      <td>NaN</td>\n    </tr>\n    <tr>\n      <th>2</th>\n      <td>2022-06-06 09:00:06.734</td>\n      <td>24279</td>\n      <td>18168670</td>\n      <td>902</td>\n      <td>20220606</td>\n      <td>00:00</td>\n      <td>2022-06-08 09:10:50.441</td>\n      <td>NaN</td>\n      <td>NaN</td>\n    </tr>\n    <tr>\n      <th>3</th>\n      <td>2022-06-05 08:53:19.426</td>\n      <td>24258</td>\n      <td>18163648</td>\n      <td>901</td>\n      <td>20220605</td>\n      <td>00:00</td>\n      <td>2022-06-08 09:11:04.758</td>\n      <td>NaN</td>\n      <td>NaN</td>\n    </tr>\n    <tr>\n      <th>4</th>\n      <td>2022-06-04 08:56:49.219</td>\n      <td>24238</td>\n      <td>18153814</td>\n      <td>900</td>\n      <td>20220604</td>\n      <td>00:00</td>\n      <td>2022-06-08 09:11:26.303</td>\n      <td>NaN</td>\n      <td>NaN</td>\n    </tr>\n  </tbody>\n</table>\n</div>",
      "text/plain": "                  createDt  deathCnt  decideCnt  seq   stateDt stateTime  \\\n0  2022-06-08 09:09:05.982     24305   18188200  904  20220608     00:00   \n1  2022-06-07 09:09:00.897     24299   18174842  903  20220607     00:00   \n2  2022-06-06 09:00:06.734     24279   18168670  902  20220606     00:00   \n3  2022-06-05 08:53:19.426     24258   18163648  901  20220605     00:00   \n4  2022-06-04 08:56:49.219     24238   18153814  900  20220604     00:00   \n\n                  updateDt  accExamCnt  accDefRate  \n0                      NaN         NaN         NaN  \n1  2022-06-08 09:10:36.846         NaN         NaN  \n2  2022-06-08 09:10:50.441         NaN         NaN  \n3  2022-06-08 09:11:04.758         NaN         NaN  \n4  2022-06-08 09:11:26.303         NaN         NaN  "
     },
     "execution_count": 8,
     "metadata": {},
     "output_type": "execute_result"
    }
   ],
   "source": [
    "# 2. 데이터를 복사본 생성\n",
    "\n",
    "prac0831_copy = prac0831.copy()\n",
    "\n",
    "prac0831_copy.head()"
   ]
  },
  {
   "cell_type": "code",
   "execution_count": 9,
   "metadata": {},
   "outputs": [
    {
     "data": {
      "text/plain": "createDt        0\ndeathCnt        0\ndecideCnt       0\nseq             0\nstateDt         0\nstateTime       0\nupdateDt        3\naccExamCnt    128\naccDefRate    197\ndtype: int64"
     },
     "execution_count": 9,
     "metadata": {},
     "output_type": "execute_result"
    }
   ],
   "source": [
    "# 3. 결측치가 존재하는지 확인\n",
    "\n",
    "prac0831_copy.isna().sum()"
   ]
  },
  {
   "cell_type": "code",
   "execution_count": 10,
   "metadata": {},
   "outputs": [
    {
     "data": {
      "text/html": "<div>\n<style scoped>\n    .dataframe tbody tr th:only-of-type {\n        vertical-align: middle;\n    }\n\n    .dataframe tbody tr th {\n        vertical-align: top;\n    }\n\n    .dataframe thead th {\n        text-align: right;\n    }\n</style>\n<table border=\"1\" class=\"dataframe\">\n  <thead>\n    <tr style=\"text-align: right;\">\n      <th></th>\n      <th>등록일시</th>\n      <th>사망자</th>\n      <th>확진자</th>\n      <th>게시글번호</th>\n      <th>기준일</th>\n      <th>기준시간</th>\n      <th>수정일시</th>\n      <th>누적의심자</th>\n      <th>누적확진률</th>\n    </tr>\n  </thead>\n  <tbody>\n    <tr>\n      <th>0</th>\n      <td>2022-06-08 09:09:05.982</td>\n      <td>24305</td>\n      <td>18188200</td>\n      <td>904</td>\n      <td>20220608</td>\n      <td>00:00</td>\n      <td>NaN</td>\n      <td>NaN</td>\n      <td>NaN</td>\n    </tr>\n    <tr>\n      <th>1</th>\n      <td>2022-06-07 09:09:00.897</td>\n      <td>24299</td>\n      <td>18174842</td>\n      <td>903</td>\n      <td>20220607</td>\n      <td>00:00</td>\n      <td>2022-06-08 09:10:36.846</td>\n      <td>NaN</td>\n      <td>NaN</td>\n    </tr>\n    <tr>\n      <th>2</th>\n      <td>2022-06-06 09:00:06.734</td>\n      <td>24279</td>\n      <td>18168670</td>\n      <td>902</td>\n      <td>20220606</td>\n      <td>00:00</td>\n      <td>2022-06-08 09:10:50.441</td>\n      <td>NaN</td>\n      <td>NaN</td>\n    </tr>\n    <tr>\n      <th>3</th>\n      <td>2022-06-05 08:53:19.426</td>\n      <td>24258</td>\n      <td>18163648</td>\n      <td>901</td>\n      <td>20220605</td>\n      <td>00:00</td>\n      <td>2022-06-08 09:11:04.758</td>\n      <td>NaN</td>\n      <td>NaN</td>\n    </tr>\n    <tr>\n      <th>4</th>\n      <td>2022-06-04 08:56:49.219</td>\n      <td>24238</td>\n      <td>18153814</td>\n      <td>900</td>\n      <td>20220604</td>\n      <td>00:00</td>\n      <td>2022-06-08 09:11:26.303</td>\n      <td>NaN</td>\n      <td>NaN</td>\n    </tr>\n  </tbody>\n</table>\n</div>",
      "text/plain": "                      등록일시    사망자       확진자  게시글번호       기준일   기준시간  \\\n0  2022-06-08 09:09:05.982  24305  18188200    904  20220608  00:00   \n1  2022-06-07 09:09:00.897  24299  18174842    903  20220607  00:00   \n2  2022-06-06 09:00:06.734  24279  18168670    902  20220606  00:00   \n3  2022-06-05 08:53:19.426  24258  18163648    901  20220605  00:00   \n4  2022-06-04 08:56:49.219  24238  18153814    900  20220604  00:00   \n\n                      수정일시  누적의심자  누적확진률  \n0                      NaN    NaN    NaN  \n1  2022-06-08 09:10:36.846    NaN    NaN  \n2  2022-06-08 09:10:50.441    NaN    NaN  \n3  2022-06-08 09:11:04.758    NaN    NaN  \n4  2022-06-08 09:11:26.303    NaN    NaN  "
     },
     "execution_count": 10,
     "metadata": {},
     "output_type": "execute_result"
    }
   ],
   "source": [
    "# 4. 컬럼의 이름 변경 → 등록일시, 사망자, 확진자, 게시글번호, 기준일, 기준시간, 수정일시, 누적의심자, 누적확진률\n",
    "\n",
    "prac0831_copy.columns = ['등록일시', '사망자', '확진자', '게시글번호', '기준일', '기준시간', '수정일시', '누적의심자', '누적확진률']\n",
    "\n",
    "prac0831_copy.head()"
   ]
  },
  {
   "cell_type": "code",
   "execution_count": 13,
   "metadata": {},
   "outputs": [
    {
     "data": {
      "text/html": "<div>\n<style scoped>\n    .dataframe tbody tr th:only-of-type {\n        vertical-align: middle;\n    }\n\n    .dataframe tbody tr th {\n        vertical-align: top;\n    }\n\n    .dataframe thead th {\n        text-align: right;\n    }\n</style>\n<table border=\"1\" class=\"dataframe\">\n  <thead>\n    <tr style=\"text-align: right;\">\n      <th></th>\n      <th>등록일시</th>\n      <th>사망자</th>\n      <th>확진자</th>\n      <th>게시글번호</th>\n      <th>기준일</th>\n      <th>기준시간</th>\n    </tr>\n  </thead>\n  <tbody>\n    <tr>\n      <th>0</th>\n      <td>2022-06-08 09:09:05.982</td>\n      <td>24305</td>\n      <td>18188200</td>\n      <td>904</td>\n      <td>20220608</td>\n      <td>00:00</td>\n    </tr>\n    <tr>\n      <th>1</th>\n      <td>2022-06-07 09:09:00.897</td>\n      <td>24299</td>\n      <td>18174842</td>\n      <td>903</td>\n      <td>20220607</td>\n      <td>00:00</td>\n    </tr>\n    <tr>\n      <th>2</th>\n      <td>2022-06-06 09:00:06.734</td>\n      <td>24279</td>\n      <td>18168670</td>\n      <td>902</td>\n      <td>20220606</td>\n      <td>00:00</td>\n    </tr>\n    <tr>\n      <th>3</th>\n      <td>2022-06-05 08:53:19.426</td>\n      <td>24258</td>\n      <td>18163648</td>\n      <td>901</td>\n      <td>20220605</td>\n      <td>00:00</td>\n    </tr>\n    <tr>\n      <th>4</th>\n      <td>2022-06-04 08:56:49.219</td>\n      <td>24238</td>\n      <td>18153814</td>\n      <td>900</td>\n      <td>20220604</td>\n      <td>00:00</td>\n    </tr>\n    <tr>\n      <th>...</th>\n      <td>...</td>\n      <td>...</td>\n      <td>...</td>\n      <td>...</td>\n      <td>...</td>\n      <td>...</td>\n    </tr>\n    <tr>\n      <th>815</th>\n      <td>2020-03-14 00:00:00.000</td>\n      <td>72</td>\n      <td>8086</td>\n      <td>55</td>\n      <td>20200314</td>\n      <td>00:00</td>\n    </tr>\n    <tr>\n      <th>816</th>\n      <td>2020-03-13 00:00:00.000</td>\n      <td>67</td>\n      <td>7979</td>\n      <td>54</td>\n      <td>20200313</td>\n      <td>00:00</td>\n    </tr>\n    <tr>\n      <th>817</th>\n      <td>2020-03-12 00:00:00.000</td>\n      <td>66</td>\n      <td>7869</td>\n      <td>53</td>\n      <td>20200312</td>\n      <td>00:00</td>\n    </tr>\n    <tr>\n      <th>818</th>\n      <td>2020-03-11 00:00:00.000</td>\n      <td>60</td>\n      <td>7755</td>\n      <td>52</td>\n      <td>20200311</td>\n      <td>00:00</td>\n    </tr>\n    <tr>\n      <th>819</th>\n      <td>2020-03-10 00:00:00.000</td>\n      <td>54</td>\n      <td>7513</td>\n      <td>51</td>\n      <td>20200310</td>\n      <td>00:00</td>\n    </tr>\n  </tbody>\n</table>\n<p>820 rows × 6 columns</p>\n</div>",
      "text/plain": "                        등록일시    사망자       확진자  게시글번호       기준일   기준시간\n0    2022-06-08 09:09:05.982  24305  18188200    904  20220608  00:00\n1    2022-06-07 09:09:00.897  24299  18174842    903  20220607  00:00\n2    2022-06-06 09:00:06.734  24279  18168670    902  20220606  00:00\n3    2022-06-05 08:53:19.426  24258  18163648    901  20220605  00:00\n4    2022-06-04 08:56:49.219  24238  18153814    900  20220604  00:00\n..                       ...    ...       ...    ...       ...    ...\n815  2020-03-14 00:00:00.000     72      8086     55  20200314  00:00\n816  2020-03-13 00:00:00.000     67      7979     54  20200313  00:00\n817  2020-03-12 00:00:00.000     66      7869     53  20200312  00:00\n818  2020-03-11 00:00:00.000     60      7755     52  20200311  00:00\n819  2020-03-10 00:00:00.000     54      7513     51  20200310  00:00\n\n[820 rows x 6 columns]"
     },
     "execution_count": 13,
     "metadata": {},
     "output_type": "execute_result"
    }
   ],
   "source": [
    "# 5. 결측치가 존재하는 컬럼 삭제\n",
    "\n",
    "prac0831_copy = prac0831_copy.dropna(axis = 'columns')\n",
    "\n",
    "prac0831_copy"
   ]
  },
  {
   "cell_type": "code",
   "execution_count": 14,
   "metadata": {},
   "outputs": [
    {
     "data": {
      "text/html": "<div>\n<style scoped>\n    .dataframe tbody tr th:only-of-type {\n        vertical-align: middle;\n    }\n\n    .dataframe tbody tr th {\n        vertical-align: top;\n    }\n\n    .dataframe thead th {\n        text-align: right;\n    }\n</style>\n<table border=\"1\" class=\"dataframe\">\n  <thead>\n    <tr style=\"text-align: right;\">\n      <th></th>\n      <th>등록일시</th>\n      <th>사망자</th>\n      <th>확진자</th>\n      <th>게시글번호</th>\n      <th>기준일</th>\n      <th>기준시간</th>\n    </tr>\n  </thead>\n  <tbody>\n    <tr>\n      <th>819</th>\n      <td>2020-03-10 00:00:00.000</td>\n      <td>54</td>\n      <td>7513</td>\n      <td>51</td>\n      <td>20200310</td>\n      <td>00:00</td>\n    </tr>\n    <tr>\n      <th>818</th>\n      <td>2020-03-11 00:00:00.000</td>\n      <td>60</td>\n      <td>7755</td>\n      <td>52</td>\n      <td>20200311</td>\n      <td>00:00</td>\n    </tr>\n    <tr>\n      <th>817</th>\n      <td>2020-03-12 00:00:00.000</td>\n      <td>66</td>\n      <td>7869</td>\n      <td>53</td>\n      <td>20200312</td>\n      <td>00:00</td>\n    </tr>\n    <tr>\n      <th>816</th>\n      <td>2020-03-13 00:00:00.000</td>\n      <td>67</td>\n      <td>7979</td>\n      <td>54</td>\n      <td>20200313</td>\n      <td>00:00</td>\n    </tr>\n    <tr>\n      <th>815</th>\n      <td>2020-03-14 00:00:00.000</td>\n      <td>72</td>\n      <td>8086</td>\n      <td>55</td>\n      <td>20200314</td>\n      <td>00:00</td>\n    </tr>\n    <tr>\n      <th>...</th>\n      <td>...</td>\n      <td>...</td>\n      <td>...</td>\n      <td>...</td>\n      <td>...</td>\n      <td>...</td>\n    </tr>\n    <tr>\n      <th>4</th>\n      <td>2022-06-04 08:56:49.219</td>\n      <td>24238</td>\n      <td>18153814</td>\n      <td>900</td>\n      <td>20220604</td>\n      <td>00:00</td>\n    </tr>\n    <tr>\n      <th>3</th>\n      <td>2022-06-05 08:53:19.426</td>\n      <td>24258</td>\n      <td>18163648</td>\n      <td>901</td>\n      <td>20220605</td>\n      <td>00:00</td>\n    </tr>\n    <tr>\n      <th>2</th>\n      <td>2022-06-06 09:00:06.734</td>\n      <td>24279</td>\n      <td>18168670</td>\n      <td>902</td>\n      <td>20220606</td>\n      <td>00:00</td>\n    </tr>\n    <tr>\n      <th>1</th>\n      <td>2022-06-07 09:09:00.897</td>\n      <td>24299</td>\n      <td>18174842</td>\n      <td>903</td>\n      <td>20220607</td>\n      <td>00:00</td>\n    </tr>\n    <tr>\n      <th>0</th>\n      <td>2022-06-08 09:09:05.982</td>\n      <td>24305</td>\n      <td>18188200</td>\n      <td>904</td>\n      <td>20220608</td>\n      <td>00:00</td>\n    </tr>\n  </tbody>\n</table>\n<p>820 rows × 6 columns</p>\n</div>",
      "text/plain": "                        등록일시    사망자       확진자  게시글번호       기준일   기준시간\n819  2020-03-10 00:00:00.000     54      7513     51  20200310  00:00\n818  2020-03-11 00:00:00.000     60      7755     52  20200311  00:00\n817  2020-03-12 00:00:00.000     66      7869     53  20200312  00:00\n816  2020-03-13 00:00:00.000     67      7979     54  20200313  00:00\n815  2020-03-14 00:00:00.000     72      8086     55  20200314  00:00\n..                       ...    ...       ...    ...       ...    ...\n4    2022-06-04 08:56:49.219  24238  18153814    900  20220604  00:00\n3    2022-06-05 08:53:19.426  24258  18163648    901  20220605  00:00\n2    2022-06-06 09:00:06.734  24279  18168670    902  20220606  00:00\n1    2022-06-07 09:09:00.897  24299  18174842    903  20220607  00:00\n0    2022-06-08 09:09:05.982  24305  18188200    904  20220608  00:00\n\n[820 rows x 6 columns]"
     },
     "execution_count": 14,
     "metadata": {},
     "output_type": "execute_result"
    }
   ],
   "source": [
    "# 6. 등록일시를 기준으로 오름차순 정렬\n",
    "\n",
    "prac0831_copy = prac0831_copy.sort_values('등록일시')\n",
    "\n",
    "prac0831_copy"
   ]
  },
  {
   "cell_type": "code",
   "execution_count": 15,
   "metadata": {},
   "outputs": [
    {
     "data": {
      "text/html": "<div>\n<style scoped>\n    .dataframe tbody tr th:only-of-type {\n        vertical-align: middle;\n    }\n\n    .dataframe tbody tr th {\n        vertical-align: top;\n    }\n\n    .dataframe thead th {\n        text-align: right;\n    }\n</style>\n<table border=\"1\" class=\"dataframe\">\n  <thead>\n    <tr style=\"text-align: right;\">\n      <th></th>\n      <th>등록일시</th>\n      <th>사망자</th>\n      <th>확진자</th>\n      <th>게시글번호</th>\n      <th>기준일</th>\n      <th>기준시간</th>\n    </tr>\n  </thead>\n  <tbody>\n    <tr>\n      <th>0</th>\n      <td>2020-03-10 00:00:00.000</td>\n      <td>54</td>\n      <td>7513</td>\n      <td>51</td>\n      <td>20200310</td>\n      <td>00:00</td>\n    </tr>\n    <tr>\n      <th>1</th>\n      <td>2020-03-11 00:00:00.000</td>\n      <td>60</td>\n      <td>7755</td>\n      <td>52</td>\n      <td>20200311</td>\n      <td>00:00</td>\n    </tr>\n    <tr>\n      <th>2</th>\n      <td>2020-03-12 00:00:00.000</td>\n      <td>66</td>\n      <td>7869</td>\n      <td>53</td>\n      <td>20200312</td>\n      <td>00:00</td>\n    </tr>\n    <tr>\n      <th>3</th>\n      <td>2020-03-13 00:00:00.000</td>\n      <td>67</td>\n      <td>7979</td>\n      <td>54</td>\n      <td>20200313</td>\n      <td>00:00</td>\n    </tr>\n    <tr>\n      <th>4</th>\n      <td>2020-03-14 00:00:00.000</td>\n      <td>72</td>\n      <td>8086</td>\n      <td>55</td>\n      <td>20200314</td>\n      <td>00:00</td>\n    </tr>\n    <tr>\n      <th>...</th>\n      <td>...</td>\n      <td>...</td>\n      <td>...</td>\n      <td>...</td>\n      <td>...</td>\n      <td>...</td>\n    </tr>\n    <tr>\n      <th>815</th>\n      <td>2022-06-04 08:56:49.219</td>\n      <td>24238</td>\n      <td>18153814</td>\n      <td>900</td>\n      <td>20220604</td>\n      <td>00:00</td>\n    </tr>\n    <tr>\n      <th>816</th>\n      <td>2022-06-05 08:53:19.426</td>\n      <td>24258</td>\n      <td>18163648</td>\n      <td>901</td>\n      <td>20220605</td>\n      <td>00:00</td>\n    </tr>\n    <tr>\n      <th>817</th>\n      <td>2022-06-06 09:00:06.734</td>\n      <td>24279</td>\n      <td>18168670</td>\n      <td>902</td>\n      <td>20220606</td>\n      <td>00:00</td>\n    </tr>\n    <tr>\n      <th>818</th>\n      <td>2022-06-07 09:09:00.897</td>\n      <td>24299</td>\n      <td>18174842</td>\n      <td>903</td>\n      <td>20220607</td>\n      <td>00:00</td>\n    </tr>\n    <tr>\n      <th>819</th>\n      <td>2022-06-08 09:09:05.982</td>\n      <td>24305</td>\n      <td>18188200</td>\n      <td>904</td>\n      <td>20220608</td>\n      <td>00:00</td>\n    </tr>\n  </tbody>\n</table>\n<p>820 rows × 6 columns</p>\n</div>",
      "text/plain": "                        등록일시    사망자       확진자  게시글번호       기준일   기준시간\n0    2020-03-10 00:00:00.000     54      7513     51  20200310  00:00\n1    2020-03-11 00:00:00.000     60      7755     52  20200311  00:00\n2    2020-03-12 00:00:00.000     66      7869     53  20200312  00:00\n3    2020-03-13 00:00:00.000     67      7979     54  20200313  00:00\n4    2020-03-14 00:00:00.000     72      8086     55  20200314  00:00\n..                       ...    ...       ...    ...       ...    ...\n815  2022-06-04 08:56:49.219  24238  18153814    900  20220604  00:00\n816  2022-06-05 08:53:19.426  24258  18163648    901  20220605  00:00\n817  2022-06-06 09:00:06.734  24279  18168670    902  20220606  00:00\n818  2022-06-07 09:09:00.897  24299  18174842    903  20220607  00:00\n819  2022-06-08 09:09:05.982  24305  18188200    904  20220608  00:00\n\n[820 rows x 6 columns]"
     },
     "execution_count": 15,
     "metadata": {},
     "output_type": "execute_result"
    }
   ],
   "source": [
    "# 7. 인덱스의 값을 재지정(기존의 인덱스 값 삭제)\n",
    "\n",
    "prac0831_copy = prac0831_copy.reset_index(drop = True)\n",
    "\n",
    "prac0831_copy"
   ]
  },
  {
   "cell_type": "code",
   "execution_count": 25,
   "metadata": {},
   "outputs": [
    {
     "data": {
      "text/html": "<div>\n<style scoped>\n    .dataframe tbody tr th:only-of-type {\n        vertical-align: middle;\n    }\n\n    .dataframe tbody tr th {\n        vertical-align: top;\n    }\n\n    .dataframe thead th {\n        text-align: right;\n    }\n</style>\n<table border=\"1\" class=\"dataframe\">\n  <thead>\n    <tr style=\"text-align: right;\">\n      <th></th>\n      <th>등록일시</th>\n      <th>사망자</th>\n      <th>확진자</th>\n      <th>게시글번호</th>\n      <th>기준일</th>\n      <th>기준시간</th>\n    </tr>\n  </thead>\n  <tbody>\n    <tr>\n      <th>0</th>\n      <td>2020-03-10</td>\n      <td>54</td>\n      <td>7513</td>\n      <td>51</td>\n      <td>20200310</td>\n      <td>00:00</td>\n    </tr>\n    <tr>\n      <th>1</th>\n      <td>2020-03-11</td>\n      <td>60</td>\n      <td>7755</td>\n      <td>52</td>\n      <td>20200311</td>\n      <td>00:00</td>\n    </tr>\n    <tr>\n      <th>2</th>\n      <td>2020-03-12</td>\n      <td>66</td>\n      <td>7869</td>\n      <td>53</td>\n      <td>20200312</td>\n      <td>00:00</td>\n    </tr>\n    <tr>\n      <th>3</th>\n      <td>2020-03-13</td>\n      <td>67</td>\n      <td>7979</td>\n      <td>54</td>\n      <td>20200313</td>\n      <td>00:00</td>\n    </tr>\n    <tr>\n      <th>4</th>\n      <td>2020-03-14</td>\n      <td>72</td>\n      <td>8086</td>\n      <td>55</td>\n      <td>20200314</td>\n      <td>00:00</td>\n    </tr>\n    <tr>\n      <th>...</th>\n      <td>...</td>\n      <td>...</td>\n      <td>...</td>\n      <td>...</td>\n      <td>...</td>\n      <td>...</td>\n    </tr>\n    <tr>\n      <th>815</th>\n      <td>2022-06-04</td>\n      <td>24238</td>\n      <td>18153814</td>\n      <td>900</td>\n      <td>20220604</td>\n      <td>00:00</td>\n    </tr>\n    <tr>\n      <th>816</th>\n      <td>2022-06-05</td>\n      <td>24258</td>\n      <td>18163648</td>\n      <td>901</td>\n      <td>20220605</td>\n      <td>00:00</td>\n    </tr>\n    <tr>\n      <th>817</th>\n      <td>2022-06-06</td>\n      <td>24279</td>\n      <td>18168670</td>\n      <td>902</td>\n      <td>20220606</td>\n      <td>00:00</td>\n    </tr>\n    <tr>\n      <th>818</th>\n      <td>2022-06-07</td>\n      <td>24299</td>\n      <td>18174842</td>\n      <td>903</td>\n      <td>20220607</td>\n      <td>00:00</td>\n    </tr>\n    <tr>\n      <th>819</th>\n      <td>2022-06-08</td>\n      <td>24305</td>\n      <td>18188200</td>\n      <td>904</td>\n      <td>20220608</td>\n      <td>00:00</td>\n    </tr>\n  </tbody>\n</table>\n<p>820 rows × 6 columns</p>\n</div>",
      "text/plain": "          등록일시    사망자       확진자  게시글번호       기준일   기준시간\n0   2020-03-10     54      7513     51  20200310  00:00\n1   2020-03-11     60      7755     52  20200311  00:00\n2   2020-03-12     66      7869     53  20200312  00:00\n3   2020-03-13     67      7979     54  20200313  00:00\n4   2020-03-14     72      8086     55  20200314  00:00\n..         ...    ...       ...    ...       ...    ...\n815 2022-06-04  24238  18153814    900  20220604  00:00\n816 2022-06-05  24258  18163648    901  20220605  00:00\n817 2022-06-06  24279  18168670    902  20220606  00:00\n818 2022-06-07  24299  18174842    903  20220607  00:00\n819 2022-06-08  24305  18188200    904  20220608  00:00\n\n[820 rows x 6 columns]"
     },
     "execution_count": 25,
     "metadata": {},
     "output_type": "execute_result"
    }
   ],
   "source": [
    "# 8. 등록일시 데이터의 형태를 datetime으로 변경\n",
    "# .dt.strftime('%Y-%m-%d'): Y, m, d 까지만 출력\n",
    "\n",
    "prac0831_copy['등록일시'] = pd.to_datetime(prac0831_copy['등록일시'].dt.strftime('%Y-%m-%d'), format = '%Y-%m-%d')\n",
    "\n",
    "prac0831_copy"
   ]
  },
  {
   "cell_type": "code",
   "execution_count": 16,
   "metadata": {},
   "outputs": [],
   "source": [
    "# 일일확진자 수\n",
    "\n",
    "# shift():\n",
    "#  shift(n) → n을 공란으로 두게 되면 기본값이 1\n",
    "#  n값 만큼 인덱스를 이동하여 그 행의 값을 가지게 된다.\n",
    "\n",
    "# diff():\n",
    "#  한 객체 내에서 열과 열 / 행과 행 차이를 출력"
   ]
  },
  {
   "cell_type": "code",
   "execution_count": 18,
   "metadata": {},
   "outputs": [
    {
     "data": {
      "text/plain": "0          NaN\n1        242.0\n2        114.0\n3        110.0\n4        107.0\n        ...   \n815    12039.0\n816     9834.0\n817     5022.0\n818     6172.0\n819    13358.0\nName: 확진자, Length: 820, dtype: float64"
     },
     "execution_count": 18,
     "metadata": {},
     "output_type": "execute_result"
    }
   ],
   "source": [
    "# shift() 함수 이용\n",
    "# 괄호 안에 숫자 만큼 행을 이동\n",
    "\n",
    "prac0831_copy['확진자'] - prac0831_copy['확진자'].shift()       # 0이 결측치가 나온 이유는 첫 날 확진자 수가 일일확진자수 여서"
   ]
  },
  {
   "cell_type": "code",
   "execution_count": 19,
   "metadata": {},
   "outputs": [
    {
     "data": {
      "text/plain": "0          NaN\n1        242.0\n2        114.0\n3        110.0\n4        107.0\n        ...   \n815    12039.0\n816     9834.0\n817     5022.0\n818     6172.0\n819    13358.0\nName: 확진자, Length: 820, dtype: float64"
     },
     "execution_count": 19,
     "metadata": {},
     "output_type": "execute_result"
    }
   ],
   "source": [
    "# diff() 함수 이용\n",
    "\n",
    "prac0831_copy['확진자'].diff()"
   ]
  },
  {
   "cell_type": "code",
   "execution_count": 28,
   "metadata": {},
   "outputs": [
    {
     "data": {
      "text/html": "<div>\n<style scoped>\n    .dataframe tbody tr th:only-of-type {\n        vertical-align: middle;\n    }\n\n    .dataframe tbody tr th {\n        vertical-align: top;\n    }\n\n    .dataframe thead th {\n        text-align: right;\n    }\n</style>\n<table border=\"1\" class=\"dataframe\">\n  <thead>\n    <tr style=\"text-align: right;\">\n      <th></th>\n      <th>등록일시</th>\n      <th>사망자</th>\n      <th>확진자</th>\n      <th>게시글번호</th>\n      <th>기준일</th>\n      <th>기준시간</th>\n      <th>일일확진자</th>\n      <th>일일사망자</th>\n    </tr>\n  </thead>\n  <tbody>\n    <tr>\n      <th>0</th>\n      <td>2020-03-10</td>\n      <td>54</td>\n      <td>7513</td>\n      <td>51</td>\n      <td>20200310</td>\n      <td>00:00</td>\n      <td>NaN</td>\n      <td>NaN</td>\n    </tr>\n    <tr>\n      <th>1</th>\n      <td>2020-03-11</td>\n      <td>60</td>\n      <td>7755</td>\n      <td>52</td>\n      <td>20200311</td>\n      <td>00:00</td>\n      <td>242.0</td>\n      <td>6.0</td>\n    </tr>\n    <tr>\n      <th>2</th>\n      <td>2020-03-12</td>\n      <td>66</td>\n      <td>7869</td>\n      <td>53</td>\n      <td>20200312</td>\n      <td>00:00</td>\n      <td>114.0</td>\n      <td>6.0</td>\n    </tr>\n    <tr>\n      <th>3</th>\n      <td>2020-03-13</td>\n      <td>67</td>\n      <td>7979</td>\n      <td>54</td>\n      <td>20200313</td>\n      <td>00:00</td>\n      <td>110.0</td>\n      <td>1.0</td>\n    </tr>\n    <tr>\n      <th>4</th>\n      <td>2020-03-14</td>\n      <td>72</td>\n      <td>8086</td>\n      <td>55</td>\n      <td>20200314</td>\n      <td>00:00</td>\n      <td>107.0</td>\n      <td>5.0</td>\n    </tr>\n    <tr>\n      <th>...</th>\n      <td>...</td>\n      <td>...</td>\n      <td>...</td>\n      <td>...</td>\n      <td>...</td>\n      <td>...</td>\n      <td>...</td>\n      <td>...</td>\n    </tr>\n    <tr>\n      <th>815</th>\n      <td>2022-06-04</td>\n      <td>24238</td>\n      <td>18153814</td>\n      <td>900</td>\n      <td>20220604</td>\n      <td>00:00</td>\n      <td>12039.0</td>\n      <td>9.0</td>\n    </tr>\n    <tr>\n      <th>816</th>\n      <td>2022-06-05</td>\n      <td>24258</td>\n      <td>18163648</td>\n      <td>901</td>\n      <td>20220605</td>\n      <td>00:00</td>\n      <td>9834.0</td>\n      <td>20.0</td>\n    </tr>\n    <tr>\n      <th>817</th>\n      <td>2022-06-06</td>\n      <td>24279</td>\n      <td>18168670</td>\n      <td>902</td>\n      <td>20220606</td>\n      <td>00:00</td>\n      <td>5022.0</td>\n      <td>21.0</td>\n    </tr>\n    <tr>\n      <th>818</th>\n      <td>2022-06-07</td>\n      <td>24299</td>\n      <td>18174842</td>\n      <td>903</td>\n      <td>20220607</td>\n      <td>00:00</td>\n      <td>6172.0</td>\n      <td>20.0</td>\n    </tr>\n    <tr>\n      <th>819</th>\n      <td>2022-06-08</td>\n      <td>24305</td>\n      <td>18188200</td>\n      <td>904</td>\n      <td>20220608</td>\n      <td>00:00</td>\n      <td>13358.0</td>\n      <td>6.0</td>\n    </tr>\n  </tbody>\n</table>\n<p>820 rows × 8 columns</p>\n</div>",
      "text/plain": "          등록일시    사망자       확진자  게시글번호       기준일   기준시간    일일확진자  일일사망자\n0   2020-03-10     54      7513     51  20200310  00:00      NaN    NaN\n1   2020-03-11     60      7755     52  20200311  00:00    242.0    6.0\n2   2020-03-12     66      7869     53  20200312  00:00    114.0    6.0\n3   2020-03-13     67      7979     54  20200313  00:00    110.0    1.0\n4   2020-03-14     72      8086     55  20200314  00:00    107.0    5.0\n..         ...    ...       ...    ...       ...    ...      ...    ...\n815 2022-06-04  24238  18153814    900  20220604  00:00  12039.0    9.0\n816 2022-06-05  24258  18163648    901  20220605  00:00   9834.0   20.0\n817 2022-06-06  24279  18168670    902  20220606  00:00   5022.0   21.0\n818 2022-06-07  24299  18174842    903  20220607  00:00   6172.0   20.0\n819 2022-06-08  24305  18188200    904  20220608  00:00  13358.0    6.0\n\n[820 rows x 8 columns]"
     },
     "execution_count": 28,
     "metadata": {},
     "output_type": "execute_result"
    }
   ],
   "source": [
    "# 일일확진자, 일일사망자 컬럼 추가\n",
    "\n",
    "prac0831_copy['일일사망자'] = prac0831_copy['사망자'] - prac0831_copy['사망자'].shift()\n",
    "prac0831_copy['일일확진자'] = prac0831_copy[['확진자']].diff()\n",
    "\n",
    "prac0831_copy"
   ]
  },
  {
   "cell_type": "code",
   "execution_count": null,
   "metadata": {},
   "outputs": [],
   "source": []
  }
 ],
 "metadata": {
  "kernelspec": {
   "display_name": "Python 3.8.5 64-bit",
   "metadata": {
    "interpreter": {
     "hash": "aee8b7b246df8f9039afb4144a1f6fd8d2ca17a180786b69acc140d282b71a49"
    }
   },
   "name": "python3"
  },
  "language_info": {
   "codemirror_mode": {
    "name": "ipython",
    "version": 3
   },
   "file_extension": ".py",
   "mimetype": "text/x-python",
   "name": "python",
   "nbconvert_exporter": "python",
   "pygments_lexer": "ipython3",
   "version": "3.8.5-final"
  },
  "orig_nbformat": 2
 },
 "nbformat": 4,
 "nbformat_minor": 2
}