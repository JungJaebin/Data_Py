{
 "cells": [
  {
   "cell_type": "code",
   "execution_count": 1,
   "metadata": {},
   "outputs": [],
   "source": [
    "import pandas as pd"
   ]
  },
  {
   "cell_type": "code",
   "execution_count": 2,
   "metadata": {},
   "outputs": [],
   "source": [
    "import numpy as np"
   ]
  },
  {
   "cell_type": "code",
   "execution_count": 3,
   "metadata": {},
   "outputs": [
    {
     "name": "stdout",
     "output_type": "stream",
     "text": [
      "0    1.0\n",
      "1    NaN\n",
      "2    3.0\n",
      "3    4.0\n",
      "4    5.0\n",
      "dtype: float64\n",
      "0    1.0\n",
      "1    2.0\n",
      "2    NaN\n",
      "3    4.0\n",
      "4    5.0\n",
      "dtype: float64\n",
      "0    1.0\n",
      "1    2.0\n",
      "2    3.0\n",
      "3    NaN\n",
      "4    5.0\n",
      "dtype: float64\n"
     ]
    }
   ],
   "source": [
    "# 결측지\n",
    "\n",
    "s1 = pd.Series([1, np.nan, 3, 4, 5])\n",
    "s2 = pd.Series([1, 2, np.nan, 4, 5])\n",
    "s3 = pd.Series([1, 2, 3, np.nan, 5])\n",
    "\n",
    "print(s1)\n",
    "print(s2)\n",
    "print(s3)"
   ]
  },
  {
   "cell_type": "code",
   "execution_count": 4,
   "metadata": {},
   "outputs": [
    {
     "data": {
      "text/html": "<div>\n<style scoped>\n    .dataframe tbody tr th:only-of-type {\n        vertical-align: middle;\n    }\n\n    .dataframe tbody tr th {\n        vertical-align: top;\n    }\n\n    .dataframe thead th {\n        text-align: right;\n    }\n</style>\n<table border=\"1\" class=\"dataframe\">\n  <thead>\n    <tr style=\"text-align: right;\">\n      <th></th>\n      <th>S1</th>\n      <th>S2</th>\n      <th>S3</th>\n    </tr>\n  </thead>\n  <tbody>\n    <tr>\n      <th>0</th>\n      <td>1.0</td>\n      <td>1.0</td>\n      <td>1.0</td>\n    </tr>\n    <tr>\n      <th>1</th>\n      <td>NaN</td>\n      <td>2.0</td>\n      <td>2.0</td>\n    </tr>\n    <tr>\n      <th>2</th>\n      <td>3.0</td>\n      <td>NaN</td>\n      <td>3.0</td>\n    </tr>\n    <tr>\n      <th>3</th>\n      <td>4.0</td>\n      <td>4.0</td>\n      <td>NaN</td>\n    </tr>\n    <tr>\n      <th>4</th>\n      <td>5.0</td>\n      <td>5.0</td>\n      <td>5.0</td>\n    </tr>\n  </tbody>\n</table>\n</div>",
      "text/plain": "    S1   S2   S3\n0  1.0  1.0  1.0\n1  NaN  2.0  2.0\n2  3.0  NaN  3.0\n3  4.0  4.0  NaN\n4  5.0  5.0  5.0"
     },
     "execution_count": 4,
     "metadata": {},
     "output_type": "execute_result"
    }
   ],
   "source": [
    "# Series를 합쳐서 DataFrame 형태 변환\n",
    "\n",
    "df = pd.DataFrame({\n",
    "    'S1' : s1,\n",
    "    'S2' : s2,\n",
    "    'S3' : s3\n",
    "})\n",
    "\n",
    "df"
   ]
  },
  {
   "cell_type": "code",
   "execution_count": 5,
   "metadata": {},
   "outputs": [
    {
     "data": {
      "text/html": "<div>\n<style scoped>\n    .dataframe tbody tr th:only-of-type {\n        vertical-align: middle;\n    }\n\n    .dataframe tbody tr th {\n        vertical-align: top;\n    }\n\n    .dataframe thead th {\n        text-align: right;\n    }\n</style>\n<table border=\"1\" class=\"dataframe\">\n  <thead>\n    <tr style=\"text-align: right;\">\n      <th></th>\n      <th>S1</th>\n      <th>S2</th>\n      <th>S3</th>\n    </tr>\n  </thead>\n  <tbody>\n    <tr>\n      <th>0</th>\n      <td>False</td>\n      <td>False</td>\n      <td>False</td>\n    </tr>\n    <tr>\n      <th>1</th>\n      <td>True</td>\n      <td>False</td>\n      <td>False</td>\n    </tr>\n    <tr>\n      <th>2</th>\n      <td>False</td>\n      <td>True</td>\n      <td>False</td>\n    </tr>\n    <tr>\n      <th>3</th>\n      <td>False</td>\n      <td>False</td>\n      <td>True</td>\n    </tr>\n    <tr>\n      <th>4</th>\n      <td>False</td>\n      <td>False</td>\n      <td>False</td>\n    </tr>\n  </tbody>\n</table>\n</div>",
      "text/plain": "      S1     S2     S3\n0  False  False  False\n1   True  False  False\n2  False   True  False\n3  False  False   True\n4  False  False  False"
     },
     "execution_count": 5,
     "metadata": {},
     "output_type": "execute_result"
    }
   ],
   "source": [
    "#결측치를 체크 = isna() - 결측치가 아닌 값은 False로 룰력\n",
    "\n",
    "df.isna()"
   ]
  },
  {
   "cell_type": "code",
   "execution_count": 6,
   "metadata": {},
   "outputs": [
    {
     "data": {
      "text/plain": "S1    1\nS2    1\nS3    1\ndtype: int64"
     },
     "execution_count": 6,
     "metadata": {},
     "output_type": "execute_result"
    }
   ],
   "source": [
    "df.isna().sum()     # 결측치 검사 후 결측치의 개수 표시"
   ]
  },
  {
   "cell_type": "code",
   "execution_count": 7,
   "metadata": {},
   "outputs": [
    {
     "data": {
      "text/html": "<div>\n<style scoped>\n    .dataframe tbody tr th:only-of-type {\n        vertical-align: middle;\n    }\n\n    .dataframe tbody tr th {\n        vertical-align: top;\n    }\n\n    .dataframe thead th {\n        text-align: right;\n    }\n</style>\n<table border=\"1\" class=\"dataframe\">\n  <thead>\n    <tr style=\"text-align: right;\">\n      <th></th>\n      <th>S1</th>\n      <th>S2</th>\n      <th>S3</th>\n    </tr>\n  </thead>\n  <tbody>\n    <tr>\n      <th>0</th>\n      <td>1.0</td>\n      <td>1.0</td>\n      <td>1.0</td>\n    </tr>\n    <tr>\n      <th>4</th>\n      <td>5.0</td>\n      <td>5.0</td>\n      <td>5.0</td>\n    </tr>\n  </tbody>\n</table>\n</div>",
      "text/plain": "    S1   S2   S3\n0  1.0  1.0  1.0\n4  5.0  5.0  5.0"
     },
     "execution_count": 7,
     "metadata": {},
     "output_type": "execute_result"
    }
   ],
   "source": [
    "# dropna()함수는 결측치가 존재하는 행이나 열을 삭제\n",
    "# axis = 0은 행을 기준으로 삭제\n",
    "# axis = 1은 열을 기준으로 삭제\n",
    "# rows, columns 사용이 가능\n",
    "\n",
    "# df.dropna(axis = 1)\n",
    "df.dropna(axis = 'rows')"
   ]
  },
  {
   "cell_type": "code",
   "execution_count": 8,
   "metadata": {},
   "outputs": [
    {
     "data": {
      "text/html": "<div>\n<style scoped>\n    .dataframe tbody tr th:only-of-type {\n        vertical-align: middle;\n    }\n\n    .dataframe tbody tr th {\n        vertical-align: top;\n    }\n\n    .dataframe thead th {\n        text-align: right;\n    }\n</style>\n<table border=\"1\" class=\"dataframe\">\n  <thead>\n    <tr style=\"text-align: right;\">\n      <th></th>\n      <th>S1</th>\n      <th>S2</th>\n      <th>S3</th>\n    </tr>\n  </thead>\n  <tbody>\n    <tr>\n      <th>count</th>\n      <td>4.000000</td>\n      <td>4.000000</td>\n      <td>4.000000</td>\n    </tr>\n    <tr>\n      <th>mean</th>\n      <td>3.250000</td>\n      <td>3.000000</td>\n      <td>2.750000</td>\n    </tr>\n    <tr>\n      <th>std</th>\n      <td>1.707825</td>\n      <td>1.825742</td>\n      <td>1.707825</td>\n    </tr>\n    <tr>\n      <th>min</th>\n      <td>1.000000</td>\n      <td>1.000000</td>\n      <td>1.000000</td>\n    </tr>\n    <tr>\n      <th>25%</th>\n      <td>2.500000</td>\n      <td>1.750000</td>\n      <td>1.750000</td>\n    </tr>\n    <tr>\n      <th>50%</th>\n      <td>3.500000</td>\n      <td>3.000000</td>\n      <td>2.500000</td>\n    </tr>\n    <tr>\n      <th>75%</th>\n      <td>4.250000</td>\n      <td>4.250000</td>\n      <td>3.500000</td>\n    </tr>\n    <tr>\n      <th>max</th>\n      <td>5.000000</td>\n      <td>5.000000</td>\n      <td>5.000000</td>\n    </tr>\n  </tbody>\n</table>\n</div>",
      "text/plain": "             S1        S2        S3\ncount  4.000000  4.000000  4.000000\nmean   3.250000  3.000000  2.750000\nstd    1.707825  1.825742  1.707825\nmin    1.000000  1.000000  1.000000\n25%    2.500000  1.750000  1.750000\n50%    3.500000  3.000000  2.500000\n75%    4.250000  4.250000  3.500000\nmax    5.000000  5.000000  5.000000"
     },
     "execution_count": 8,
     "metadata": {},
     "output_type": "execute_result"
    }
   ],
   "source": [
    "df.describe()"
   ]
  },
  {
   "cell_type": "code",
   "execution_count": 48,
   "metadata": {},
   "outputs": [
    {
     "data": {
      "text/html": "<div>\n<style scoped>\n    .dataframe tbody tr th:only-of-type {\n        vertical-align: middle;\n    }\n\n    .dataframe tbody tr th {\n        vertical-align: top;\n    }\n\n    .dataframe thead th {\n        text-align: right;\n    }\n</style>\n<table border=\"1\" class=\"dataframe\">\n  <thead>\n    <tr style=\"text-align: right;\">\n      <th></th>\n      <th>Region</th>\n      <th>Country</th>\n      <th>Item Type</th>\n      <th>Sales Channel</th>\n      <th>Order Priority</th>\n      <th>Order Date</th>\n      <th>Order ID</th>\n      <th>Ship Date</th>\n      <th>Units Sold</th>\n      <th>Unit Price</th>\n      <th>Unit Cost</th>\n      <th>Total Revenue</th>\n      <th>Total Cost</th>\n      <th>Total Profit</th>\n    </tr>\n  </thead>\n  <tbody>\n    <tr>\n      <th>0</th>\n      <td>Sub-Saharan Africa</td>\n      <td>Chad</td>\n      <td>Office Supplies</td>\n      <td>Online</td>\n      <td>L</td>\n      <td>1/27/2011</td>\n      <td>292494523</td>\n      <td>2/12/2011</td>\n      <td>4484</td>\n      <td>651.21</td>\n      <td>524.96</td>\n      <td>2920025.64</td>\n      <td>2353920.64</td>\n      <td>566105.00</td>\n    </tr>\n    <tr>\n      <th>1</th>\n      <td>Europe</td>\n      <td>Latvia</td>\n      <td>Beverages</td>\n      <td>Online</td>\n      <td>C</td>\n      <td>12/28/2015</td>\n      <td>361825549</td>\n      <td>1/23/2016</td>\n      <td>1075</td>\n      <td>47.45</td>\n      <td>31.79</td>\n      <td>51008.75</td>\n      <td>34174.25</td>\n      <td>16834.50</td>\n    </tr>\n    <tr>\n      <th>2</th>\n      <td>Middle East and North Africa</td>\n      <td>Pakistan</td>\n      <td>Vegetables</td>\n      <td>Offline</td>\n      <td>C</td>\n      <td>1/13/2011</td>\n      <td>141515767</td>\n      <td>2/1/2011</td>\n      <td>6515</td>\n      <td>154.06</td>\n      <td>90.93</td>\n      <td>1003700.90</td>\n      <td>592408.95</td>\n      <td>411291.95</td>\n    </tr>\n    <tr>\n      <th>3</th>\n      <td>Sub-Saharan Africa</td>\n      <td>Democratic Republic of the Congo</td>\n      <td>Household</td>\n      <td>Online</td>\n      <td>C</td>\n      <td>9/11/2012</td>\n      <td>500364005</td>\n      <td>10/6/2012</td>\n      <td>7683</td>\n      <td>668.27</td>\n      <td>502.54</td>\n      <td>5134318.41</td>\n      <td>3861014.82</td>\n      <td>1273303.59</td>\n    </tr>\n    <tr>\n      <th>4</th>\n      <td>Europe</td>\n      <td>Czech Republic</td>\n      <td>Beverages</td>\n      <td>Online</td>\n      <td>C</td>\n      <td>10/27/2015</td>\n      <td>127481591</td>\n      <td>12/5/2015</td>\n      <td>3491</td>\n      <td>47.45</td>\n      <td>31.79</td>\n      <td>165647.95</td>\n      <td>110978.89</td>\n      <td>54669.06</td>\n    </tr>\n  </tbody>\n</table>\n</div>",
      "text/plain": "                         Region                           Country  \\\n0            Sub-Saharan Africa                              Chad   \n1                        Europe                            Latvia   \n2  Middle East and North Africa                          Pakistan   \n3            Sub-Saharan Africa  Democratic Republic of the Congo   \n4                        Europe                    Czech Republic   \n\n         Item Type Sales Channel Order Priority  Order Date   Order ID  \\\n0  Office Supplies        Online              L   1/27/2011  292494523   \n1        Beverages        Online              C  12/28/2015  361825549   \n2       Vegetables       Offline              C   1/13/2011  141515767   \n3        Household        Online              C   9/11/2012  500364005   \n4        Beverages        Online              C  10/27/2015  127481591   \n\n   Ship Date  Units Sold  Unit Price  Unit Cost  Total Revenue  Total Cost  \\\n0  2/12/2011        4484      651.21     524.96     2920025.64  2353920.64   \n1  1/23/2016        1075       47.45      31.79       51008.75    34174.25   \n2   2/1/2011        6515      154.06      90.93     1003700.90   592408.95   \n3  10/6/2012        7683      668.27     502.54     5134318.41  3861014.82   \n4  12/5/2015        3491       47.45      31.79      165647.95   110978.89   \n\n   Total Profit  \n0     566105.00  \n1      16834.50  \n2     411291.95  \n3    1273303.59  \n4      54669.06  "
     },
     "execution_count": 48,
     "metadata": {},
     "output_type": "execute_result"
    }
   ],
   "source": [
    "# 외부의 csv 파일을 데이터프레임으로 로드\n",
    "\n",
    "sales_df = pd.read_csv('../csv/Sales Records.csv')\n",
    "\n",
    "sales_df.head()"
   ]
  },
  {
   "cell_type": "code",
   "execution_count": 13,
   "metadata": {},
   "outputs": [
    {
     "data": {
      "text/plain": "Region            0\nCountry           0\nItem Type         0\nSales Channel     0\nOrder Priority    0\nOrder Date        0\nOrder ID          0\nShip Date         0\nUnits Sold        0\nUnit Price        0\nUnit Cost         0\nTotal Revenue     0\nTotal Cost        0\nTotal Profit      0\ndtype: int64"
     },
     "execution_count": 13,
     "metadata": {},
     "output_type": "execute_result"
    }
   ],
   "source": [
    "# 결측치 확인\n",
    "\n",
    "sales_df.isna().sum()"
   ]
  },
  {
   "cell_type": "code",
   "execution_count": 14,
   "metadata": {},
   "outputs": [
    {
     "data": {
      "text/html": "<div>\n<style scoped>\n    .dataframe tbody tr th:only-of-type {\n        vertical-align: middle;\n    }\n\n    .dataframe tbody tr th {\n        vertical-align: top;\n    }\n\n    .dataframe thead th {\n        text-align: right;\n    }\n</style>\n<table border=\"1\" class=\"dataframe\">\n  <thead>\n    <tr style=\"text-align: right;\">\n      <th></th>\n      <th>Order ID</th>\n      <th>Units Sold</th>\n      <th>Unit Price</th>\n      <th>Unit Cost</th>\n      <th>Total Revenue</th>\n      <th>Total Cost</th>\n      <th>Total Profit</th>\n    </tr>\n  </thead>\n  <tbody>\n    <tr>\n      <th>count</th>\n      <td>1.000000e+04</td>\n      <td>10000.000000</td>\n      <td>10000.000000</td>\n      <td>10000.000000</td>\n      <td>1.000000e+04</td>\n      <td>1.000000e+04</td>\n      <td>1.000000e+04</td>\n    </tr>\n    <tr>\n      <th>mean</th>\n      <td>5.498719e+08</td>\n      <td>5002.855900</td>\n      <td>268.143139</td>\n      <td>188.806639</td>\n      <td>1.333355e+06</td>\n      <td>9.382658e+05</td>\n      <td>3.950893e+05</td>\n    </tr>\n    <tr>\n      <th>std</th>\n      <td>2.607835e+08</td>\n      <td>2873.246454</td>\n      <td>217.944092</td>\n      <td>176.445907</td>\n      <td>1.465026e+06</td>\n      <td>1.145914e+06</td>\n      <td>3.775550e+05</td>\n    </tr>\n    <tr>\n      <th>min</th>\n      <td>1.000892e+08</td>\n      <td>2.000000</td>\n      <td>9.330000</td>\n      <td>6.920000</td>\n      <td>1.679400e+02</td>\n      <td>1.245600e+02</td>\n      <td>4.338000e+01</td>\n    </tr>\n    <tr>\n      <th>25%</th>\n      <td>3.218067e+08</td>\n      <td>2530.750000</td>\n      <td>109.280000</td>\n      <td>56.670000</td>\n      <td>2.885511e+05</td>\n      <td>1.647855e+05</td>\n      <td>9.832914e+04</td>\n    </tr>\n    <tr>\n      <th>50%</th>\n      <td>5.485663e+08</td>\n      <td>4962.000000</td>\n      <td>205.700000</td>\n      <td>117.110000</td>\n      <td>8.000512e+05</td>\n      <td>4.816058e+05</td>\n      <td>2.890990e+05</td>\n    </tr>\n    <tr>\n      <th>75%</th>\n      <td>7.759981e+08</td>\n      <td>7472.000000</td>\n      <td>437.200000</td>\n      <td>364.690000</td>\n      <td>1.819143e+06</td>\n      <td>1.183822e+06</td>\n      <td>5.664227e+05</td>\n    </tr>\n    <tr>\n      <th>max</th>\n      <td>9.999342e+08</td>\n      <td>10000.000000</td>\n      <td>668.270000</td>\n      <td>524.960000</td>\n      <td>6.680027e+06</td>\n      <td>5.241726e+06</td>\n      <td>1.738178e+06</td>\n    </tr>\n  </tbody>\n</table>\n</div>",
      "text/plain": "           Order ID    Units Sold    Unit Price     Unit Cost  Total Revenue  \\\ncount  1.000000e+04  10000.000000  10000.000000  10000.000000   1.000000e+04   \nmean   5.498719e+08   5002.855900    268.143139    188.806639   1.333355e+06   \nstd    2.607835e+08   2873.246454    217.944092    176.445907   1.465026e+06   \nmin    1.000892e+08      2.000000      9.330000      6.920000   1.679400e+02   \n25%    3.218067e+08   2530.750000    109.280000     56.670000   2.885511e+05   \n50%    5.485663e+08   4962.000000    205.700000    117.110000   8.000512e+05   \n75%    7.759981e+08   7472.000000    437.200000    364.690000   1.819143e+06   \nmax    9.999342e+08  10000.000000    668.270000    524.960000   6.680027e+06   \n\n         Total Cost  Total Profit  \ncount  1.000000e+04  1.000000e+04  \nmean   9.382658e+05  3.950893e+05  \nstd    1.145914e+06  3.775550e+05  \nmin    1.245600e+02  4.338000e+01  \n25%    1.647855e+05  9.832914e+04  \n50%    4.816058e+05  2.890990e+05  \n75%    1.183822e+06  5.664227e+05  \nmax    5.241726e+06  1.738178e+06  "
     },
     "execution_count": 14,
     "metadata": {},
     "output_type": "execute_result"
    }
   ],
   "source": [
    "sales_df.describe()"
   ]
  },
  {
   "cell_type": "code",
   "execution_count": 15,
   "metadata": {},
   "outputs": [],
   "source": [
    "# 원본 데이터를 유지\n",
    "# 새로운 변수에 데이터를 복사해서 데이터를 수정 - 데이터를 수정하는 과정에서 실수가 나는 경우 다시 원본을 복사해서 쓰기 위함\n",
    "\n",
    "sales_df_copy = sales_df.copy()"
   ]
  },
  {
   "cell_type": "code",
   "execution_count": 16,
   "metadata": {},
   "outputs": [],
   "source": [
    "df.dropna(axis = 'rows')"
   ]
  },
  {
   "cell_type": "code",
   "execution_count": 18,
   "metadata": {},
   "outputs": [
    {
     "data": {
      "text/plain": "0      2011-01-27\n1      2015-12-28\n2      2011-01-13\n3      2012-09-11\n4      2015-10-27\n          ...    \n9995   2014-07-15\n9996   2012-10-27\n9997   2013-02-14\n9998   2017-02-19\n9999   2016-04-12\nName: Order Date, Length: 10000, dtype: datetime64[ns]"
     },
     "execution_count": 18,
     "metadata": {},
     "output_type": "execute_result"
    }
   ],
   "source": [
    "sales_df_copy['Order Date']"
   ]
  },
  {
   "cell_type": "code",
   "execution_count": 23,
   "metadata": {},
   "outputs": [],
   "source": [
    "# Ship Date 컬럼의 데이터를 datetime으로 형태를 변경\n",
    "\n",
    "sales_df_copy['Ship Date'] = pd.to_datetime(sales_df_copy['Ship Date'], format = '%m/%d/%Y')"
   ]
  },
  {
   "cell_type": "code",
   "execution_count": 24,
   "metadata": {},
   "outputs": [
    {
     "data": {
      "text/plain": "0      2011-02-12\n1      2016-01-23\n2      2011-02-01\n3      2012-10-06\n4      2015-12-05\n          ...    \n9995   2014-07-31\n9996   2012-11-01\n9997   2013-03-20\n9998   2017-02-22\n9999   2016-04-16\nName: Ship Date, Length: 10000, dtype: datetime64[ns]"
     },
     "execution_count": 24,
     "metadata": {},
     "output_type": "execute_result"
    }
   ],
   "source": [
    "sales_df_copy['Ship Date']"
   ]
  },
  {
   "cell_type": "code",
   "execution_count": 26,
   "metadata": {},
   "outputs": [
    {
     "data": {
      "text/html": "<div>\n<style scoped>\n    .dataframe tbody tr th:only-of-type {\n        vertical-align: middle;\n    }\n\n    .dataframe tbody tr th {\n        vertical-align: top;\n    }\n\n    .dataframe thead th {\n        text-align: right;\n    }\n</style>\n<table border=\"1\" class=\"dataframe\">\n  <thead>\n    <tr style=\"text-align: right;\">\n      <th></th>\n      <th>Region</th>\n      <th>Country</th>\n      <th>Item Type</th>\n      <th>Sales Channel</th>\n      <th>Order Priority</th>\n      <th>Order Date</th>\n      <th>Order ID</th>\n      <th>Ship Date</th>\n      <th>Units Sold</th>\n      <th>Unit Price</th>\n      <th>Unit Cost</th>\n      <th>Total Revenue</th>\n      <th>Total Cost</th>\n      <th>Total Profit</th>\n    </tr>\n  </thead>\n  <tbody>\n    <tr>\n      <th>0</th>\n      <td>Sub-Saharan Africa</td>\n      <td>Chad</td>\n      <td>Office Supplies</td>\n      <td>Online</td>\n      <td>L</td>\n      <td>2011-01-27</td>\n      <td>292494523</td>\n      <td>2011-02-12</td>\n      <td>4484</td>\n      <td>651.21</td>\n      <td>524.96</td>\n      <td>2920025.64</td>\n      <td>2353920.64</td>\n      <td>566105.00</td>\n    </tr>\n    <tr>\n      <th>1</th>\n      <td>Europe</td>\n      <td>Latvia</td>\n      <td>Beverages</td>\n      <td>Online</td>\n      <td>C</td>\n      <td>2015-12-28</td>\n      <td>361825549</td>\n      <td>2016-01-23</td>\n      <td>1075</td>\n      <td>47.45</td>\n      <td>31.79</td>\n      <td>51008.75</td>\n      <td>34174.25</td>\n      <td>16834.50</td>\n    </tr>\n    <tr>\n      <th>2</th>\n      <td>Middle East and North Africa</td>\n      <td>Pakistan</td>\n      <td>Vegetables</td>\n      <td>Offline</td>\n      <td>C</td>\n      <td>2011-01-13</td>\n      <td>141515767</td>\n      <td>2011-02-01</td>\n      <td>6515</td>\n      <td>154.06</td>\n      <td>90.93</td>\n      <td>1003700.90</td>\n      <td>592408.95</td>\n      <td>411291.95</td>\n    </tr>\n    <tr>\n      <th>3</th>\n      <td>Sub-Saharan Africa</td>\n      <td>Democratic Republic of the Congo</td>\n      <td>Household</td>\n      <td>Online</td>\n      <td>C</td>\n      <td>2012-09-11</td>\n      <td>500364005</td>\n      <td>2012-10-06</td>\n      <td>7683</td>\n      <td>668.27</td>\n      <td>502.54</td>\n      <td>5134318.41</td>\n      <td>3861014.82</td>\n      <td>1273303.59</td>\n    </tr>\n    <tr>\n      <th>4</th>\n      <td>Europe</td>\n      <td>Czech Republic</td>\n      <td>Beverages</td>\n      <td>Online</td>\n      <td>C</td>\n      <td>2015-10-27</td>\n      <td>127481591</td>\n      <td>2015-12-05</td>\n      <td>3491</td>\n      <td>47.45</td>\n      <td>31.79</td>\n      <td>165647.95</td>\n      <td>110978.89</td>\n      <td>54669.06</td>\n    </tr>\n    <tr>\n      <th>...</th>\n      <td>...</td>\n      <td>...</td>\n      <td>...</td>\n      <td>...</td>\n      <td>...</td>\n      <td>...</td>\n      <td>...</td>\n      <td>...</td>\n      <td>...</td>\n      <td>...</td>\n      <td>...</td>\n      <td>...</td>\n      <td>...</td>\n      <td>...</td>\n    </tr>\n    <tr>\n      <th>9995</th>\n      <td>Asia</td>\n      <td>Laos</td>\n      <td>Beverages</td>\n      <td>Online</td>\n      <td>H</td>\n      <td>2014-07-15</td>\n      <td>199342048</td>\n      <td>2014-07-31</td>\n      <td>8597</td>\n      <td>47.45</td>\n      <td>31.79</td>\n      <td>407927.65</td>\n      <td>273298.63</td>\n      <td>134629.02</td>\n    </tr>\n    <tr>\n      <th>9996</th>\n      <td>Europe</td>\n      <td>Liechtenstein</td>\n      <td>Cosmetics</td>\n      <td>Online</td>\n      <td>C</td>\n      <td>2012-10-27</td>\n      <td>763044106</td>\n      <td>2012-11-01</td>\n      <td>562</td>\n      <td>437.20</td>\n      <td>263.33</td>\n      <td>245706.40</td>\n      <td>147991.46</td>\n      <td>97714.94</td>\n    </tr>\n    <tr>\n      <th>9997</th>\n      <td>Sub-Saharan Africa</td>\n      <td>Democratic Republic of the Congo</td>\n      <td>Vegetables</td>\n      <td>Offline</td>\n      <td>M</td>\n      <td>2013-02-14</td>\n      <td>848579967</td>\n      <td>2013-03-20</td>\n      <td>2524</td>\n      <td>154.06</td>\n      <td>90.93</td>\n      <td>388847.44</td>\n      <td>229507.32</td>\n      <td>159340.12</td>\n    </tr>\n    <tr>\n      <th>9998</th>\n      <td>Sub-Saharan Africa</td>\n      <td>South Africa</td>\n      <td>Meat</td>\n      <td>Online</td>\n      <td>L</td>\n      <td>2017-02-19</td>\n      <td>298185956</td>\n      <td>2017-02-22</td>\n      <td>8706</td>\n      <td>421.89</td>\n      <td>364.69</td>\n      <td>3672974.34</td>\n      <td>3174991.14</td>\n      <td>497983.20</td>\n    </tr>\n    <tr>\n      <th>9999</th>\n      <td>Asia</td>\n      <td>Mongolia</td>\n      <td>Snacks</td>\n      <td>Offline</td>\n      <td>M</td>\n      <td>2016-04-12</td>\n      <td>824410903</td>\n      <td>2016-04-16</td>\n      <td>361</td>\n      <td>152.58</td>\n      <td>97.44</td>\n      <td>55081.38</td>\n      <td>35175.84</td>\n      <td>19905.54</td>\n    </tr>\n  </tbody>\n</table>\n<p>10000 rows × 14 columns</p>\n</div>",
      "text/plain": "                            Region                           Country  \\\n0               Sub-Saharan Africa                              Chad   \n1                           Europe                            Latvia   \n2     Middle East and North Africa                          Pakistan   \n3               Sub-Saharan Africa  Democratic Republic of the Congo   \n4                           Europe                    Czech Republic   \n...                            ...                               ...   \n9995                          Asia                              Laos   \n9996                        Europe                     Liechtenstein   \n9997            Sub-Saharan Africa  Democratic Republic of the Congo   \n9998            Sub-Saharan Africa                      South Africa   \n9999                          Asia                          Mongolia   \n\n            Item Type Sales Channel Order Priority Order Date   Order ID  \\\n0     Office Supplies        Online              L 2011-01-27  292494523   \n1           Beverages        Online              C 2015-12-28  361825549   \n2          Vegetables       Offline              C 2011-01-13  141515767   \n3           Household        Online              C 2012-09-11  500364005   \n4           Beverages        Online              C 2015-10-27  127481591   \n...               ...           ...            ...        ...        ...   \n9995        Beverages        Online              H 2014-07-15  199342048   \n9996        Cosmetics        Online              C 2012-10-27  763044106   \n9997       Vegetables       Offline              M 2013-02-14  848579967   \n9998             Meat        Online              L 2017-02-19  298185956   \n9999           Snacks       Offline              M 2016-04-12  824410903   \n\n      Ship Date  Units Sold  Unit Price  Unit Cost  Total Revenue  Total Cost  \\\n0    2011-02-12        4484      651.21     524.96     2920025.64  2353920.64   \n1    2016-01-23        1075       47.45      31.79       51008.75    34174.25   \n2    2011-02-01        6515      154.06      90.93     1003700.90   592408.95   \n3    2012-10-06        7683      668.27     502.54     5134318.41  3861014.82   \n4    2015-12-05        3491       47.45      31.79      165647.95   110978.89   \n...         ...         ...         ...        ...            ...         ...   \n9995 2014-07-31        8597       47.45      31.79      407927.65   273298.63   \n9996 2012-11-01         562      437.20     263.33      245706.40   147991.46   \n9997 2013-03-20        2524      154.06      90.93      388847.44   229507.32   \n9998 2017-02-22        8706      421.89     364.69     3672974.34  3174991.14   \n9999 2016-04-16         361      152.58      97.44       55081.38    35175.84   \n\n      Total Profit  \n0        566105.00  \n1         16834.50  \n2        411291.95  \n3       1273303.59  \n4         54669.06  \n...            ...  \n9995     134629.02  \n9996      97714.94  \n9997     159340.12  \n9998     497983.20  \n9999      19905.54  \n\n[10000 rows x 14 columns]"
     },
     "execution_count": 26,
     "metadata": {},
     "output_type": "execute_result"
    }
   ],
   "source": [
    "sales_df_copy"
   ]
  },
  {
   "cell_type": "code",
   "execution_count": 30,
   "metadata": {},
   "outputs": [
    {
     "data": {
      "text/html": "<div>\n<style scoped>\n    .dataframe tbody tr th:only-of-type {\n        vertical-align: middle;\n    }\n\n    .dataframe tbody tr th {\n        vertical-align: top;\n    }\n\n    .dataframe thead th {\n        text-align: right;\n    }\n</style>\n<table border=\"1\" class=\"dataframe\">\n  <thead>\n    <tr style=\"text-align: right;\">\n      <th></th>\n      <th>권역</th>\n      <th>국가</th>\n      <th>상품종류</th>\n      <th>판매채널</th>\n      <th>우선순위</th>\n      <th>주문일자</th>\n      <th>주문ID</th>\n      <th>발송일자</th>\n      <th>판매단위</th>\n      <th>단가</th>\n      <th>원가</th>\n      <th>총수익</th>\n      <th>총비용</th>\n      <th>총이윤</th>\n    </tr>\n  </thead>\n  <tbody>\n    <tr>\n      <th>0</th>\n      <td>Sub-Saharan Africa</td>\n      <td>Chad</td>\n      <td>Office Supplies</td>\n      <td>Online</td>\n      <td>L</td>\n      <td>2011-01-27</td>\n      <td>292494523</td>\n      <td>2011-02-12</td>\n      <td>4484</td>\n      <td>651.21</td>\n      <td>524.96</td>\n      <td>2920025.64</td>\n      <td>2353920.64</td>\n      <td>566105.00</td>\n    </tr>\n    <tr>\n      <th>1</th>\n      <td>Europe</td>\n      <td>Latvia</td>\n      <td>Beverages</td>\n      <td>Online</td>\n      <td>C</td>\n      <td>2015-12-28</td>\n      <td>361825549</td>\n      <td>2016-01-23</td>\n      <td>1075</td>\n      <td>47.45</td>\n      <td>31.79</td>\n      <td>51008.75</td>\n      <td>34174.25</td>\n      <td>16834.50</td>\n    </tr>\n    <tr>\n      <th>2</th>\n      <td>Middle East and North Africa</td>\n      <td>Pakistan</td>\n      <td>Vegetables</td>\n      <td>Offline</td>\n      <td>C</td>\n      <td>2011-01-13</td>\n      <td>141515767</td>\n      <td>2011-02-01</td>\n      <td>6515</td>\n      <td>154.06</td>\n      <td>90.93</td>\n      <td>1003700.90</td>\n      <td>592408.95</td>\n      <td>411291.95</td>\n    </tr>\n    <tr>\n      <th>3</th>\n      <td>Sub-Saharan Africa</td>\n      <td>Democratic Republic of the Congo</td>\n      <td>Household</td>\n      <td>Online</td>\n      <td>C</td>\n      <td>2012-09-11</td>\n      <td>500364005</td>\n      <td>2012-10-06</td>\n      <td>7683</td>\n      <td>668.27</td>\n      <td>502.54</td>\n      <td>5134318.41</td>\n      <td>3861014.82</td>\n      <td>1273303.59</td>\n    </tr>\n    <tr>\n      <th>4</th>\n      <td>Europe</td>\n      <td>Czech Republic</td>\n      <td>Beverages</td>\n      <td>Online</td>\n      <td>C</td>\n      <td>2015-10-27</td>\n      <td>127481591</td>\n      <td>2015-12-05</td>\n      <td>3491</td>\n      <td>47.45</td>\n      <td>31.79</td>\n      <td>165647.95</td>\n      <td>110978.89</td>\n      <td>54669.06</td>\n    </tr>\n  </tbody>\n</table>\n</div>",
      "text/plain": "                             권역                                국가  \\\n0            Sub-Saharan Africa                              Chad   \n1                        Europe                            Latvia   \n2  Middle East and North Africa                          Pakistan   \n3            Sub-Saharan Africa  Democratic Republic of the Congo   \n4                        Europe                    Czech Republic   \n\n              상품종류     판매채널 우선순위       주문일자       주문ID       발송일자  판매단위  \\\n0  Office Supplies   Online    L 2011-01-27  292494523 2011-02-12  4484   \n1        Beverages   Online    C 2015-12-28  361825549 2016-01-23  1075   \n2       Vegetables  Offline    C 2011-01-13  141515767 2011-02-01  6515   \n3        Household   Online    C 2012-09-11  500364005 2012-10-06  7683   \n4        Beverages   Online    C 2015-10-27  127481591 2015-12-05  3491   \n\n       단가      원가         총수익         총비용         총이윤  \n0  651.21  524.96  2920025.64  2353920.64   566105.00  \n1   47.45   31.79    51008.75    34174.25    16834.50  \n2  154.06   90.93  1003700.90   592408.95   411291.95  \n3  668.27  502.54  5134318.41  3861014.82  1273303.59  \n4   47.45   31.79   165647.95   110978.89    54669.06  "
     },
     "execution_count": 30,
     "metadata": {},
     "output_type": "execute_result"
    }
   ],
   "source": [
    "# 컬럼의 이름을 변경\n",
    "\n",
    "sales_df_copy.columns = ['권역', '국가', '상품종류', '판매채널', '우선순위', '주문일자', '주문ID',\n",
    "                        '발송일자', '판매단위', '단가', '원가', '총수익', '총비용', '총이윤']\n",
    "\n",
    "sales_df_copy.head()"
   ]
  },
  {
   "cell_type": "code",
   "execution_count": 35,
   "metadata": {},
   "outputs": [
    {
     "name": "stdout",
     "output_type": "stream",
     "text": [
      "3.7\n"
     ]
    }
   ],
   "source": [
    "# 숫자값 반올림하는 함수\n",
    "# round(n): n의 값은 소수점 자리 수\n",
    "\n",
    "a = 3.6666\n",
    "\n",
    "print(a.__round__(1))"
   ]
  },
  {
   "cell_type": "code",
   "execution_count": 36,
   "metadata": {},
   "outputs": [
    {
     "data": {
      "text/plain": "0       525.0\n1        32.0\n2        91.0\n3       503.0\n4        32.0\n        ...  \n9995     32.0\n9996    263.0\n9997     91.0\n9998    365.0\n9999     97.0\nName: 원가, Length: 10000, dtype: float64"
     },
     "execution_count": 36,
     "metadata": {},
     "output_type": "execute_result"
    }
   ],
   "source": [
    "sales_df_copy['원가'].round(0)"
   ]
  },
  {
   "cell_type": "code",
   "execution_count": 44,
   "metadata": {},
   "outputs": [],
   "source": [
    "sales_df_copy['원가'] = sales_df_copy['원가'].round(0).astype('int')\n",
    "sales_df_copy['단가'] = sales_df_copy['단가'].round(0).astype('int')"
   ]
  },
  {
   "cell_type": "code",
   "execution_count": 45,
   "metadata": {},
   "outputs": [
    {
     "data": {
      "text/html": "<div>\n<style scoped>\n    .dataframe tbody tr th:only-of-type {\n        vertical-align: middle;\n    }\n\n    .dataframe tbody tr th {\n        vertical-align: top;\n    }\n\n    .dataframe thead th {\n        text-align: right;\n    }\n</style>\n<table border=\"1\" class=\"dataframe\">\n  <thead>\n    <tr style=\"text-align: right;\">\n      <th></th>\n      <th>권역</th>\n      <th>국가</th>\n      <th>상품종류</th>\n      <th>판매채널</th>\n      <th>우선순위</th>\n      <th>주문일자</th>\n      <th>주문ID</th>\n      <th>발송일자</th>\n      <th>판매단위</th>\n      <th>단가</th>\n      <th>원가</th>\n      <th>총수익</th>\n      <th>총비용</th>\n      <th>총이윤</th>\n    </tr>\n  </thead>\n  <tbody>\n    <tr>\n      <th>0</th>\n      <td>Sub-Saharan Africa</td>\n      <td>Chad</td>\n      <td>Office Supplies</td>\n      <td>Online</td>\n      <td>L</td>\n      <td>2011-01-27</td>\n      <td>292494523</td>\n      <td>2011-02-12</td>\n      <td>4484</td>\n      <td>651</td>\n      <td>525</td>\n      <td>2920025.64</td>\n      <td>2353920.64</td>\n      <td>566105.00</td>\n    </tr>\n    <tr>\n      <th>1</th>\n      <td>Europe</td>\n      <td>Latvia</td>\n      <td>Beverages</td>\n      <td>Online</td>\n      <td>C</td>\n      <td>2015-12-28</td>\n      <td>361825549</td>\n      <td>2016-01-23</td>\n      <td>1075</td>\n      <td>47</td>\n      <td>32</td>\n      <td>51008.75</td>\n      <td>34174.25</td>\n      <td>16834.50</td>\n    </tr>\n    <tr>\n      <th>2</th>\n      <td>Middle East and North Africa</td>\n      <td>Pakistan</td>\n      <td>Vegetables</td>\n      <td>Offline</td>\n      <td>C</td>\n      <td>2011-01-13</td>\n      <td>141515767</td>\n      <td>2011-02-01</td>\n      <td>6515</td>\n      <td>154</td>\n      <td>91</td>\n      <td>1003700.90</td>\n      <td>592408.95</td>\n      <td>411291.95</td>\n    </tr>\n    <tr>\n      <th>3</th>\n      <td>Sub-Saharan Africa</td>\n      <td>Democratic Republic of the Congo</td>\n      <td>Household</td>\n      <td>Online</td>\n      <td>C</td>\n      <td>2012-09-11</td>\n      <td>500364005</td>\n      <td>2012-10-06</td>\n      <td>7683</td>\n      <td>668</td>\n      <td>503</td>\n      <td>5134318.41</td>\n      <td>3861014.82</td>\n      <td>1273303.59</td>\n    </tr>\n    <tr>\n      <th>4</th>\n      <td>Europe</td>\n      <td>Czech Republic</td>\n      <td>Beverages</td>\n      <td>Online</td>\n      <td>C</td>\n      <td>2015-10-27</td>\n      <td>127481591</td>\n      <td>2015-12-05</td>\n      <td>3491</td>\n      <td>47</td>\n      <td>32</td>\n      <td>165647.95</td>\n      <td>110978.89</td>\n      <td>54669.06</td>\n    </tr>\n  </tbody>\n</table>\n</div>",
      "text/plain": "                             권역                                국가  \\\n0            Sub-Saharan Africa                              Chad   \n1                        Europe                            Latvia   \n2  Middle East and North Africa                          Pakistan   \n3            Sub-Saharan Africa  Democratic Republic of the Congo   \n4                        Europe                    Czech Republic   \n\n              상품종류     판매채널 우선순위       주문일자       주문ID       발송일자  판매단위   단가  \\\n0  Office Supplies   Online    L 2011-01-27  292494523 2011-02-12  4484  651   \n1        Beverages   Online    C 2015-12-28  361825549 2016-01-23  1075   47   \n2       Vegetables  Offline    C 2011-01-13  141515767 2011-02-01  6515  154   \n3        Household   Online    C 2012-09-11  500364005 2012-10-06  7683  668   \n4        Beverages   Online    C 2015-10-27  127481591 2015-12-05  3491   47   \n\n    원가         총수익         총비용         총이윤  \n0  525  2920025.64  2353920.64   566105.00  \n1   32    51008.75    34174.25    16834.50  \n2   91  1003700.90   592408.95   411291.95  \n3  503  5134318.41  3861014.82  1273303.59  \n4   32   165647.95   110978.89    54669.06  "
     },
     "execution_count": 45,
     "metadata": {},
     "output_type": "execute_result"
    }
   ],
   "source": [
    "sales_df_copy.head()"
   ]
  },
  {
   "cell_type": "code",
   "execution_count": 46,
   "metadata": {},
   "outputs": [],
   "source": [
    "# 단가라는 칼럼은 '버림'으로 해서 int형을 변경\n",
    "# astype('int')\n",
    "\n",
    "sales_df_copy['단가'] = sales_df_copy['단가'].astype('int')"
   ]
  },
  {
   "cell_type": "code",
   "execution_count": 47,
   "metadata": {},
   "outputs": [
    {
     "data": {
      "text/html": "<div>\n<style scoped>\n    .dataframe tbody tr th:only-of-type {\n        vertical-align: middle;\n    }\n\n    .dataframe tbody tr th {\n        vertical-align: top;\n    }\n\n    .dataframe thead th {\n        text-align: right;\n    }\n</style>\n<table border=\"1\" class=\"dataframe\">\n  <thead>\n    <tr style=\"text-align: right;\">\n      <th></th>\n      <th>권역</th>\n      <th>국가</th>\n      <th>상품종류</th>\n      <th>판매채널</th>\n      <th>우선순위</th>\n      <th>주문일자</th>\n      <th>주문ID</th>\n      <th>발송일자</th>\n      <th>판매단위</th>\n      <th>단가</th>\n      <th>원가</th>\n      <th>총수익</th>\n      <th>총비용</th>\n      <th>총이윤</th>\n    </tr>\n  </thead>\n  <tbody>\n    <tr>\n      <th>0</th>\n      <td>Sub-Saharan Africa</td>\n      <td>Chad</td>\n      <td>Office Supplies</td>\n      <td>Online</td>\n      <td>L</td>\n      <td>2011-01-27</td>\n      <td>292494523</td>\n      <td>2011-02-12</td>\n      <td>4484</td>\n      <td>651</td>\n      <td>525</td>\n      <td>2920025.64</td>\n      <td>2353920.64</td>\n      <td>566105.00</td>\n    </tr>\n    <tr>\n      <th>1</th>\n      <td>Europe</td>\n      <td>Latvia</td>\n      <td>Beverages</td>\n      <td>Online</td>\n      <td>C</td>\n      <td>2015-12-28</td>\n      <td>361825549</td>\n      <td>2016-01-23</td>\n      <td>1075</td>\n      <td>47</td>\n      <td>32</td>\n      <td>51008.75</td>\n      <td>34174.25</td>\n      <td>16834.50</td>\n    </tr>\n    <tr>\n      <th>2</th>\n      <td>Middle East and North Africa</td>\n      <td>Pakistan</td>\n      <td>Vegetables</td>\n      <td>Offline</td>\n      <td>C</td>\n      <td>2011-01-13</td>\n      <td>141515767</td>\n      <td>2011-02-01</td>\n      <td>6515</td>\n      <td>154</td>\n      <td>91</td>\n      <td>1003700.90</td>\n      <td>592408.95</td>\n      <td>411291.95</td>\n    </tr>\n    <tr>\n      <th>3</th>\n      <td>Sub-Saharan Africa</td>\n      <td>Democratic Republic of the Congo</td>\n      <td>Household</td>\n      <td>Online</td>\n      <td>C</td>\n      <td>2012-09-11</td>\n      <td>500364005</td>\n      <td>2012-10-06</td>\n      <td>7683</td>\n      <td>668</td>\n      <td>503</td>\n      <td>5134318.41</td>\n      <td>3861014.82</td>\n      <td>1273303.59</td>\n    </tr>\n    <tr>\n      <th>4</th>\n      <td>Europe</td>\n      <td>Czech Republic</td>\n      <td>Beverages</td>\n      <td>Online</td>\n      <td>C</td>\n      <td>2015-10-27</td>\n      <td>127481591</td>\n      <td>2015-12-05</td>\n      <td>3491</td>\n      <td>47</td>\n      <td>32</td>\n      <td>165647.95</td>\n      <td>110978.89</td>\n      <td>54669.06</td>\n    </tr>\n  </tbody>\n</table>\n</div>",
      "text/plain": "                             권역                                국가  \\\n0            Sub-Saharan Africa                              Chad   \n1                        Europe                            Latvia   \n2  Middle East and North Africa                          Pakistan   \n3            Sub-Saharan Africa  Democratic Republic of the Congo   \n4                        Europe                    Czech Republic   \n\n              상품종류     판매채널 우선순위       주문일자       주문ID       발송일자  판매단위   단가  \\\n0  Office Supplies   Online    L 2011-01-27  292494523 2011-02-12  4484  651   \n1        Beverages   Online    C 2015-12-28  361825549 2016-01-23  1075   47   \n2       Vegetables  Offline    C 2011-01-13  141515767 2011-02-01  6515  154   \n3        Household   Online    C 2012-09-11  500364005 2012-10-06  7683  668   \n4        Beverages   Online    C 2015-10-27  127481591 2015-12-05  3491   47   \n\n    원가         총수익         총비용         총이윤  \n0  525  2920025.64  2353920.64   566105.00  \n1   32    51008.75    34174.25    16834.50  \n2   91  1003700.90   592408.95   411291.95  \n3  503  5134318.41  3861014.82  1273303.59  \n4   32   165647.95   110978.89    54669.06  "
     },
     "execution_count": 47,
     "metadata": {},
     "output_type": "execute_result"
    }
   ],
   "source": [
    "sales_df_copy.head()"
   ]
  },
  {
   "cell_type": "code",
   "execution_count": 50,
   "metadata": {},
   "outputs": [],
   "source": [
    "# 총수익, 총비용, 총이윤 3개의 칼럼의 값들은 반올림하여 int형을 데이터로 변경\n",
    "\n",
    "sales_df_copy[['총수익', '총비용', '총이윤']] = sales_df_copy[['총수익', '총비용', '총이윤']].round(-1).astype('int')"
   ]
  },
  {
   "cell_type": "code",
   "execution_count": 52,
   "metadata": {},
   "outputs": [
    {
     "data": {
      "text/html": "<div>\n<style scoped>\n    .dataframe tbody tr th:only-of-type {\n        vertical-align: middle;\n    }\n\n    .dataframe tbody tr th {\n        vertical-align: top;\n    }\n\n    .dataframe thead th {\n        text-align: right;\n    }\n</style>\n<table border=\"1\" class=\"dataframe\">\n  <thead>\n    <tr style=\"text-align: right;\">\n      <th></th>\n      <th>권역</th>\n      <th>국가</th>\n      <th>상품종류</th>\n      <th>판매채널</th>\n      <th>우선순위</th>\n      <th>주문일자</th>\n      <th>주문ID</th>\n      <th>발송일자</th>\n      <th>판매단위</th>\n      <th>단가</th>\n      <th>원가</th>\n      <th>총수익</th>\n      <th>총비용</th>\n      <th>총이윤</th>\n    </tr>\n  </thead>\n  <tbody>\n    <tr>\n      <th>0</th>\n      <td>Sub-Saharan Africa</td>\n      <td>Chad</td>\n      <td>Office Supplies</td>\n      <td>Online</td>\n      <td>L</td>\n      <td>2011-01-27</td>\n      <td>292494523</td>\n      <td>2011-02-12</td>\n      <td>4484</td>\n      <td>651</td>\n      <td>525</td>\n      <td>2920030</td>\n      <td>2353920</td>\n      <td>566100</td>\n    </tr>\n    <tr>\n      <th>1</th>\n      <td>Europe</td>\n      <td>Latvia</td>\n      <td>Beverages</td>\n      <td>Online</td>\n      <td>C</td>\n      <td>2015-12-28</td>\n      <td>361825549</td>\n      <td>2016-01-23</td>\n      <td>1075</td>\n      <td>47</td>\n      <td>32</td>\n      <td>51010</td>\n      <td>34170</td>\n      <td>16830</td>\n    </tr>\n    <tr>\n      <th>2</th>\n      <td>Middle East and North Africa</td>\n      <td>Pakistan</td>\n      <td>Vegetables</td>\n      <td>Offline</td>\n      <td>C</td>\n      <td>2011-01-13</td>\n      <td>141515767</td>\n      <td>2011-02-01</td>\n      <td>6515</td>\n      <td>154</td>\n      <td>91</td>\n      <td>1003700</td>\n      <td>592410</td>\n      <td>411290</td>\n    </tr>\n    <tr>\n      <th>3</th>\n      <td>Sub-Saharan Africa</td>\n      <td>Democratic Republic of the Congo</td>\n      <td>Household</td>\n      <td>Online</td>\n      <td>C</td>\n      <td>2012-09-11</td>\n      <td>500364005</td>\n      <td>2012-10-06</td>\n      <td>7683</td>\n      <td>668</td>\n      <td>503</td>\n      <td>5134320</td>\n      <td>3861010</td>\n      <td>1273300</td>\n    </tr>\n    <tr>\n      <th>4</th>\n      <td>Europe</td>\n      <td>Czech Republic</td>\n      <td>Beverages</td>\n      <td>Online</td>\n      <td>C</td>\n      <td>2015-10-27</td>\n      <td>127481591</td>\n      <td>2015-12-05</td>\n      <td>3491</td>\n      <td>47</td>\n      <td>32</td>\n      <td>165650</td>\n      <td>110980</td>\n      <td>54670</td>\n    </tr>\n  </tbody>\n</table>\n</div>",
      "text/plain": "                             권역                                국가  \\\n0            Sub-Saharan Africa                              Chad   \n1                        Europe                            Latvia   \n2  Middle East and North Africa                          Pakistan   \n3            Sub-Saharan Africa  Democratic Republic of the Congo   \n4                        Europe                    Czech Republic   \n\n              상품종류     판매채널 우선순위       주문일자       주문ID       발송일자  판매단위   단가  \\\n0  Office Supplies   Online    L 2011-01-27  292494523 2011-02-12  4484  651   \n1        Beverages   Online    C 2015-12-28  361825549 2016-01-23  1075   47   \n2       Vegetables  Offline    C 2011-01-13  141515767 2011-02-01  6515  154   \n3        Household   Online    C 2012-09-11  500364005 2012-10-06  7683  668   \n4        Beverages   Online    C 2015-10-27  127481591 2015-12-05  3491   47   \n\n    원가      총수익      총비용      총이윤  \n0  525  2920030  2353920   566100  \n1   32    51010    34170    16830  \n2   91  1003700   592410   411290  \n3  503  5134320  3861010  1273300  \n4   32   165650   110980    54670  "
     },
     "execution_count": 52,
     "metadata": {},
     "output_type": "execute_result"
    }
   ],
   "source": [
    "sales_df_copy.head()"
   ]
  },
  {
   "cell_type": "code",
   "execution_count": 53,
   "metadata": {},
   "outputs": [
    {
     "data": {
      "text/html": "<div>\n<style scoped>\n    .dataframe tbody tr th:only-of-type {\n        vertical-align: middle;\n    }\n\n    .dataframe tbody tr th {\n        vertical-align: top;\n    }\n\n    .dataframe thead th {\n        text-align: right;\n    }\n</style>\n<table border=\"1\" class=\"dataframe\">\n  <thead>\n    <tr style=\"text-align: right;\">\n      <th></th>\n      <th>단가</th>\n      <th>원가</th>\n      <th>총수익</th>\n    </tr>\n  </thead>\n  <tbody>\n    <tr>\n      <th>1</th>\n      <td>47</td>\n      <td>32</td>\n      <td>51010</td>\n    </tr>\n    <tr>\n      <th>2</th>\n      <td>154</td>\n      <td>91</td>\n      <td>1003700</td>\n    </tr>\n    <tr>\n      <th>3</th>\n      <td>668</td>\n      <td>503</td>\n      <td>5134320</td>\n    </tr>\n  </tbody>\n</table>\n</div>",
      "text/plain": "    단가   원가      총수익\n1   47   32    51010\n2  154   91  1003700\n3  668  503  5134320"
     },
     "execution_count": 53,
     "metadata": {},
     "output_type": "execute_result"
    }
   ],
   "source": [
    "# loc[]: 특정 행이나 열을 추출할 때 사용하는 함수   ex) loc[특정 행의 수, 특정 열의 수, 열의 이름]\n",
    "# 열만 지정하고 싶은 경우 loc[ : , 열의 수 아니면 열의 이름]\n",
    "\n",
    "sales_df_copy.loc[1 : 3, \"단가\" : \"총수익\"]"
   ]
  },
  {
   "cell_type": "code",
   "execution_count": 54,
   "metadata": {},
   "outputs": [
    {
     "data": {
      "text/html": "<div>\n<style scoped>\n    .dataframe tbody tr th:only-of-type {\n        vertical-align: middle;\n    }\n\n    .dataframe tbody tr th {\n        vertical-align: top;\n    }\n\n    .dataframe thead th {\n        text-align: right;\n    }\n</style>\n<table border=\"1\" class=\"dataframe\">\n  <thead>\n    <tr style=\"text-align: right;\">\n      <th></th>\n      <th>단가</th>\n      <th>원가</th>\n      <th>총수익</th>\n    </tr>\n  </thead>\n  <tbody>\n    <tr>\n      <th>0</th>\n      <td>651</td>\n      <td>525</td>\n      <td>2920030</td>\n    </tr>\n    <tr>\n      <th>1</th>\n      <td>47</td>\n      <td>32</td>\n      <td>51010</td>\n    </tr>\n    <tr>\n      <th>2</th>\n      <td>154</td>\n      <td>91</td>\n      <td>1003700</td>\n    </tr>\n    <tr>\n      <th>3</th>\n      <td>668</td>\n      <td>503</td>\n      <td>5134320</td>\n    </tr>\n    <tr>\n      <th>4</th>\n      <td>47</td>\n      <td>32</td>\n      <td>165650</td>\n    </tr>\n    <tr>\n      <th>...</th>\n      <td>...</td>\n      <td>...</td>\n      <td>...</td>\n    </tr>\n    <tr>\n      <th>9995</th>\n      <td>47</td>\n      <td>32</td>\n      <td>407930</td>\n    </tr>\n    <tr>\n      <th>9996</th>\n      <td>437</td>\n      <td>263</td>\n      <td>245710</td>\n    </tr>\n    <tr>\n      <th>9997</th>\n      <td>154</td>\n      <td>91</td>\n      <td>388850</td>\n    </tr>\n    <tr>\n      <th>9998</th>\n      <td>422</td>\n      <td>365</td>\n      <td>3672970</td>\n    </tr>\n    <tr>\n      <th>9999</th>\n      <td>153</td>\n      <td>97</td>\n      <td>55080</td>\n    </tr>\n  </tbody>\n</table>\n<p>10000 rows × 3 columns</p>\n</div>",
      "text/plain": "       단가   원가      총수익\n0     651  525  2920030\n1      47   32    51010\n2     154   91  1003700\n3     668  503  5134320\n4      47   32   165650\n...   ...  ...      ...\n9995   47   32   407930\n9996  437  263   245710\n9997  154   91   388850\n9998  422  365  3672970\n9999  153   97    55080\n\n[10000 rows x 3 columns]"
     },
     "execution_count": 54,
     "metadata": {},
     "output_type": "execute_result"
    }
   ],
   "source": [
    "sales_df_copy.loc[:, \"단가\" : \"총수익\"]"
   ]
  },
  {
   "cell_type": "code",
   "execution_count": 57,
   "metadata": {},
   "outputs": [
    {
     "data": {
      "text/plain": "Online     5061\nOffline    4939\nName: 판매채널, dtype: int64"
     },
     "execution_count": 57,
     "metadata": {},
     "output_type": "execute_result"
    }
   ],
   "source": [
    "# 해당하는 칼럼의 데이터의 개수\n",
    "# 해당하는 칼럼의 데이터를 그룹화하여 카운트\n",
    "\n",
    "sales_df_copy[\"판매채널\"].value_counts()"
   ]
  },
  {
   "cell_type": "code",
   "execution_count": 59,
   "metadata": {},
   "outputs": [
    {
     "data": {
      "text/plain": "국가\nAfghanistan     389441.186441\nAlbania         356073.090909\nAlgeria         433840.784314\nAndorra         320267.884615\nAngola          362891.481481\n                    ...      \nVatican City    303185.714286\nVietnam         410797.017544\nYemen           354614.468085\nZambia          393958.000000\nZimbabwe        358891.694915\nName: 총이윤, Length: 185, dtype: float64"
     },
     "execution_count": 59,
     "metadata": {},
     "output_type": "execute_result"
    }
   ],
   "source": [
    "# 그룹화\n",
    "# groupby(칼럼의 이름): 칼럼의 데이터가 같은 값들끼리 그룹화하여 표시\n",
    "\n",
    "sales_df_copy.groupby('국가').mean()['총이윤']  # 국가로 묶어서 총이윤의 평균을 낸것"
   ]
  },
  {
   "cell_type": "code",
   "execution_count": 60,
   "metadata": {},
   "outputs": [
    {
     "data": {
      "text/html": "<div>\n<style scoped>\n    .dataframe tbody tr th:only-of-type {\n        vertical-align: middle;\n    }\n\n    .dataframe tbody tr th {\n        vertical-align: top;\n    }\n\n    .dataframe thead th {\n        text-align: right;\n    }\n</style>\n<table border=\"1\" class=\"dataframe\">\n  <thead>\n    <tr style=\"text-align: right;\">\n      <th></th>\n      <th>권역</th>\n      <th>국가</th>\n      <th>상품종류</th>\n      <th>판매채널</th>\n      <th>우선순위</th>\n      <th>주문일자</th>\n      <th>주문ID</th>\n      <th>발송일자</th>\n      <th>판매단위</th>\n      <th>단가</th>\n      <th>원가</th>\n      <th>총수익</th>\n      <th>총비용</th>\n      <th>총이윤</th>\n    </tr>\n  </thead>\n  <tbody>\n    <tr>\n      <th>142</th>\n      <td>Europe</td>\n      <td>United Kingdom</td>\n      <td>Meat</td>\n      <td>Online</td>\n      <td>H</td>\n      <td>2013-12-29</td>\n      <td>462706220</td>\n      <td>2014-02-03</td>\n      <td>3908</td>\n      <td>422</td>\n      <td>365</td>\n      <td>1648750</td>\n      <td>1425210</td>\n      <td>223540</td>\n    </tr>\n    <tr>\n      <th>144</th>\n      <td>Europe</td>\n      <td>United Kingdom</td>\n      <td>Office Supplies</td>\n      <td>Offline</td>\n      <td>M</td>\n      <td>2017-06-24</td>\n      <td>349245774</td>\n      <td>2017-07-10</td>\n      <td>8440</td>\n      <td>651</td>\n      <td>525</td>\n      <td>5496210</td>\n      <td>4430660</td>\n      <td>1065550</td>\n    </tr>\n    <tr>\n      <th>324</th>\n      <td>Europe</td>\n      <td>United Kingdom</td>\n      <td>Cosmetics</td>\n      <td>Online</td>\n      <td>M</td>\n      <td>2017-04-06</td>\n      <td>315704858</td>\n      <td>2017-05-17</td>\n      <td>2938</td>\n      <td>437</td>\n      <td>263</td>\n      <td>1284490</td>\n      <td>773660</td>\n      <td>510830</td>\n    </tr>\n    <tr>\n      <th>387</th>\n      <td>Europe</td>\n      <td>United Kingdom</td>\n      <td>Cosmetics</td>\n      <td>Offline</td>\n      <td>L</td>\n      <td>2016-09-14</td>\n      <td>815177237</td>\n      <td>2016-10-16</td>\n      <td>7914</td>\n      <td>437</td>\n      <td>263</td>\n      <td>3460000</td>\n      <td>2083990</td>\n      <td>1376010</td>\n    </tr>\n    <tr>\n      <th>534</th>\n      <td>Europe</td>\n      <td>United Kingdom</td>\n      <td>Clothes</td>\n      <td>Offline</td>\n      <td>H</td>\n      <td>2011-06-29</td>\n      <td>753352963</td>\n      <td>2011-08-06</td>\n      <td>2738</td>\n      <td>109</td>\n      <td>36</td>\n      <td>299210</td>\n      <td>98130</td>\n      <td>201080</td>\n    </tr>\n    <tr>\n      <th>...</th>\n      <td>...</td>\n      <td>...</td>\n      <td>...</td>\n      <td>...</td>\n      <td>...</td>\n      <td>...</td>\n      <td>...</td>\n      <td>...</td>\n      <td>...</td>\n      <td>...</td>\n      <td>...</td>\n      <td>...</td>\n      <td>...</td>\n      <td>...</td>\n    </tr>\n    <tr>\n      <th>9510</th>\n      <td>Europe</td>\n      <td>United Kingdom</td>\n      <td>Fruits</td>\n      <td>Offline</td>\n      <td>L</td>\n      <td>2010-09-07</td>\n      <td>739626920</td>\n      <td>2010-10-18</td>\n      <td>897</td>\n      <td>9</td>\n      <td>7</td>\n      <td>8370</td>\n      <td>6210</td>\n      <td>2160</td>\n    </tr>\n    <tr>\n      <th>9555</th>\n      <td>Europe</td>\n      <td>United Kingdom</td>\n      <td>Office Supplies</td>\n      <td>Online</td>\n      <td>H</td>\n      <td>2011-08-05</td>\n      <td>282319724</td>\n      <td>2011-08-18</td>\n      <td>3535</td>\n      <td>651</td>\n      <td>525</td>\n      <td>2302030</td>\n      <td>1855730</td>\n      <td>446290</td>\n    </tr>\n    <tr>\n      <th>9618</th>\n      <td>Europe</td>\n      <td>United Kingdom</td>\n      <td>Cereal</td>\n      <td>Offline</td>\n      <td>L</td>\n      <td>2012-10-22</td>\n      <td>612341725</td>\n      <td>2012-10-28</td>\n      <td>4379</td>\n      <td>206</td>\n      <td>117</td>\n      <td>900760</td>\n      <td>512820</td>\n      <td>387940</td>\n    </tr>\n    <tr>\n      <th>9865</th>\n      <td>Europe</td>\n      <td>United Kingdom</td>\n      <td>Baby Food</td>\n      <td>Offline</td>\n      <td>C</td>\n      <td>2014-02-19</td>\n      <td>871759402</td>\n      <td>2014-03-07</td>\n      <td>1834</td>\n      <td>255</td>\n      <td>159</td>\n      <td>468180</td>\n      <td>292380</td>\n      <td>175810</td>\n    </tr>\n    <tr>\n      <th>9878</th>\n      <td>Europe</td>\n      <td>United Kingdom</td>\n      <td>Beverages</td>\n      <td>Offline</td>\n      <td>C</td>\n      <td>2015-01-26</td>\n      <td>208925473</td>\n      <td>2015-02-01</td>\n      <td>4545</td>\n      <td>47</td>\n      <td>32</td>\n      <td>215660</td>\n      <td>144490</td>\n      <td>71170</td>\n    </tr>\n  </tbody>\n</table>\n<p>72 rows × 14 columns</p>\n</div>",
      "text/plain": "          권역              국가             상품종류     판매채널 우선순위       주문일자  \\\n142   Europe  United Kingdom             Meat   Online    H 2013-12-29   \n144   Europe  United Kingdom  Office Supplies  Offline    M 2017-06-24   \n324   Europe  United Kingdom        Cosmetics   Online    M 2017-04-06   \n387   Europe  United Kingdom        Cosmetics  Offline    L 2016-09-14   \n534   Europe  United Kingdom          Clothes  Offline    H 2011-06-29   \n...      ...             ...              ...      ...  ...        ...   \n9510  Europe  United Kingdom           Fruits  Offline    L 2010-09-07   \n9555  Europe  United Kingdom  Office Supplies   Online    H 2011-08-05   \n9618  Europe  United Kingdom           Cereal  Offline    L 2012-10-22   \n9865  Europe  United Kingdom        Baby Food  Offline    C 2014-02-19   \n9878  Europe  United Kingdom        Beverages  Offline    C 2015-01-26   \n\n           주문ID       발송일자  판매단위   단가   원가      총수익      총비용      총이윤  \n142   462706220 2014-02-03  3908  422  365  1648750  1425210   223540  \n144   349245774 2017-07-10  8440  651  525  5496210  4430660  1065550  \n324   315704858 2017-05-17  2938  437  263  1284490   773660   510830  \n387   815177237 2016-10-16  7914  437  263  3460000  2083990  1376010  \n534   753352963 2011-08-06  2738  109   36   299210    98130   201080  \n...         ...        ...   ...  ...  ...      ...      ...      ...  \n9510  739626920 2010-10-18   897    9    7     8370     6210     2160  \n9555  282319724 2011-08-18  3535  651  525  2302030  1855730   446290  \n9618  612341725 2012-10-28  4379  206  117   900760   512820   387940  \n9865  871759402 2014-03-07  1834  255  159   468180   292380   175810  \n9878  208925473 2015-02-01  4545   47   32   215660   144490    71170  \n\n[72 rows x 14 columns]"
     },
     "execution_count": 60,
     "metadata": {},
     "output_type": "execute_result"
    }
   ],
   "source": [
    "sales_df_copy.groupby('국가').get_group('United Kingdom')"
   ]
  },
  {
   "cell_type": "code",
   "execution_count": 61,
   "metadata": {},
   "outputs": [
    {
     "data": {
      "text/html": "<div>\n<style scoped>\n    .dataframe tbody tr th:only-of-type {\n        vertical-align: middle;\n    }\n\n    .dataframe tbody tr th {\n        vertical-align: top;\n    }\n\n    .dataframe thead th {\n        text-align: right;\n    }\n</style>\n<table border=\"1\" class=\"dataframe\">\n  <thead>\n    <tr style=\"text-align: right;\">\n      <th></th>\n      <th>권역</th>\n      <th>국가</th>\n      <th>상품종류</th>\n      <th>판매채널</th>\n      <th>우선순위</th>\n      <th>주문일자</th>\n      <th>주문ID</th>\n      <th>발송일자</th>\n      <th>판매단위</th>\n      <th>단가</th>\n      <th>원가</th>\n      <th>총수익</th>\n      <th>총비용</th>\n      <th>총이윤</th>\n    </tr>\n  </thead>\n  <tbody>\n    <tr>\n      <th>4535</th>\n      <td>Sub-Saharan Africa</td>\n      <td>Central African Republic</td>\n      <td>Vegetables</td>\n      <td>Online</td>\n      <td>H</td>\n      <td>2010-01-01</td>\n      <td>506209075</td>\n      <td>2010-02-04</td>\n      <td>7369</td>\n      <td>154</td>\n      <td>91</td>\n      <td>1135270</td>\n      <td>670060</td>\n      <td>465200</td>\n    </tr>\n    <tr>\n      <th>5104</th>\n      <td>Asia</td>\n      <td>China</td>\n      <td>Cereal</td>\n      <td>Online</td>\n      <td>C</td>\n      <td>2010-01-01</td>\n      <td>863776719</td>\n      <td>2010-02-10</td>\n      <td>9581</td>\n      <td>206</td>\n      <td>117</td>\n      <td>1970810</td>\n      <td>1122030</td>\n      <td>848780</td>\n    </tr>\n    <tr>\n      <th>4193</th>\n      <td>Europe</td>\n      <td>Sweden</td>\n      <td>Clothes</td>\n      <td>Online</td>\n      <td>H</td>\n      <td>2010-01-02</td>\n      <td>907228076</td>\n      <td>2010-02-21</td>\n      <td>7803</td>\n      <td>109</td>\n      <td>36</td>\n      <td>852710</td>\n      <td>279660</td>\n      <td>573050</td>\n    </tr>\n    <tr>\n      <th>7005</th>\n      <td>Sub-Saharan Africa</td>\n      <td>Equatorial Guinea</td>\n      <td>Snacks</td>\n      <td>Offline</td>\n      <td>M</td>\n      <td>2010-01-02</td>\n      <td>335552775</td>\n      <td>2010-02-12</td>\n      <td>6378</td>\n      <td>153</td>\n      <td>97</td>\n      <td>973160</td>\n      <td>621470</td>\n      <td>351680</td>\n    </tr>\n    <tr>\n      <th>9127</th>\n      <td>Asia</td>\n      <td>Mongolia</td>\n      <td>Cosmetics</td>\n      <td>Offline</td>\n      <td>C</td>\n      <td>2010-01-02</td>\n      <td>695167052</td>\n      <td>2010-01-22</td>\n      <td>4234</td>\n      <td>437</td>\n      <td>263</td>\n      <td>1851100</td>\n      <td>1114940</td>\n      <td>736170</td>\n    </tr>\n    <tr>\n      <th>...</th>\n      <td>...</td>\n      <td>...</td>\n      <td>...</td>\n      <td>...</td>\n      <td>...</td>\n      <td>...</td>\n      <td>...</td>\n      <td>...</td>\n      <td>...</td>\n      <td>...</td>\n      <td>...</td>\n      <td>...</td>\n      <td>...</td>\n      <td>...</td>\n    </tr>\n    <tr>\n      <th>3234</th>\n      <td>Sub-Saharan Africa</td>\n      <td>Ghana</td>\n      <td>Snacks</td>\n      <td>Offline</td>\n      <td>C</td>\n      <td>2017-07-28</td>\n      <td>861848104</td>\n      <td>2017-09-06</td>\n      <td>8861</td>\n      <td>153</td>\n      <td>97</td>\n      <td>1352010</td>\n      <td>863420</td>\n      <td>488600</td>\n    </tr>\n    <tr>\n      <th>3232</th>\n      <td>Europe</td>\n      <td>Ireland</td>\n      <td>Vegetables</td>\n      <td>Online</td>\n      <td>H</td>\n      <td>2017-07-28</td>\n      <td>126010453</td>\n      <td>2017-09-02</td>\n      <td>8148</td>\n      <td>154</td>\n      <td>91</td>\n      <td>1255280</td>\n      <td>740900</td>\n      <td>514380</td>\n    </tr>\n    <tr>\n      <th>2012</th>\n      <td>Asia</td>\n      <td>Thailand</td>\n      <td>Cosmetics</td>\n      <td>Offline</td>\n      <td>C</td>\n      <td>2017-07-28</td>\n      <td>651951730</td>\n      <td>2017-08-07</td>\n      <td>5860</td>\n      <td>437</td>\n      <td>263</td>\n      <td>2561990</td>\n      <td>1543110</td>\n      <td>1018880</td>\n    </tr>\n    <tr>\n      <th>4420</th>\n      <td>Sub-Saharan Africa</td>\n      <td>Kenya</td>\n      <td>Baby Food</td>\n      <td>Offline</td>\n      <td>M</td>\n      <td>2017-07-28</td>\n      <td>204962670</td>\n      <td>2017-08-06</td>\n      <td>1864</td>\n      <td>255</td>\n      <td>159</td>\n      <td>475840</td>\n      <td>297160</td>\n      <td>178680</td>\n    </tr>\n    <tr>\n      <th>2003</th>\n      <td>Middle East and North Africa</td>\n      <td>Azerbaijan</td>\n      <td>Clothes</td>\n      <td>Online</td>\n      <td>H</td>\n      <td>2017-07-28</td>\n      <td>456617820</td>\n      <td>2017-07-28</td>\n      <td>2215</td>\n      <td>109</td>\n      <td>36</td>\n      <td>242060</td>\n      <td>79390</td>\n      <td>162670</td>\n    </tr>\n  </tbody>\n</table>\n<p>10000 rows × 14 columns</p>\n</div>",
      "text/plain": "                                권역                        국가        상품종류  \\\n4535            Sub-Saharan Africa  Central African Republic  Vegetables   \n5104                          Asia                     China      Cereal   \n4193                        Europe                    Sweden     Clothes   \n7005            Sub-Saharan Africa         Equatorial Guinea      Snacks   \n9127                          Asia                  Mongolia   Cosmetics   \n...                            ...                       ...         ...   \n3234            Sub-Saharan Africa                     Ghana      Snacks   \n3232                        Europe                   Ireland  Vegetables   \n2012                          Asia                  Thailand   Cosmetics   \n4420            Sub-Saharan Africa                     Kenya   Baby Food   \n2003  Middle East and North Africa                Azerbaijan     Clothes   \n\n         판매채널 우선순위       주문일자       주문ID       발송일자  판매단위   단가   원가      총수익  \\\n4535   Online    H 2010-01-01  506209075 2010-02-04  7369  154   91  1135270   \n5104   Online    C 2010-01-01  863776719 2010-02-10  9581  206  117  1970810   \n4193   Online    H 2010-01-02  907228076 2010-02-21  7803  109   36   852710   \n7005  Offline    M 2010-01-02  335552775 2010-02-12  6378  153   97   973160   \n9127  Offline    C 2010-01-02  695167052 2010-01-22  4234  437  263  1851100   \n...       ...  ...        ...        ...        ...   ...  ...  ...      ...   \n3234  Offline    C 2017-07-28  861848104 2017-09-06  8861  153   97  1352010   \n3232   Online    H 2017-07-28  126010453 2017-09-02  8148  154   91  1255280   \n2012  Offline    C 2017-07-28  651951730 2017-08-07  5860  437  263  2561990   \n4420  Offline    M 2017-07-28  204962670 2017-08-06  1864  255  159   475840   \n2003   Online    H 2017-07-28  456617820 2017-07-28  2215  109   36   242060   \n\n          총비용      총이윤  \n4535   670060   465200  \n5104  1122030   848780  \n4193   279660   573050  \n7005   621470   351680  \n9127  1114940   736170  \n...       ...      ...  \n3234   863420   488600  \n3232   740900   514380  \n2012  1543110  1018880  \n4420   297160   178680  \n2003    79390   162670  \n\n[10000 rows x 14 columns]"
     },
     "execution_count": 61,
     "metadata": {},
     "output_type": "execute_result"
    }
   ],
   "source": [
    "# 데이터프레임의 정렬\n",
    "# sort_values()는 기본적으로 오름차순 정렬\n",
    "# sort_values(기준이 되는 칼럼의 이름, 옵션)\n",
    "# 옵션 ascending = bool\n",
    "# True = 오름차순 정렬(기본값), False = 내림차순 정렬\n",
    "\n",
    "sales_df_copy.sort_values(\"주문일자\")"
   ]
  },
  {
   "cell_type": "code",
   "execution_count": 63,
   "metadata": {},
   "outputs": [
    {
     "data": {
      "text/html": "<div>\n<style scoped>\n    .dataframe tbody tr th:only-of-type {\n        vertical-align: middle;\n    }\n\n    .dataframe tbody tr th {\n        vertical-align: top;\n    }\n\n    .dataframe thead th {\n        text-align: right;\n    }\n</style>\n<table border=\"1\" class=\"dataframe\">\n  <thead>\n    <tr style=\"text-align: right;\">\n      <th></th>\n      <th>권역</th>\n      <th>국가</th>\n      <th>상품종류</th>\n      <th>판매채널</th>\n      <th>우선순위</th>\n      <th>주문일자</th>\n      <th>주문ID</th>\n      <th>발송일자</th>\n      <th>판매단위</th>\n      <th>단가</th>\n      <th>원가</th>\n      <th>총수익</th>\n      <th>총비용</th>\n      <th>총이윤</th>\n    </tr>\n  </thead>\n  <tbody>\n    <tr>\n      <th>3232</th>\n      <td>Europe</td>\n      <td>Ireland</td>\n      <td>Vegetables</td>\n      <td>Online</td>\n      <td>H</td>\n      <td>2017-07-28</td>\n      <td>126010453</td>\n      <td>2017-09-02</td>\n      <td>8148</td>\n      <td>154</td>\n      <td>91</td>\n      <td>1255280</td>\n      <td>740900</td>\n      <td>514380</td>\n    </tr>\n    <tr>\n      <th>2003</th>\n      <td>Middle East and North Africa</td>\n      <td>Azerbaijan</td>\n      <td>Clothes</td>\n      <td>Online</td>\n      <td>H</td>\n      <td>2017-07-28</td>\n      <td>456617820</td>\n      <td>2017-07-28</td>\n      <td>2215</td>\n      <td>109</td>\n      <td>36</td>\n      <td>242060</td>\n      <td>79390</td>\n      <td>162670</td>\n    </tr>\n    <tr>\n      <th>3234</th>\n      <td>Sub-Saharan Africa</td>\n      <td>Ghana</td>\n      <td>Snacks</td>\n      <td>Offline</td>\n      <td>C</td>\n      <td>2017-07-28</td>\n      <td>861848104</td>\n      <td>2017-09-06</td>\n      <td>8861</td>\n      <td>153</td>\n      <td>97</td>\n      <td>1352010</td>\n      <td>863420</td>\n      <td>488600</td>\n    </tr>\n    <tr>\n      <th>1930</th>\n      <td>Australia and Oceania</td>\n      <td>Tonga</td>\n      <td>Personal Care</td>\n      <td>Offline</td>\n      <td>L</td>\n      <td>2017-07-28</td>\n      <td>134433019</td>\n      <td>2017-08-30</td>\n      <td>572</td>\n      <td>82</td>\n      <td>57</td>\n      <td>46750</td>\n      <td>32420</td>\n      <td>14330</td>\n    </tr>\n    <tr>\n      <th>76</th>\n      <td>Sub-Saharan Africa</td>\n      <td>Senegal</td>\n      <td>Fruits</td>\n      <td>Offline</td>\n      <td>H</td>\n      <td>2017-07-28</td>\n      <td>672654092</td>\n      <td>2017-07-31</td>\n      <td>2148</td>\n      <td>9</td>\n      <td>7</td>\n      <td>20040</td>\n      <td>14860</td>\n      <td>5180</td>\n    </tr>\n    <tr>\n      <th>...</th>\n      <td>...</td>\n      <td>...</td>\n      <td>...</td>\n      <td>...</td>\n      <td>...</td>\n      <td>...</td>\n      <td>...</td>\n      <td>...</td>\n      <td>...</td>\n      <td>...</td>\n      <td>...</td>\n      <td>...</td>\n      <td>...</td>\n      <td>...</td>\n    </tr>\n    <tr>\n      <th>9127</th>\n      <td>Asia</td>\n      <td>Mongolia</td>\n      <td>Cosmetics</td>\n      <td>Offline</td>\n      <td>C</td>\n      <td>2010-01-02</td>\n      <td>695167052</td>\n      <td>2010-01-22</td>\n      <td>4234</td>\n      <td>437</td>\n      <td>263</td>\n      <td>1851100</td>\n      <td>1114940</td>\n      <td>736170</td>\n    </tr>\n    <tr>\n      <th>4193</th>\n      <td>Europe</td>\n      <td>Sweden</td>\n      <td>Clothes</td>\n      <td>Online</td>\n      <td>H</td>\n      <td>2010-01-02</td>\n      <td>907228076</td>\n      <td>2010-02-21</td>\n      <td>7803</td>\n      <td>109</td>\n      <td>36</td>\n      <td>852710</td>\n      <td>279660</td>\n      <td>573050</td>\n    </tr>\n    <tr>\n      <th>7005</th>\n      <td>Sub-Saharan Africa</td>\n      <td>Equatorial Guinea</td>\n      <td>Snacks</td>\n      <td>Offline</td>\n      <td>M</td>\n      <td>2010-01-02</td>\n      <td>335552775</td>\n      <td>2010-02-12</td>\n      <td>6378</td>\n      <td>153</td>\n      <td>97</td>\n      <td>973160</td>\n      <td>621470</td>\n      <td>351680</td>\n    </tr>\n    <tr>\n      <th>5104</th>\n      <td>Asia</td>\n      <td>China</td>\n      <td>Cereal</td>\n      <td>Online</td>\n      <td>C</td>\n      <td>2010-01-01</td>\n      <td>863776719</td>\n      <td>2010-02-10</td>\n      <td>9581</td>\n      <td>206</td>\n      <td>117</td>\n      <td>1970810</td>\n      <td>1122030</td>\n      <td>848780</td>\n    </tr>\n    <tr>\n      <th>4535</th>\n      <td>Sub-Saharan Africa</td>\n      <td>Central African Republic</td>\n      <td>Vegetables</td>\n      <td>Online</td>\n      <td>H</td>\n      <td>2010-01-01</td>\n      <td>506209075</td>\n      <td>2010-02-04</td>\n      <td>7369</td>\n      <td>154</td>\n      <td>91</td>\n      <td>1135270</td>\n      <td>670060</td>\n      <td>465200</td>\n    </tr>\n  </tbody>\n</table>\n<p>10000 rows × 14 columns</p>\n</div>",
      "text/plain": "                                권역                        국가           상품종류  \\\n3232                        Europe                   Ireland     Vegetables   \n2003  Middle East and North Africa                Azerbaijan        Clothes   \n3234            Sub-Saharan Africa                     Ghana         Snacks   \n1930         Australia and Oceania                     Tonga  Personal Care   \n76              Sub-Saharan Africa                   Senegal         Fruits   \n...                            ...                       ...            ...   \n9127                          Asia                  Mongolia      Cosmetics   \n4193                        Europe                    Sweden        Clothes   \n7005            Sub-Saharan Africa         Equatorial Guinea         Snacks   \n5104                          Asia                     China         Cereal   \n4535            Sub-Saharan Africa  Central African Republic     Vegetables   \n\n         판매채널 우선순위       주문일자       주문ID       발송일자  판매단위   단가   원가      총수익  \\\n3232   Online    H 2017-07-28  126010453 2017-09-02  8148  154   91  1255280   \n2003   Online    H 2017-07-28  456617820 2017-07-28  2215  109   36   242060   \n3234  Offline    C 2017-07-28  861848104 2017-09-06  8861  153   97  1352010   \n1930  Offline    L 2017-07-28  134433019 2017-08-30   572   82   57    46750   \n76    Offline    H 2017-07-28  672654092 2017-07-31  2148    9    7    20040   \n...       ...  ...        ...        ...        ...   ...  ...  ...      ...   \n9127  Offline    C 2010-01-02  695167052 2010-01-22  4234  437  263  1851100   \n4193   Online    H 2010-01-02  907228076 2010-02-21  7803  109   36   852710   \n7005  Offline    M 2010-01-02  335552775 2010-02-12  6378  153   97   973160   \n5104   Online    C 2010-01-01  863776719 2010-02-10  9581  206  117  1970810   \n4535   Online    H 2010-01-01  506209075 2010-02-04  7369  154   91  1135270   \n\n          총비용     총이윤  \n3232   740900  514380  \n2003    79390  162670  \n3234   863420  488600  \n1930    32420   14330  \n76      14860    5180  \n...       ...     ...  \n9127  1114940  736170  \n4193   279660  573050  \n7005   621470  351680  \n5104  1122030  848780  \n4535   670060  465200  \n\n[10000 rows x 14 columns]"
     },
     "execution_count": 63,
     "metadata": {},
     "output_type": "execute_result"
    }
   ],
   "source": [
    "# sales_df_copy 발송일자를 기준으로 내림차순 정렬\n",
    "\n",
    "sales_df_copy.sort_values(\"주문일자\", ascending = False)"
   ]
  },
  {
   "cell_type": "code",
   "execution_count": 64,
   "metadata": {},
   "outputs": [
    {
     "data": {
      "text/html": "<div>\n<style scoped>\n    .dataframe tbody tr th:only-of-type {\n        vertical-align: middle;\n    }\n\n    .dataframe tbody tr th {\n        vertical-align: top;\n    }\n\n    .dataframe thead th {\n        text-align: right;\n    }\n</style>\n<table border=\"1\" class=\"dataframe\">\n  <thead>\n    <tr style=\"text-align: right;\">\n      <th></th>\n      <th>권역</th>\n      <th>국가</th>\n      <th>상품종류</th>\n      <th>판매채널</th>\n      <th>우선순위</th>\n      <th>주문일자</th>\n      <th>주문ID</th>\n      <th>발송일자</th>\n      <th>판매단위</th>\n      <th>단가</th>\n      <th>원가</th>\n      <th>총수익</th>\n      <th>총비용</th>\n      <th>총이윤</th>\n    </tr>\n  </thead>\n  <tbody>\n    <tr>\n      <th>36</th>\n      <td>Asia</td>\n      <td>Bangladesh</td>\n      <td>Personal Care</td>\n      <td>Online</td>\n      <td>L</td>\n      <td>2016-12-11</td>\n      <td>246147668</td>\n      <td>2017-01-13</td>\n      <td>9420</td>\n      <td>82</td>\n      <td>57</td>\n      <td>769900</td>\n      <td>533830</td>\n      <td>236070</td>\n    </tr>\n    <tr>\n      <th>246</th>\n      <td>Asia</td>\n      <td>Bangladesh</td>\n      <td>Cosmetics</td>\n      <td>Offline</td>\n      <td>M</td>\n      <td>2010-07-29</td>\n      <td>897369992</td>\n      <td>2010-09-11</td>\n      <td>577</td>\n      <td>437</td>\n      <td>263</td>\n      <td>252260</td>\n      <td>151940</td>\n      <td>100320</td>\n    </tr>\n    <tr>\n      <th>446</th>\n      <td>Asia</td>\n      <td>Bangladesh</td>\n      <td>Vegetables</td>\n      <td>Offline</td>\n      <td>C</td>\n      <td>2014-04-28</td>\n      <td>338031995</td>\n      <td>2014-05-05</td>\n      <td>34</td>\n      <td>154</td>\n      <td>91</td>\n      <td>5240</td>\n      <td>3090</td>\n      <td>2150</td>\n    </tr>\n    <tr>\n      <th>569</th>\n      <td>Asia</td>\n      <td>Bangladesh</td>\n      <td>Cereal</td>\n      <td>Offline</td>\n      <td>L</td>\n      <td>2010-06-22</td>\n      <td>202657687</td>\n      <td>2010-06-28</td>\n      <td>9768</td>\n      <td>206</td>\n      <td>117</td>\n      <td>2009280</td>\n      <td>1143930</td>\n      <td>865350</td>\n    </tr>\n    <tr>\n      <th>576</th>\n      <td>Asia</td>\n      <td>Bangladesh</td>\n      <td>Office Supplies</td>\n      <td>Online</td>\n      <td>H</td>\n      <td>2013-03-20</td>\n      <td>793718278</td>\n      <td>2013-04-11</td>\n      <td>7731</td>\n      <td>651</td>\n      <td>525</td>\n      <td>5034500</td>\n      <td>4058470</td>\n      <td>976040</td>\n    </tr>\n    <tr>\n      <th>...</th>\n      <td>...</td>\n      <td>...</td>\n      <td>...</td>\n      <td>...</td>\n      <td>...</td>\n      <td>...</td>\n      <td>...</td>\n      <td>...</td>\n      <td>...</td>\n      <td>...</td>\n      <td>...</td>\n      <td>...</td>\n      <td>...</td>\n      <td>...</td>\n    </tr>\n    <tr>\n      <th>8747</th>\n      <td>Sub-Saharan Africa</td>\n      <td>Zimbabwe</td>\n      <td>Clothes</td>\n      <td>Offline</td>\n      <td>H</td>\n      <td>2013-11-27</td>\n      <td>382058417</td>\n      <td>2014-01-09</td>\n      <td>8431</td>\n      <td>109</td>\n      <td>36</td>\n      <td>921340</td>\n      <td>302170</td>\n      <td>619170</td>\n    </tr>\n    <tr>\n      <th>9025</th>\n      <td>Sub-Saharan Africa</td>\n      <td>Zimbabwe</td>\n      <td>Baby Food</td>\n      <td>Offline</td>\n      <td>M</td>\n      <td>2013-03-11</td>\n      <td>487866199</td>\n      <td>2013-03-11</td>\n      <td>9304</td>\n      <td>255</td>\n      <td>159</td>\n      <td>2375130</td>\n      <td>1483240</td>\n      <td>891880</td>\n    </tr>\n    <tr>\n      <th>9219</th>\n      <td>Sub-Saharan Africa</td>\n      <td>Zimbabwe</td>\n      <td>Clothes</td>\n      <td>Offline</td>\n      <td>H</td>\n      <td>2010-06-09</td>\n      <td>855881583</td>\n      <td>2010-07-20</td>\n      <td>3235</td>\n      <td>109</td>\n      <td>36</td>\n      <td>353520</td>\n      <td>115940</td>\n      <td>237580</td>\n    </tr>\n    <tr>\n      <th>9541</th>\n      <td>Sub-Saharan Africa</td>\n      <td>Zimbabwe</td>\n      <td>Fruits</td>\n      <td>Offline</td>\n      <td>C</td>\n      <td>2015-11-20</td>\n      <td>436287105</td>\n      <td>2015-11-27</td>\n      <td>5904</td>\n      <td>9</td>\n      <td>7</td>\n      <td>55080</td>\n      <td>40860</td>\n      <td>14230</td>\n    </tr>\n    <tr>\n      <th>9645</th>\n      <td>Sub-Saharan Africa</td>\n      <td>Zimbabwe</td>\n      <td>Cereal</td>\n      <td>Online</td>\n      <td>H</td>\n      <td>2010-02-15</td>\n      <td>243301951</td>\n      <td>2010-03-01</td>\n      <td>7309</td>\n      <td>206</td>\n      <td>117</td>\n      <td>1503460</td>\n      <td>855960</td>\n      <td>647500</td>\n    </tr>\n  </tbody>\n</table>\n<p>10000 rows × 14 columns</p>\n</div>",
      "text/plain": "                      권역          국가             상품종류     판매채널 우선순위  \\\n36                  Asia  Bangladesh    Personal Care   Online    L   \n246                 Asia  Bangladesh        Cosmetics  Offline    M   \n446                 Asia  Bangladesh       Vegetables  Offline    C   \n569                 Asia  Bangladesh           Cereal  Offline    L   \n576                 Asia  Bangladesh  Office Supplies   Online    H   \n...                  ...         ...              ...      ...  ...   \n8747  Sub-Saharan Africa    Zimbabwe          Clothes  Offline    H   \n9025  Sub-Saharan Africa    Zimbabwe        Baby Food  Offline    M   \n9219  Sub-Saharan Africa    Zimbabwe          Clothes  Offline    H   \n9541  Sub-Saharan Africa    Zimbabwe           Fruits  Offline    C   \n9645  Sub-Saharan Africa    Zimbabwe           Cereal   Online    H   \n\n           주문일자       주문ID       발송일자  판매단위   단가   원가      총수익      총비용  \\\n36   2016-12-11  246147668 2017-01-13  9420   82   57   769900   533830   \n246  2010-07-29  897369992 2010-09-11   577  437  263   252260   151940   \n446  2014-04-28  338031995 2014-05-05    34  154   91     5240     3090   \n569  2010-06-22  202657687 2010-06-28  9768  206  117  2009280  1143930   \n576  2013-03-20  793718278 2013-04-11  7731  651  525  5034500  4058470   \n...         ...        ...        ...   ...  ...  ...      ...      ...   \n8747 2013-11-27  382058417 2014-01-09  8431  109   36   921340   302170   \n9025 2013-03-11  487866199 2013-03-11  9304  255  159  2375130  1483240   \n9219 2010-06-09  855881583 2010-07-20  3235  109   36   353520   115940   \n9541 2015-11-20  436287105 2015-11-27  5904    9    7    55080    40860   \n9645 2010-02-15  243301951 2010-03-01  7309  206  117  1503460   855960   \n\n         총이윤  \n36    236070  \n246   100320  \n446     2150  \n569   865350  \n576   976040  \n...      ...  \n8747  619170  \n9025  891880  \n9219  237580  \n9541   14230  \n9645  647500  \n\n[10000 rows x 14 columns]"
     },
     "execution_count": 64,
     "metadata": {},
     "output_type": "execute_result"
    }
   ],
   "source": [
    "# 권역, 국가를 기준으로 오름차순 정렬\n",
    "\n",
    "sales_df_copy.sort_values(['권역', '국가'])"
   ]
  },
  {
   "cell_type": "code",
   "execution_count": 66,
   "metadata": {},
   "outputs": [],
   "source": [
    "# 컬럼이나 인덱스 삭제\n",
    "# axis 속성을 통하여 인덱스를 삭제할지, 컬럼을 삭제할지 지정\n",
    "# inplace 속성은 기준이 되는 데이터를 수정 할지 지정\n",
    "\n",
    "sales_df_copy.drop(['주문ID'], axis = 'columns', inplace = True)"
   ]
  },
  {
   "cell_type": "code",
   "execution_count": 67,
   "metadata": {},
   "outputs": [
    {
     "data": {
      "text/html": "<div>\n<style scoped>\n    .dataframe tbody tr th:only-of-type {\n        vertical-align: middle;\n    }\n\n    .dataframe tbody tr th {\n        vertical-align: top;\n    }\n\n    .dataframe thead th {\n        text-align: right;\n    }\n</style>\n<table border=\"1\" class=\"dataframe\">\n  <thead>\n    <tr style=\"text-align: right;\">\n      <th></th>\n      <th>권역</th>\n      <th>국가</th>\n      <th>상품종류</th>\n      <th>판매채널</th>\n      <th>우선순위</th>\n      <th>주문일자</th>\n      <th>발송일자</th>\n      <th>판매단위</th>\n      <th>단가</th>\n      <th>원가</th>\n      <th>총수익</th>\n      <th>총비용</th>\n      <th>총이윤</th>\n    </tr>\n  </thead>\n  <tbody>\n    <tr>\n      <th>0</th>\n      <td>Sub-Saharan Africa</td>\n      <td>Chad</td>\n      <td>Office Supplies</td>\n      <td>Online</td>\n      <td>L</td>\n      <td>2011-01-27</td>\n      <td>2011-02-12</td>\n      <td>4484</td>\n      <td>651</td>\n      <td>525</td>\n      <td>2920030</td>\n      <td>2353920</td>\n      <td>566100</td>\n    </tr>\n    <tr>\n      <th>1</th>\n      <td>Europe</td>\n      <td>Latvia</td>\n      <td>Beverages</td>\n      <td>Online</td>\n      <td>C</td>\n      <td>2015-12-28</td>\n      <td>2016-01-23</td>\n      <td>1075</td>\n      <td>47</td>\n      <td>32</td>\n      <td>51010</td>\n      <td>34170</td>\n      <td>16830</td>\n    </tr>\n    <tr>\n      <th>2</th>\n      <td>Middle East and North Africa</td>\n      <td>Pakistan</td>\n      <td>Vegetables</td>\n      <td>Offline</td>\n      <td>C</td>\n      <td>2011-01-13</td>\n      <td>2011-02-01</td>\n      <td>6515</td>\n      <td>154</td>\n      <td>91</td>\n      <td>1003700</td>\n      <td>592410</td>\n      <td>411290</td>\n    </tr>\n    <tr>\n      <th>3</th>\n      <td>Sub-Saharan Africa</td>\n      <td>Democratic Republic of the Congo</td>\n      <td>Household</td>\n      <td>Online</td>\n      <td>C</td>\n      <td>2012-09-11</td>\n      <td>2012-10-06</td>\n      <td>7683</td>\n      <td>668</td>\n      <td>503</td>\n      <td>5134320</td>\n      <td>3861010</td>\n      <td>1273300</td>\n    </tr>\n    <tr>\n      <th>4</th>\n      <td>Europe</td>\n      <td>Czech Republic</td>\n      <td>Beverages</td>\n      <td>Online</td>\n      <td>C</td>\n      <td>2015-10-27</td>\n      <td>2015-12-05</td>\n      <td>3491</td>\n      <td>47</td>\n      <td>32</td>\n      <td>165650</td>\n      <td>110980</td>\n      <td>54670</td>\n    </tr>\n  </tbody>\n</table>\n</div>",
      "text/plain": "                             권역                                국가  \\\n0            Sub-Saharan Africa                              Chad   \n1                        Europe                            Latvia   \n2  Middle East and North Africa                          Pakistan   \n3            Sub-Saharan Africa  Democratic Republic of the Congo   \n4                        Europe                    Czech Republic   \n\n              상품종류     판매채널 우선순위       주문일자       발송일자  판매단위   단가   원가  \\\n0  Office Supplies   Online    L 2011-01-27 2011-02-12  4484  651  525   \n1        Beverages   Online    C 2015-12-28 2016-01-23  1075   47   32   \n2       Vegetables  Offline    C 2011-01-13 2011-02-01  6515  154   91   \n3        Household   Online    C 2012-09-11 2012-10-06  7683  668  503   \n4        Beverages   Online    C 2015-10-27 2015-12-05  3491   47   32   \n\n       총수익      총비용      총이윤  \n0  2920030  2353920   566100  \n1    51010    34170    16830  \n2  1003700   592410   411290  \n3  5134320  3861010  1273300  \n4   165650   110980    54670  "
     },
     "execution_count": 67,
     "metadata": {},
     "output_type": "execute_result"
    }
   ],
   "source": [
    "sales_df_copy.head()"
   ]
  },
  {
   "cell_type": "code",
   "execution_count": 69,
   "metadata": {},
   "outputs": [],
   "source": [
    "# 인덱스의 값이 0인 행을 삭제\n",
    "\n",
    "sales_df_copy.drop([0], axis = 'rows', inplace = True)"
   ]
  },
  {
   "cell_type": "code",
   "execution_count": 70,
   "metadata": {},
   "outputs": [
    {
     "data": {
      "text/html": "<div>\n<style scoped>\n    .dataframe tbody tr th:only-of-type {\n        vertical-align: middle;\n    }\n\n    .dataframe tbody tr th {\n        vertical-align: top;\n    }\n\n    .dataframe thead th {\n        text-align: right;\n    }\n</style>\n<table border=\"1\" class=\"dataframe\">\n  <thead>\n    <tr style=\"text-align: right;\">\n      <th></th>\n      <th>권역</th>\n      <th>국가</th>\n      <th>상품종류</th>\n      <th>판매채널</th>\n      <th>우선순위</th>\n      <th>주문일자</th>\n      <th>발송일자</th>\n      <th>판매단위</th>\n      <th>단가</th>\n      <th>원가</th>\n      <th>총수익</th>\n      <th>총비용</th>\n      <th>총이윤</th>\n    </tr>\n  </thead>\n  <tbody>\n    <tr>\n      <th>1</th>\n      <td>Europe</td>\n      <td>Latvia</td>\n      <td>Beverages</td>\n      <td>Online</td>\n      <td>C</td>\n      <td>2015-12-28</td>\n      <td>2016-01-23</td>\n      <td>1075</td>\n      <td>47</td>\n      <td>32</td>\n      <td>51010</td>\n      <td>34170</td>\n      <td>16830</td>\n    </tr>\n    <tr>\n      <th>2</th>\n      <td>Middle East and North Africa</td>\n      <td>Pakistan</td>\n      <td>Vegetables</td>\n      <td>Offline</td>\n      <td>C</td>\n      <td>2011-01-13</td>\n      <td>2011-02-01</td>\n      <td>6515</td>\n      <td>154</td>\n      <td>91</td>\n      <td>1003700</td>\n      <td>592410</td>\n      <td>411290</td>\n    </tr>\n    <tr>\n      <th>3</th>\n      <td>Sub-Saharan Africa</td>\n      <td>Democratic Republic of the Congo</td>\n      <td>Household</td>\n      <td>Online</td>\n      <td>C</td>\n      <td>2012-09-11</td>\n      <td>2012-10-06</td>\n      <td>7683</td>\n      <td>668</td>\n      <td>503</td>\n      <td>5134320</td>\n      <td>3861010</td>\n      <td>1273300</td>\n    </tr>\n    <tr>\n      <th>4</th>\n      <td>Europe</td>\n      <td>Czech Republic</td>\n      <td>Beverages</td>\n      <td>Online</td>\n      <td>C</td>\n      <td>2015-10-27</td>\n      <td>2015-12-05</td>\n      <td>3491</td>\n      <td>47</td>\n      <td>32</td>\n      <td>165650</td>\n      <td>110980</td>\n      <td>54670</td>\n    </tr>\n    <tr>\n      <th>5</th>\n      <td>Sub-Saharan Africa</td>\n      <td>South Africa</td>\n      <td>Beverages</td>\n      <td>Offline</td>\n      <td>H</td>\n      <td>2012-07-10</td>\n      <td>2012-08-21</td>\n      <td>9880</td>\n      <td>47</td>\n      <td>32</td>\n      <td>468810</td>\n      <td>314090</td>\n      <td>154720</td>\n    </tr>\n  </tbody>\n</table>\n</div>",
      "text/plain": "                             권역                                국가        상품종류  \\\n1                        Europe                            Latvia   Beverages   \n2  Middle East and North Africa                          Pakistan  Vegetables   \n3            Sub-Saharan Africa  Democratic Republic of the Congo   Household   \n4                        Europe                    Czech Republic   Beverages   \n5            Sub-Saharan Africa                      South Africa   Beverages   \n\n      판매채널 우선순위       주문일자       발송일자  판매단위   단가   원가      총수익      총비용  \\\n1   Online    C 2015-12-28 2016-01-23  1075   47   32    51010    34170   \n2  Offline    C 2011-01-13 2011-02-01  6515  154   91  1003700   592410   \n3   Online    C 2012-09-11 2012-10-06  7683  668  503  5134320  3861010   \n4   Online    C 2015-10-27 2015-12-05  3491   47   32   165650   110980   \n5  Offline    H 2012-07-10 2012-08-21  9880   47   32   468810   314090   \n\n       총이윤  \n1    16830  \n2   411290  \n3  1273300  \n4    54670  \n5   154720  "
     },
     "execution_count": 70,
     "metadata": {},
     "output_type": "execute_result"
    }
   ],
   "source": [
    "sales_df_copy.head()"
   ]
  },
  {
   "cell_type": "code",
   "execution_count": 71,
   "metadata": {},
   "outputs": [],
   "source": [
    "# 1. sales_df를 copy()\n",
    "# 2. Region, Country 기준으로 오름차순 정렬\n",
    "# 3. Order Priority 칼럼을 삭제\n",
    "\n",
    "# 4. 인덱스 재지정: 오름차순으로 인해 뒤섞인 인덱스를 다시 순서대로 설정\n",
    "\n",
    "\n",
    "sales_df_copy2 = sales_df.copy()"
   ]
  },
  {
   "cell_type": "code",
   "execution_count": 73,
   "metadata": {},
   "outputs": [],
   "source": [
    "sales_df_copy2 = sales_df_copy2.sort_values(['Region', 'Country'])"
   ]
  },
  {
   "cell_type": "code",
   "execution_count": 78,
   "metadata": {},
   "outputs": [
    {
     "ename": "KeyError",
     "evalue": "\"['Order Priority'] not found in axis\"",
     "output_type": "error",
     "traceback": [
      "\u001b[0;31m---------------------------------------------------------------------------\u001b[0m",
      "\u001b[0;31mKeyError\u001b[0m                                  Traceback (most recent call last)",
      "Input \u001b[0;32mIn [78]\u001b[0m, in \u001b[0;36m<cell line: 1>\u001b[0;34m()\u001b[0m\n\u001b[0;32m----> 1\u001b[0m \u001b[43msales_df_copy2\u001b[49m\u001b[38;5;241;43m.\u001b[39;49m\u001b[43mdrop\u001b[49m\u001b[43m(\u001b[49m\u001b[43m[\u001b[49m\u001b[38;5;124;43m'\u001b[39;49m\u001b[38;5;124;43mOrder Priority\u001b[39;49m\u001b[38;5;124;43m'\u001b[39;49m\u001b[43m]\u001b[49m\u001b[43m,\u001b[49m\u001b[43m \u001b[49m\u001b[43maxis\u001b[49m\u001b[43m \u001b[49m\u001b[38;5;241;43m=\u001b[39;49m\u001b[43m \u001b[49m\u001b[38;5;124;43m'\u001b[39;49m\u001b[38;5;124;43mcolumns\u001b[39;49m\u001b[38;5;124;43m'\u001b[39;49m\u001b[43m,\u001b[49m\u001b[43m \u001b[49m\u001b[43minplace\u001b[49m\u001b[43m \u001b[49m\u001b[38;5;241;43m=\u001b[39;49m\u001b[43m \u001b[49m\u001b[38;5;28;43;01mTrue\u001b[39;49;00m\u001b[43m)\u001b[49m\n",
      "File \u001b[0;32m/Library/Frameworks/Python.framework/Versions/3.10/lib/python3.10/site-packages/pandas/util/_decorators.py:311\u001b[0m, in \u001b[0;36mdeprecate_nonkeyword_arguments.<locals>.decorate.<locals>.wrapper\u001b[0;34m(*args, **kwargs)\u001b[0m\n\u001b[1;32m    305\u001b[0m \u001b[38;5;28;01mif\u001b[39;00m \u001b[38;5;28mlen\u001b[39m(args) \u001b[38;5;241m>\u001b[39m num_allow_args:\n\u001b[1;32m    306\u001b[0m     warnings\u001b[38;5;241m.\u001b[39mwarn(\n\u001b[1;32m    307\u001b[0m         msg\u001b[38;5;241m.\u001b[39mformat(arguments\u001b[38;5;241m=\u001b[39marguments),\n\u001b[1;32m    308\u001b[0m         \u001b[38;5;167;01mFutureWarning\u001b[39;00m,\n\u001b[1;32m    309\u001b[0m         stacklevel\u001b[38;5;241m=\u001b[39mstacklevel,\n\u001b[1;32m    310\u001b[0m     )\n\u001b[0;32m--> 311\u001b[0m \u001b[38;5;28;01mreturn\u001b[39;00m \u001b[43mfunc\u001b[49m\u001b[43m(\u001b[49m\u001b[38;5;241;43m*\u001b[39;49m\u001b[43margs\u001b[49m\u001b[43m,\u001b[49m\u001b[43m \u001b[49m\u001b[38;5;241;43m*\u001b[39;49m\u001b[38;5;241;43m*\u001b[39;49m\u001b[43mkwargs\u001b[49m\u001b[43m)\u001b[49m\n",
      "File \u001b[0;32m/Library/Frameworks/Python.framework/Versions/3.10/lib/python3.10/site-packages/pandas/core/frame.py:4954\u001b[0m, in \u001b[0;36mDataFrame.drop\u001b[0;34m(self, labels, axis, index, columns, level, inplace, errors)\u001b[0m\n\u001b[1;32m   4806\u001b[0m \u001b[38;5;129m@deprecate_nonkeyword_arguments\u001b[39m(version\u001b[38;5;241m=\u001b[39m\u001b[38;5;28;01mNone\u001b[39;00m, allowed_args\u001b[38;5;241m=\u001b[39m[\u001b[38;5;124m\"\u001b[39m\u001b[38;5;124mself\u001b[39m\u001b[38;5;124m\"\u001b[39m, \u001b[38;5;124m\"\u001b[39m\u001b[38;5;124mlabels\u001b[39m\u001b[38;5;124m\"\u001b[39m])\n\u001b[1;32m   4807\u001b[0m \u001b[38;5;28;01mdef\u001b[39;00m \u001b[38;5;21mdrop\u001b[39m(\n\u001b[1;32m   4808\u001b[0m     \u001b[38;5;28mself\u001b[39m,\n\u001b[0;32m   (...)\u001b[0m\n\u001b[1;32m   4815\u001b[0m     errors: \u001b[38;5;28mstr\u001b[39m \u001b[38;5;241m=\u001b[39m \u001b[38;5;124m\"\u001b[39m\u001b[38;5;124mraise\u001b[39m\u001b[38;5;124m\"\u001b[39m,\n\u001b[1;32m   4816\u001b[0m ):\n\u001b[1;32m   4817\u001b[0m     \u001b[38;5;124;03m\"\"\"\u001b[39;00m\n\u001b[1;32m   4818\u001b[0m \u001b[38;5;124;03m    Drop specified labels from rows or columns.\u001b[39;00m\n\u001b[1;32m   4819\u001b[0m \n\u001b[0;32m   (...)\u001b[0m\n\u001b[1;32m   4952\u001b[0m \u001b[38;5;124;03m            weight  1.0     0.8\u001b[39;00m\n\u001b[1;32m   4953\u001b[0m \u001b[38;5;124;03m    \"\"\"\u001b[39;00m\n\u001b[0;32m-> 4954\u001b[0m     \u001b[38;5;28;01mreturn\u001b[39;00m \u001b[38;5;28;43msuper\u001b[39;49m\u001b[43m(\u001b[49m\u001b[43m)\u001b[49m\u001b[38;5;241;43m.\u001b[39;49m\u001b[43mdrop\u001b[49m\u001b[43m(\u001b[49m\n\u001b[1;32m   4955\u001b[0m \u001b[43m        \u001b[49m\u001b[43mlabels\u001b[49m\u001b[38;5;241;43m=\u001b[39;49m\u001b[43mlabels\u001b[49m\u001b[43m,\u001b[49m\n\u001b[1;32m   4956\u001b[0m \u001b[43m        \u001b[49m\u001b[43maxis\u001b[49m\u001b[38;5;241;43m=\u001b[39;49m\u001b[43maxis\u001b[49m\u001b[43m,\u001b[49m\n\u001b[1;32m   4957\u001b[0m \u001b[43m        \u001b[49m\u001b[43mindex\u001b[49m\u001b[38;5;241;43m=\u001b[39;49m\u001b[43mindex\u001b[49m\u001b[43m,\u001b[49m\n\u001b[1;32m   4958\u001b[0m \u001b[43m        \u001b[49m\u001b[43mcolumns\u001b[49m\u001b[38;5;241;43m=\u001b[39;49m\u001b[43mcolumns\u001b[49m\u001b[43m,\u001b[49m\n\u001b[1;32m   4959\u001b[0m \u001b[43m        \u001b[49m\u001b[43mlevel\u001b[49m\u001b[38;5;241;43m=\u001b[39;49m\u001b[43mlevel\u001b[49m\u001b[43m,\u001b[49m\n\u001b[1;32m   4960\u001b[0m \u001b[43m        \u001b[49m\u001b[43minplace\u001b[49m\u001b[38;5;241;43m=\u001b[39;49m\u001b[43minplace\u001b[49m\u001b[43m,\u001b[49m\n\u001b[1;32m   4961\u001b[0m \u001b[43m        \u001b[49m\u001b[43merrors\u001b[49m\u001b[38;5;241;43m=\u001b[39;49m\u001b[43merrors\u001b[49m\u001b[43m,\u001b[49m\n\u001b[1;32m   4962\u001b[0m \u001b[43m    \u001b[49m\u001b[43m)\u001b[49m\n",
      "File \u001b[0;32m/Library/Frameworks/Python.framework/Versions/3.10/lib/python3.10/site-packages/pandas/core/generic.py:4267\u001b[0m, in \u001b[0;36mNDFrame.drop\u001b[0;34m(self, labels, axis, index, columns, level, inplace, errors)\u001b[0m\n\u001b[1;32m   4265\u001b[0m \u001b[38;5;28;01mfor\u001b[39;00m axis, labels \u001b[38;5;129;01min\u001b[39;00m axes\u001b[38;5;241m.\u001b[39mitems():\n\u001b[1;32m   4266\u001b[0m     \u001b[38;5;28;01mif\u001b[39;00m labels \u001b[38;5;129;01mis\u001b[39;00m \u001b[38;5;129;01mnot\u001b[39;00m \u001b[38;5;28;01mNone\u001b[39;00m:\n\u001b[0;32m-> 4267\u001b[0m         obj \u001b[38;5;241m=\u001b[39m \u001b[43mobj\u001b[49m\u001b[38;5;241;43m.\u001b[39;49m\u001b[43m_drop_axis\u001b[49m\u001b[43m(\u001b[49m\u001b[43mlabels\u001b[49m\u001b[43m,\u001b[49m\u001b[43m \u001b[49m\u001b[43maxis\u001b[49m\u001b[43m,\u001b[49m\u001b[43m \u001b[49m\u001b[43mlevel\u001b[49m\u001b[38;5;241;43m=\u001b[39;49m\u001b[43mlevel\u001b[49m\u001b[43m,\u001b[49m\u001b[43m \u001b[49m\u001b[43merrors\u001b[49m\u001b[38;5;241;43m=\u001b[39;49m\u001b[43merrors\u001b[49m\u001b[43m)\u001b[49m\n\u001b[1;32m   4269\u001b[0m \u001b[38;5;28;01mif\u001b[39;00m inplace:\n\u001b[1;32m   4270\u001b[0m     \u001b[38;5;28mself\u001b[39m\u001b[38;5;241m.\u001b[39m_update_inplace(obj)\n",
      "File \u001b[0;32m/Library/Frameworks/Python.framework/Versions/3.10/lib/python3.10/site-packages/pandas/core/generic.py:4311\u001b[0m, in \u001b[0;36mNDFrame._drop_axis\u001b[0;34m(self, labels, axis, level, errors, consolidate, only_slice)\u001b[0m\n\u001b[1;32m   4309\u001b[0m         new_axis \u001b[38;5;241m=\u001b[39m axis\u001b[38;5;241m.\u001b[39mdrop(labels, level\u001b[38;5;241m=\u001b[39mlevel, errors\u001b[38;5;241m=\u001b[39merrors)\n\u001b[1;32m   4310\u001b[0m     \u001b[38;5;28;01melse\u001b[39;00m:\n\u001b[0;32m-> 4311\u001b[0m         new_axis \u001b[38;5;241m=\u001b[39m \u001b[43maxis\u001b[49m\u001b[38;5;241;43m.\u001b[39;49m\u001b[43mdrop\u001b[49m\u001b[43m(\u001b[49m\u001b[43mlabels\u001b[49m\u001b[43m,\u001b[49m\u001b[43m \u001b[49m\u001b[43merrors\u001b[49m\u001b[38;5;241;43m=\u001b[39;49m\u001b[43merrors\u001b[49m\u001b[43m)\u001b[49m\n\u001b[1;32m   4312\u001b[0m     indexer \u001b[38;5;241m=\u001b[39m axis\u001b[38;5;241m.\u001b[39mget_indexer(new_axis)\n\u001b[1;32m   4314\u001b[0m \u001b[38;5;66;03m# Case for non-unique axis\u001b[39;00m\n\u001b[1;32m   4315\u001b[0m \u001b[38;5;28;01melse\u001b[39;00m:\n",
      "File \u001b[0;32m/Library/Frameworks/Python.framework/Versions/3.10/lib/python3.10/site-packages/pandas/core/indexes/base.py:6644\u001b[0m, in \u001b[0;36mIndex.drop\u001b[0;34m(self, labels, errors)\u001b[0m\n\u001b[1;32m   6642\u001b[0m \u001b[38;5;28;01mif\u001b[39;00m mask\u001b[38;5;241m.\u001b[39many():\n\u001b[1;32m   6643\u001b[0m     \u001b[38;5;28;01mif\u001b[39;00m errors \u001b[38;5;241m!=\u001b[39m \u001b[38;5;124m\"\u001b[39m\u001b[38;5;124mignore\u001b[39m\u001b[38;5;124m\"\u001b[39m:\n\u001b[0;32m-> 6644\u001b[0m         \u001b[38;5;28;01mraise\u001b[39;00m \u001b[38;5;167;01mKeyError\u001b[39;00m(\u001b[38;5;124mf\u001b[39m\u001b[38;5;124m\"\u001b[39m\u001b[38;5;132;01m{\u001b[39;00m\u001b[38;5;28mlist\u001b[39m(labels[mask])\u001b[38;5;132;01m}\u001b[39;00m\u001b[38;5;124m not found in axis\u001b[39m\u001b[38;5;124m\"\u001b[39m)\n\u001b[1;32m   6645\u001b[0m     indexer \u001b[38;5;241m=\u001b[39m indexer[\u001b[38;5;241m~\u001b[39mmask]\n\u001b[1;32m   6646\u001b[0m \u001b[38;5;28;01mreturn\u001b[39;00m \u001b[38;5;28mself\u001b[39m\u001b[38;5;241m.\u001b[39mdelete(indexer)\n",
      "\u001b[0;31mKeyError\u001b[0m: \"['Order Priority'] not found in axis\""
     ]
    }
   ],
   "source": [
    "sales_df_copy2.drop(['Order Priority'], axis = 'columns', inplace = True)"
   ]
  },
  {
   "cell_type": "code",
   "execution_count": 79,
   "metadata": {},
   "outputs": [
    {
     "data": {
      "text/html": "<div>\n<style scoped>\n    .dataframe tbody tr th:only-of-type {\n        vertical-align: middle;\n    }\n\n    .dataframe tbody tr th {\n        vertical-align: top;\n    }\n\n    .dataframe thead th {\n        text-align: right;\n    }\n</style>\n<table border=\"1\" class=\"dataframe\">\n  <thead>\n    <tr style=\"text-align: right;\">\n      <th></th>\n      <th>Region</th>\n      <th>Country</th>\n      <th>Item Type</th>\n      <th>Sales Channel</th>\n      <th>Order Date</th>\n      <th>Order ID</th>\n      <th>Ship Date</th>\n      <th>Units Sold</th>\n      <th>Unit Price</th>\n      <th>Unit Cost</th>\n      <th>Total Revenue</th>\n      <th>Total Cost</th>\n      <th>Total Profit</th>\n    </tr>\n  </thead>\n  <tbody>\n    <tr>\n      <th>36</th>\n      <td>Asia</td>\n      <td>Bangladesh</td>\n      <td>Personal Care</td>\n      <td>Online</td>\n      <td>12/11/2016</td>\n      <td>246147668</td>\n      <td>1/13/2017</td>\n      <td>9420</td>\n      <td>81.73</td>\n      <td>56.67</td>\n      <td>769896.60</td>\n      <td>533831.40</td>\n      <td>236065.20</td>\n    </tr>\n    <tr>\n      <th>246</th>\n      <td>Asia</td>\n      <td>Bangladesh</td>\n      <td>Cosmetics</td>\n      <td>Offline</td>\n      <td>7/29/2010</td>\n      <td>897369992</td>\n      <td>9/11/2010</td>\n      <td>577</td>\n      <td>437.20</td>\n      <td>263.33</td>\n      <td>252264.40</td>\n      <td>151941.41</td>\n      <td>100322.99</td>\n    </tr>\n    <tr>\n      <th>446</th>\n      <td>Asia</td>\n      <td>Bangladesh</td>\n      <td>Vegetables</td>\n      <td>Offline</td>\n      <td>4/28/2014</td>\n      <td>338031995</td>\n      <td>5/5/2014</td>\n      <td>34</td>\n      <td>154.06</td>\n      <td>90.93</td>\n      <td>5238.04</td>\n      <td>3091.62</td>\n      <td>2146.42</td>\n    </tr>\n    <tr>\n      <th>569</th>\n      <td>Asia</td>\n      <td>Bangladesh</td>\n      <td>Cereal</td>\n      <td>Offline</td>\n      <td>6/22/2010</td>\n      <td>202657687</td>\n      <td>6/28/2010</td>\n      <td>9768</td>\n      <td>205.70</td>\n      <td>117.11</td>\n      <td>2009277.60</td>\n      <td>1143930.48</td>\n      <td>865347.12</td>\n    </tr>\n    <tr>\n      <th>576</th>\n      <td>Asia</td>\n      <td>Bangladesh</td>\n      <td>Office Supplies</td>\n      <td>Online</td>\n      <td>3/20/2013</td>\n      <td>793718278</td>\n      <td>4/11/2013</td>\n      <td>7731</td>\n      <td>651.21</td>\n      <td>524.96</td>\n      <td>5034504.51</td>\n      <td>4058465.76</td>\n      <td>976038.75</td>\n    </tr>\n  </tbody>\n</table>\n</div>",
      "text/plain": "    Region     Country        Item Type Sales Channel  Order Date   Order ID  \\\n36    Asia  Bangladesh    Personal Care        Online  12/11/2016  246147668   \n246   Asia  Bangladesh        Cosmetics       Offline   7/29/2010  897369992   \n446   Asia  Bangladesh       Vegetables       Offline   4/28/2014  338031995   \n569   Asia  Bangladesh           Cereal       Offline   6/22/2010  202657687   \n576   Asia  Bangladesh  Office Supplies        Online   3/20/2013  793718278   \n\n     Ship Date  Units Sold  Unit Price  Unit Cost  Total Revenue  Total Cost  \\\n36   1/13/2017        9420       81.73      56.67      769896.60   533831.40   \n246  9/11/2010         577      437.20     263.33      252264.40   151941.41   \n446   5/5/2014          34      154.06      90.93        5238.04     3091.62   \n569  6/28/2010        9768      205.70     117.11     2009277.60  1143930.48   \n576  4/11/2013        7731      651.21     524.96     5034504.51  4058465.76   \n\n     Total Profit  \n36      236065.20  \n246     100322.99  \n446       2146.42  \n569     865347.12  \n576     976038.75  "
     },
     "execution_count": 79,
     "metadata": {},
     "output_type": "execute_result"
    }
   ],
   "source": [
    "sales_df_copy2.head()"
   ]
  },
  {
   "cell_type": "code",
   "execution_count": 83,
   "metadata": {},
   "outputs": [
    {
     "data": {
      "text/html": "<div>\n<style scoped>\n    .dataframe tbody tr th:only-of-type {\n        vertical-align: middle;\n    }\n\n    .dataframe tbody tr th {\n        vertical-align: top;\n    }\n\n    .dataframe thead th {\n        text-align: right;\n    }\n</style>\n<table border=\"1\" class=\"dataframe\">\n  <thead>\n    <tr style=\"text-align: right;\">\n      <th></th>\n      <th>Region</th>\n      <th>Country</th>\n      <th>Item Type</th>\n      <th>Sales Channel</th>\n      <th>Order Date</th>\n      <th>Order ID</th>\n      <th>Ship Date</th>\n      <th>Units Sold</th>\n      <th>Unit Price</th>\n      <th>Unit Cost</th>\n      <th>Total Revenue</th>\n      <th>Total Cost</th>\n      <th>Total Profit</th>\n    </tr>\n  </thead>\n  <tbody>\n    <tr>\n      <th>0</th>\n      <td>Asia</td>\n      <td>Bangladesh</td>\n      <td>Personal Care</td>\n      <td>Online</td>\n      <td>12/11/2016</td>\n      <td>246147668</td>\n      <td>1/13/2017</td>\n      <td>9420</td>\n      <td>81.73</td>\n      <td>56.67</td>\n      <td>769896.60</td>\n      <td>533831.40</td>\n      <td>236065.20</td>\n    </tr>\n    <tr>\n      <th>1</th>\n      <td>Asia</td>\n      <td>Bangladesh</td>\n      <td>Cosmetics</td>\n      <td>Offline</td>\n      <td>7/29/2010</td>\n      <td>897369992</td>\n      <td>9/11/2010</td>\n      <td>577</td>\n      <td>437.20</td>\n      <td>263.33</td>\n      <td>252264.40</td>\n      <td>151941.41</td>\n      <td>100322.99</td>\n    </tr>\n    <tr>\n      <th>2</th>\n      <td>Asia</td>\n      <td>Bangladesh</td>\n      <td>Vegetables</td>\n      <td>Offline</td>\n      <td>4/28/2014</td>\n      <td>338031995</td>\n      <td>5/5/2014</td>\n      <td>34</td>\n      <td>154.06</td>\n      <td>90.93</td>\n      <td>5238.04</td>\n      <td>3091.62</td>\n      <td>2146.42</td>\n    </tr>\n    <tr>\n      <th>3</th>\n      <td>Asia</td>\n      <td>Bangladesh</td>\n      <td>Cereal</td>\n      <td>Offline</td>\n      <td>6/22/2010</td>\n      <td>202657687</td>\n      <td>6/28/2010</td>\n      <td>9768</td>\n      <td>205.70</td>\n      <td>117.11</td>\n      <td>2009277.60</td>\n      <td>1143930.48</td>\n      <td>865347.12</td>\n    </tr>\n    <tr>\n      <th>4</th>\n      <td>Asia</td>\n      <td>Bangladesh</td>\n      <td>Office Supplies</td>\n      <td>Online</td>\n      <td>3/20/2013</td>\n      <td>793718278</td>\n      <td>4/11/2013</td>\n      <td>7731</td>\n      <td>651.21</td>\n      <td>524.96</td>\n      <td>5034504.51</td>\n      <td>4058465.76</td>\n      <td>976038.75</td>\n    </tr>\n    <tr>\n      <th>...</th>\n      <td>...</td>\n      <td>...</td>\n      <td>...</td>\n      <td>...</td>\n      <td>...</td>\n      <td>...</td>\n      <td>...</td>\n      <td>...</td>\n      <td>...</td>\n      <td>...</td>\n      <td>...</td>\n      <td>...</td>\n      <td>...</td>\n    </tr>\n    <tr>\n      <th>9995</th>\n      <td>Sub-Saharan Africa</td>\n      <td>Zimbabwe</td>\n      <td>Clothes</td>\n      <td>Offline</td>\n      <td>11/27/2013</td>\n      <td>382058417</td>\n      <td>1/9/2014</td>\n      <td>8431</td>\n      <td>109.28</td>\n      <td>35.84</td>\n      <td>921339.68</td>\n      <td>302167.04</td>\n      <td>619172.64</td>\n    </tr>\n    <tr>\n      <th>9996</th>\n      <td>Sub-Saharan Africa</td>\n      <td>Zimbabwe</td>\n      <td>Baby Food</td>\n      <td>Offline</td>\n      <td>3/11/2013</td>\n      <td>487866199</td>\n      <td>3/11/2013</td>\n      <td>9304</td>\n      <td>255.28</td>\n      <td>159.42</td>\n      <td>2375125.12</td>\n      <td>1483243.68</td>\n      <td>891881.44</td>\n    </tr>\n    <tr>\n      <th>9997</th>\n      <td>Sub-Saharan Africa</td>\n      <td>Zimbabwe</td>\n      <td>Clothes</td>\n      <td>Offline</td>\n      <td>6/9/2010</td>\n      <td>855881583</td>\n      <td>7/20/2010</td>\n      <td>3235</td>\n      <td>109.28</td>\n      <td>35.84</td>\n      <td>353520.80</td>\n      <td>115942.40</td>\n      <td>237578.40</td>\n    </tr>\n    <tr>\n      <th>9998</th>\n      <td>Sub-Saharan Africa</td>\n      <td>Zimbabwe</td>\n      <td>Fruits</td>\n      <td>Offline</td>\n      <td>11/20/2015</td>\n      <td>436287105</td>\n      <td>11/27/2015</td>\n      <td>5904</td>\n      <td>9.33</td>\n      <td>6.92</td>\n      <td>55084.32</td>\n      <td>40855.68</td>\n      <td>14228.64</td>\n    </tr>\n    <tr>\n      <th>9999</th>\n      <td>Sub-Saharan Africa</td>\n      <td>Zimbabwe</td>\n      <td>Cereal</td>\n      <td>Online</td>\n      <td>2/15/2010</td>\n      <td>243301951</td>\n      <td>3/1/2010</td>\n      <td>7309</td>\n      <td>205.70</td>\n      <td>117.11</td>\n      <td>1503461.30</td>\n      <td>855956.99</td>\n      <td>647504.31</td>\n    </tr>\n  </tbody>\n</table>\n<p>10000 rows × 13 columns</p>\n</div>",
      "text/plain": "                  Region     Country        Item Type Sales Channel  \\\n0                   Asia  Bangladesh    Personal Care        Online   \n1                   Asia  Bangladesh        Cosmetics       Offline   \n2                   Asia  Bangladesh       Vegetables       Offline   \n3                   Asia  Bangladesh           Cereal       Offline   \n4                   Asia  Bangladesh  Office Supplies        Online   \n...                  ...         ...              ...           ...   \n9995  Sub-Saharan Africa    Zimbabwe          Clothes       Offline   \n9996  Sub-Saharan Africa    Zimbabwe        Baby Food       Offline   \n9997  Sub-Saharan Africa    Zimbabwe          Clothes       Offline   \n9998  Sub-Saharan Africa    Zimbabwe           Fruits       Offline   \n9999  Sub-Saharan Africa    Zimbabwe           Cereal        Online   \n\n      Order Date   Order ID   Ship Date  Units Sold  Unit Price  Unit Cost  \\\n0     12/11/2016  246147668   1/13/2017        9420       81.73      56.67   \n1      7/29/2010  897369992   9/11/2010         577      437.20     263.33   \n2      4/28/2014  338031995    5/5/2014          34      154.06      90.93   \n3      6/22/2010  202657687   6/28/2010        9768      205.70     117.11   \n4      3/20/2013  793718278   4/11/2013        7731      651.21     524.96   \n...          ...        ...         ...         ...         ...        ...   \n9995  11/27/2013  382058417    1/9/2014        8431      109.28      35.84   \n9996   3/11/2013  487866199   3/11/2013        9304      255.28     159.42   \n9997    6/9/2010  855881583   7/20/2010        3235      109.28      35.84   \n9998  11/20/2015  436287105  11/27/2015        5904        9.33       6.92   \n9999   2/15/2010  243301951    3/1/2010        7309      205.70     117.11   \n\n      Total Revenue  Total Cost  Total Profit  \n0         769896.60   533831.40     236065.20  \n1         252264.40   151941.41     100322.99  \n2           5238.04     3091.62       2146.42  \n3        2009277.60  1143930.48     865347.12  \n4        5034504.51  4058465.76     976038.75  \n...             ...         ...           ...  \n9995      921339.68   302167.04     619172.64  \n9996     2375125.12  1483243.68     891881.44  \n9997      353520.80   115942.40     237578.40  \n9998       55084.32    40855.68      14228.64  \n9999     1503461.30   855956.99     647504.31  \n\n[10000 rows x 13 columns]"
     },
     "execution_count": 83,
     "metadata": {},
     "output_type": "execute_result"
    }
   ],
   "source": [
    "# 인덱스 값 재지정\n",
    "\n",
    "# sales_df_copy2.reset_index().drop(['index'], axis = 'columns')\n",
    "\n",
    "sales_df_copy2.reset_index(drop = True)"
   ]
  },
  {
   "cell_type": "code",
   "execution_count": 84,
   "metadata": {},
   "outputs": [],
   "source": [
    "# 파생변수 생성\n",
    "# 1. 원가, 단가, 판매단위 값을 기준으로 총수익, 총비용, 총이윤이라고 하는 새로운 칼럼을 생성\n",
    "# 2. 총수익 = 단가 * 판매단위\n",
    "#    총비용 = 원가 * 판매단위\n",
    "#    총이윤 = 총수익 - 총비용"
   ]
  },
  {
   "cell_type": "code",
   "execution_count": 86,
   "metadata": {},
   "outputs": [
    {
     "data": {
      "text/html": "<div>\n<style scoped>\n    .dataframe tbody tr th:only-of-type {\n        vertical-align: middle;\n    }\n\n    .dataframe tbody tr th {\n        vertical-align: top;\n    }\n\n    .dataframe thead th {\n        text-align: right;\n    }\n</style>\n<table border=\"1\" class=\"dataframe\">\n  <thead>\n    <tr style=\"text-align: right;\">\n      <th></th>\n      <th>Region</th>\n      <th>Country</th>\n      <th>Item Type</th>\n      <th>Sales Channel</th>\n      <th>Order Date</th>\n      <th>Order ID</th>\n      <th>Ship Date</th>\n      <th>Units Sold</th>\n      <th>Unit Price</th>\n      <th>Unit Cost</th>\n      <th>Total Revenue</th>\n      <th>Total Cost</th>\n      <th>Total Profit</th>\n      <th>총수익</th>\n    </tr>\n  </thead>\n  <tbody>\n    <tr>\n      <th>36</th>\n      <td>Asia</td>\n      <td>Bangladesh</td>\n      <td>Personal Care</td>\n      <td>Online</td>\n      <td>12/11/2016</td>\n      <td>246147668</td>\n      <td>1/13/2017</td>\n      <td>9420</td>\n      <td>81.73</td>\n      <td>56.67</td>\n      <td>769896.60</td>\n      <td>533831.40</td>\n      <td>236065.20</td>\n      <td>769896.60</td>\n    </tr>\n    <tr>\n      <th>246</th>\n      <td>Asia</td>\n      <td>Bangladesh</td>\n      <td>Cosmetics</td>\n      <td>Offline</td>\n      <td>7/29/2010</td>\n      <td>897369992</td>\n      <td>9/11/2010</td>\n      <td>577</td>\n      <td>437.20</td>\n      <td>263.33</td>\n      <td>252264.40</td>\n      <td>151941.41</td>\n      <td>100322.99</td>\n      <td>252264.40</td>\n    </tr>\n    <tr>\n      <th>446</th>\n      <td>Asia</td>\n      <td>Bangladesh</td>\n      <td>Vegetables</td>\n      <td>Offline</td>\n      <td>4/28/2014</td>\n      <td>338031995</td>\n      <td>5/5/2014</td>\n      <td>34</td>\n      <td>154.06</td>\n      <td>90.93</td>\n      <td>5238.04</td>\n      <td>3091.62</td>\n      <td>2146.42</td>\n      <td>5238.04</td>\n    </tr>\n    <tr>\n      <th>569</th>\n      <td>Asia</td>\n      <td>Bangladesh</td>\n      <td>Cereal</td>\n      <td>Offline</td>\n      <td>6/22/2010</td>\n      <td>202657687</td>\n      <td>6/28/2010</td>\n      <td>9768</td>\n      <td>205.70</td>\n      <td>117.11</td>\n      <td>2009277.60</td>\n      <td>1143930.48</td>\n      <td>865347.12</td>\n      <td>2009277.60</td>\n    </tr>\n    <tr>\n      <th>576</th>\n      <td>Asia</td>\n      <td>Bangladesh</td>\n      <td>Office Supplies</td>\n      <td>Online</td>\n      <td>3/20/2013</td>\n      <td>793718278</td>\n      <td>4/11/2013</td>\n      <td>7731</td>\n      <td>651.21</td>\n      <td>524.96</td>\n      <td>5034504.51</td>\n      <td>4058465.76</td>\n      <td>976038.75</td>\n      <td>5034504.51</td>\n    </tr>\n  </tbody>\n</table>\n</div>",
      "text/plain": "    Region     Country        Item Type Sales Channel  Order Date   Order ID  \\\n36    Asia  Bangladesh    Personal Care        Online  12/11/2016  246147668   \n246   Asia  Bangladesh        Cosmetics       Offline   7/29/2010  897369992   \n446   Asia  Bangladesh       Vegetables       Offline   4/28/2014  338031995   \n569   Asia  Bangladesh           Cereal       Offline   6/22/2010  202657687   \n576   Asia  Bangladesh  Office Supplies        Online   3/20/2013  793718278   \n\n     Ship Date  Units Sold  Unit Price  Unit Cost  Total Revenue  Total Cost  \\\n36   1/13/2017        9420       81.73      56.67      769896.60   533831.40   \n246  9/11/2010         577      437.20     263.33      252264.40   151941.41   \n446   5/5/2014          34      154.06      90.93        5238.04     3091.62   \n569  6/28/2010        9768      205.70     117.11     2009277.60  1143930.48   \n576  4/11/2013        7731      651.21     524.96     5034504.51  4058465.76   \n\n     Total Profit         총수익  \n36      236065.20   769896.60  \n246     100322.99   252264.40  \n446       2146.42     5238.04  \n569     865347.12  2009277.60  \n576     976038.75  5034504.51  "
     },
     "execution_count": 86,
     "metadata": {},
     "output_type": "execute_result"
    }
   ],
   "source": [
    "# 새로운 칼럼을 추가하는 방법\n",
    "# 데이터프레임명[새로운 칼럼의 이름] = 칼럼에 들어갈 값(Series, list)\n",
    "# 단가 컬럼 * 판매단위 컬럼\n",
    "\n",
    "sales_df_copy2['총수익'] = sales_df_copy2['Unit Price'] * sales_df_copy2['Units Sold']\n",
    "\n",
    "sales_df_copy2.head()"
   ]
  },
  {
   "cell_type": "code",
   "execution_count": 88,
   "metadata": {},
   "outputs": [
    {
     "data": {
      "text/html": "<div>\n<style scoped>\n    .dataframe tbody tr th:only-of-type {\n        vertical-align: middle;\n    }\n\n    .dataframe tbody tr th {\n        vertical-align: top;\n    }\n\n    .dataframe thead th {\n        text-align: right;\n    }\n</style>\n<table border=\"1\" class=\"dataframe\">\n  <thead>\n    <tr style=\"text-align: right;\">\n      <th></th>\n      <th>Region</th>\n      <th>Country</th>\n      <th>Item Type</th>\n      <th>Sales Channel</th>\n      <th>Order Date</th>\n      <th>Order ID</th>\n      <th>Ship Date</th>\n      <th>Units Sold</th>\n      <th>Unit Price</th>\n      <th>Unit Cost</th>\n      <th>Total Revenue</th>\n      <th>Total Cost</th>\n      <th>Total Profit</th>\n      <th>총수익</th>\n      <th>총비용</th>\n      <th>총이윤</th>\n    </tr>\n  </thead>\n  <tbody>\n    <tr>\n      <th>36</th>\n      <td>Asia</td>\n      <td>Bangladesh</td>\n      <td>Personal Care</td>\n      <td>Online</td>\n      <td>12/11/2016</td>\n      <td>246147668</td>\n      <td>1/13/2017</td>\n      <td>9420</td>\n      <td>81.73</td>\n      <td>56.67</td>\n      <td>769896.60</td>\n      <td>533831.40</td>\n      <td>236065.20</td>\n      <td>769896.60</td>\n      <td>533831.40</td>\n      <td>236065.20</td>\n    </tr>\n    <tr>\n      <th>246</th>\n      <td>Asia</td>\n      <td>Bangladesh</td>\n      <td>Cosmetics</td>\n      <td>Offline</td>\n      <td>7/29/2010</td>\n      <td>897369992</td>\n      <td>9/11/2010</td>\n      <td>577</td>\n      <td>437.20</td>\n      <td>263.33</td>\n      <td>252264.40</td>\n      <td>151941.41</td>\n      <td>100322.99</td>\n      <td>252264.40</td>\n      <td>151941.41</td>\n      <td>100322.99</td>\n    </tr>\n    <tr>\n      <th>446</th>\n      <td>Asia</td>\n      <td>Bangladesh</td>\n      <td>Vegetables</td>\n      <td>Offline</td>\n      <td>4/28/2014</td>\n      <td>338031995</td>\n      <td>5/5/2014</td>\n      <td>34</td>\n      <td>154.06</td>\n      <td>90.93</td>\n      <td>5238.04</td>\n      <td>3091.62</td>\n      <td>2146.42</td>\n      <td>5238.04</td>\n      <td>3091.62</td>\n      <td>2146.42</td>\n    </tr>\n    <tr>\n      <th>569</th>\n      <td>Asia</td>\n      <td>Bangladesh</td>\n      <td>Cereal</td>\n      <td>Offline</td>\n      <td>6/22/2010</td>\n      <td>202657687</td>\n      <td>6/28/2010</td>\n      <td>9768</td>\n      <td>205.70</td>\n      <td>117.11</td>\n      <td>2009277.60</td>\n      <td>1143930.48</td>\n      <td>865347.12</td>\n      <td>2009277.60</td>\n      <td>1143930.48</td>\n      <td>865347.12</td>\n    </tr>\n    <tr>\n      <th>576</th>\n      <td>Asia</td>\n      <td>Bangladesh</td>\n      <td>Office Supplies</td>\n      <td>Online</td>\n      <td>3/20/2013</td>\n      <td>793718278</td>\n      <td>4/11/2013</td>\n      <td>7731</td>\n      <td>651.21</td>\n      <td>524.96</td>\n      <td>5034504.51</td>\n      <td>4058465.76</td>\n      <td>976038.75</td>\n      <td>5034504.51</td>\n      <td>4058465.76</td>\n      <td>976038.75</td>\n    </tr>\n  </tbody>\n</table>\n</div>",
      "text/plain": "    Region     Country        Item Type Sales Channel  Order Date   Order ID  \\\n36    Asia  Bangladesh    Personal Care        Online  12/11/2016  246147668   \n246   Asia  Bangladesh        Cosmetics       Offline   7/29/2010  897369992   \n446   Asia  Bangladesh       Vegetables       Offline   4/28/2014  338031995   \n569   Asia  Bangladesh           Cereal       Offline   6/22/2010  202657687   \n576   Asia  Bangladesh  Office Supplies        Online   3/20/2013  793718278   \n\n     Ship Date  Units Sold  Unit Price  Unit Cost  Total Revenue  Total Cost  \\\n36   1/13/2017        9420       81.73      56.67      769896.60   533831.40   \n246  9/11/2010         577      437.20     263.33      252264.40   151941.41   \n446   5/5/2014          34      154.06      90.93        5238.04     3091.62   \n569  6/28/2010        9768      205.70     117.11     2009277.60  1143930.48   \n576  4/11/2013        7731      651.21     524.96     5034504.51  4058465.76   \n\n     Total Profit         총수익         총비용        총이윤  \n36      236065.20   769896.60   533831.40  236065.20  \n246     100322.99   252264.40   151941.41  100322.99  \n446       2146.42     5238.04     3091.62    2146.42  \n569     865347.12  2009277.60  1143930.48  865347.12  \n576     976038.75  5034504.51  4058465.76  976038.75  "
     },
     "execution_count": 88,
     "metadata": {},
     "output_type": "execute_result"
    }
   ],
   "source": [
    "# 총비용, 총이윤 생성\n",
    "\n",
    "sales_df_copy2['총비용'] = sales_df_copy2['Unit Cost'] * sales_df_copy2['Units Sold']\n",
    "sales_df_copy2['총이윤'] = sales_df_copy2['총수익'] - sales_df_copy2['총비용']\n",
    "\n",
    "sales_df_copy2.head()"
   ]
  },
  {
   "cell_type": "code",
   "execution_count": null,
   "metadata": {},
   "outputs": [],
   "source": []
  }
 ],
 "metadata": {
  "kernelspec": {
   "display_name": "Python 3.10.5 64-bit",
   "metadata": {
    "interpreter": {
     "hash": "aee8b7b246df8f9039afb4144a1f6fd8d2ca17a180786b69acc140d282b71a49"
    }
   },
   "name": "python3"
  },
  "language_info": {
   "codemirror_mode": {
    "name": "ipython",
    "version": 3
   },
   "file_extension": ".py",
   "mimetype": "text/x-python",
   "name": "python",
   "nbconvert_exporter": "python",
   "pygments_lexer": "ipython3",
   "version": "3.10.5-final"
  },
  "orig_nbformat": 2
 },
 "nbformat": 4,
 "nbformat_minor": 2
}