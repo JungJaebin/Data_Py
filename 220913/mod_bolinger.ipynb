{
 "cells": [
  {
   "cell_type": "code",
   "execution_count": 60,
   "metadata": {},
   "outputs": [
    {
     "data": {
      "text/plain": "<module 'bollinger' from '/Users/ohyoulooknice/Desktop/국비교육-파이썬 강의/파이썬/220913/bollinger/__init__.py'>"
     },
     "execution_count": 60,
     "metadata": {},
     "output_type": "execute_result"
    }
   ],
   "source": [
    "import pandas as pd\n",
    "import numpy as np\n",
    "import bollinger as bol\n",
    "import imp\n",
    "\n",
    "imp.reload(bol)"
   ]
  },
  {
   "cell_type": "code",
   "execution_count": 61,
   "metadata": {},
   "outputs": [
    {
     "data": {
      "text/html": "<div>\n<style scoped>\n    .dataframe tbody tr th:only-of-type {\n        vertical-align: middle;\n    }\n\n    .dataframe tbody tr th {\n        vertical-align: top;\n    }\n\n    .dataframe thead th {\n        text-align: right;\n    }\n</style>\n<table border=\"1\" class=\"dataframe\">\n  <thead>\n    <tr style=\"text-align: right;\">\n      <th></th>\n      <th>Date</th>\n      <th>Open</th>\n      <th>High</th>\n      <th>Low</th>\n      <th>Close</th>\n      <th>Adj Close</th>\n      <th>Volume</th>\n    </tr>\n  </thead>\n  <tbody>\n    <tr>\n      <th>0</th>\n      <td>1997-05-15</td>\n      <td>2.437500</td>\n      <td>2.500000</td>\n      <td>1.927083</td>\n      <td>1.958333</td>\n      <td>1.958333</td>\n      <td>72156000</td>\n    </tr>\n    <tr>\n      <th>1</th>\n      <td>1997-05-16</td>\n      <td>1.968750</td>\n      <td>1.979167</td>\n      <td>1.708333</td>\n      <td>1.729167</td>\n      <td>1.729167</td>\n      <td>14700000</td>\n    </tr>\n    <tr>\n      <th>2</th>\n      <td>1997-05-19</td>\n      <td>1.760417</td>\n      <td>1.770833</td>\n      <td>1.625000</td>\n      <td>1.708333</td>\n      <td>1.708333</td>\n      <td>6106800</td>\n    </tr>\n    <tr>\n      <th>3</th>\n      <td>1997-05-20</td>\n      <td>1.729167</td>\n      <td>1.750000</td>\n      <td>1.635417</td>\n      <td>1.635417</td>\n      <td>1.635417</td>\n      <td>5467200</td>\n    </tr>\n    <tr>\n      <th>4</th>\n      <td>1997-05-21</td>\n      <td>1.635417</td>\n      <td>1.645833</td>\n      <td>1.375000</td>\n      <td>1.427083</td>\n      <td>1.427083</td>\n      <td>18853200</td>\n    </tr>\n  </tbody>\n</table>\n</div>",
      "text/plain": "         Date      Open      High       Low     Close  Adj Close    Volume\n0  1997-05-15  2.437500  2.500000  1.927083  1.958333   1.958333  72156000\n1  1997-05-16  1.968750  1.979167  1.708333  1.729167   1.729167  14700000\n2  1997-05-19  1.760417  1.770833  1.625000  1.708333   1.708333   6106800\n3  1997-05-20  1.729167  1.750000  1.635417  1.635417   1.635417   5467200\n4  1997-05-21  1.635417  1.645833  1.375000  1.427083   1.427083  18853200"
     },
     "execution_count": 61,
     "metadata": {},
     "output_type": "execute_result"
    }
   ],
   "source": [
    "df = pd.read_csv('../csv/AMZN.csv')\n",
    "\n",
    "df.head()"
   ]
  },
  {
   "cell_type": "code",
   "execution_count": 62,
   "metadata": {},
   "outputs": [],
   "source": [
    "bol_df = bol.bollinger(df, 'Adj Close')"
   ]
  },
  {
   "cell_type": "code",
   "execution_count": 63,
   "metadata": {},
   "outputs": [
    {
     "data": {
      "text/html": "<div>\n<style scoped>\n    .dataframe tbody tr th:only-of-type {\n        vertical-align: middle;\n    }\n\n    .dataframe tbody tr th {\n        vertical-align: top;\n    }\n\n    .dataframe thead th {\n        text-align: right;\n    }\n</style>\n<table border=\"1\" class=\"dataframe\">\n  <thead>\n    <tr style=\"text-align: right;\">\n      <th></th>\n      <th>Adj Close</th>\n      <th>center</th>\n      <th>ub</th>\n      <th>lb</th>\n      <th>trade</th>\n    </tr>\n    <tr>\n      <th>Date</th>\n      <th></th>\n      <th></th>\n      <th></th>\n      <th></th>\n      <th></th>\n    </tr>\n  </thead>\n  <tbody>\n    <tr>\n      <th>1997-05-15</th>\n      <td>1.958333</td>\n      <td>NaN</td>\n      <td>NaN</td>\n      <td>NaN</td>\n      <td></td>\n    </tr>\n    <tr>\n      <th>1997-05-16</th>\n      <td>1.729167</td>\n      <td>NaN</td>\n      <td>NaN</td>\n      <td>NaN</td>\n      <td></td>\n    </tr>\n    <tr>\n      <th>1997-05-19</th>\n      <td>1.708333</td>\n      <td>NaN</td>\n      <td>NaN</td>\n      <td>NaN</td>\n      <td></td>\n    </tr>\n    <tr>\n      <th>1997-05-20</th>\n      <td>1.635417</td>\n      <td>NaN</td>\n      <td>NaN</td>\n      <td>NaN</td>\n      <td></td>\n    </tr>\n    <tr>\n      <th>1997-05-21</th>\n      <td>1.427083</td>\n      <td>NaN</td>\n      <td>NaN</td>\n      <td>NaN</td>\n      <td></td>\n    </tr>\n    <tr>\n      <th>...</th>\n      <td>...</td>\n      <td>...</td>\n      <td>...</td>\n      <td>...</td>\n      <td>...</td>\n    </tr>\n    <tr>\n      <th>2019-06-18</th>\n      <td>1901.369995</td>\n      <td>1821.456500</td>\n      <td>1935.384678</td>\n      <td>1707.528322</td>\n      <td></td>\n    </tr>\n    <tr>\n      <th>2019-06-19</th>\n      <td>1908.790039</td>\n      <td>1824.020001</td>\n      <td>1943.535145</td>\n      <td>1704.504858</td>\n      <td></td>\n    </tr>\n    <tr>\n      <th>2019-06-20</th>\n      <td>1918.189941</td>\n      <td>1826.945495</td>\n      <td>1952.830613</td>\n      <td>1701.060378</td>\n      <td></td>\n    </tr>\n    <tr>\n      <th>2019-06-21</th>\n      <td>1911.300049</td>\n      <td>1831.736499</td>\n      <td>1962.964470</td>\n      <td>1700.508528</td>\n      <td></td>\n    </tr>\n    <tr>\n      <th>2019-06-24</th>\n      <td>1907.953857</td>\n      <td>1835.970190</td>\n      <td>1971.444249</td>\n      <td>1700.496132</td>\n      <td></td>\n    </tr>\n  </tbody>\n</table>\n<p>5563 rows × 5 columns</p>\n</div>",
      "text/plain": "              Adj Close       center           ub           lb trade\nDate                                                                \n1997-05-15     1.958333          NaN          NaN          NaN      \n1997-05-16     1.729167          NaN          NaN          NaN      \n1997-05-19     1.708333          NaN          NaN          NaN      \n1997-05-20     1.635417          NaN          NaN          NaN      \n1997-05-21     1.427083          NaN          NaN          NaN      \n...                 ...          ...          ...          ...   ...\n2019-06-18  1901.369995  1821.456500  1935.384678  1707.528322      \n2019-06-19  1908.790039  1824.020001  1943.535145  1704.504858      \n2019-06-20  1918.189941  1826.945495  1952.830613  1701.060378      \n2019-06-21  1911.300049  1831.736499  1962.964470  1700.508528      \n2019-06-24  1907.953857  1835.970190  1971.444249  1700.496132      \n\n[5563 rows x 5 columns]"
     },
     "execution_count": 63,
     "metadata": {},
     "output_type": "execute_result"
    }
   ],
   "source": [
    "bol_df.add_column(20)"
   ]
  },
  {
   "cell_type": "code",
   "execution_count": 64,
   "metadata": {},
   "outputs": [
    {
     "data": {
      "text/html": "<div>\n<style scoped>\n    .dataframe tbody tr th:only-of-type {\n        vertical-align: middle;\n    }\n\n    .dataframe tbody tr th {\n        vertical-align: top;\n    }\n\n    .dataframe thead th {\n        text-align: right;\n    }\n</style>\n<table border=\"1\" class=\"dataframe\">\n  <thead>\n    <tr style=\"text-align: right;\">\n      <th></th>\n      <th>Adj Close</th>\n      <th>center</th>\n      <th>ub</th>\n      <th>lb</th>\n      <th>trade</th>\n    </tr>\n    <tr>\n      <th>Date</th>\n      <th></th>\n      <th></th>\n      <th></th>\n      <th></th>\n      <th></th>\n    </tr>\n  </thead>\n  <tbody>\n    <tr>\n      <th>2010-01-04</th>\n      <td>133.899994</td>\n      <td>133.984001</td>\n      <td>141.460445</td>\n      <td>126.507556</td>\n      <td></td>\n    </tr>\n    <tr>\n      <th>2010-01-05</th>\n      <td>134.690002</td>\n      <td>133.839500</td>\n      <td>141.132776</td>\n      <td>126.546225</td>\n      <td></td>\n    </tr>\n    <tr>\n      <th>2010-01-06</th>\n      <td>132.250000</td>\n      <td>133.741500</td>\n      <td>141.066419</td>\n      <td>126.416581</td>\n      <td></td>\n    </tr>\n    <tr>\n      <th>2010-01-07</th>\n      <td>130.000000</td>\n      <td>133.536000</td>\n      <td>141.045671</td>\n      <td>126.026329</td>\n      <td></td>\n    </tr>\n    <tr>\n      <th>2010-01-08</th>\n      <td>133.520004</td>\n      <td>133.646500</td>\n      <td>141.082939</td>\n      <td>126.210062</td>\n      <td></td>\n    </tr>\n    <tr>\n      <th>...</th>\n      <td>...</td>\n      <td>...</td>\n      <td>...</td>\n      <td>...</td>\n      <td>...</td>\n    </tr>\n    <tr>\n      <th>2019-06-18</th>\n      <td>1901.369995</td>\n      <td>1821.456500</td>\n      <td>1935.384678</td>\n      <td>1707.528322</td>\n      <td></td>\n    </tr>\n    <tr>\n      <th>2019-06-19</th>\n      <td>1908.790039</td>\n      <td>1824.020001</td>\n      <td>1943.535145</td>\n      <td>1704.504858</td>\n      <td></td>\n    </tr>\n    <tr>\n      <th>2019-06-20</th>\n      <td>1918.189941</td>\n      <td>1826.945495</td>\n      <td>1952.830613</td>\n      <td>1701.060378</td>\n      <td></td>\n    </tr>\n    <tr>\n      <th>2019-06-21</th>\n      <td>1911.300049</td>\n      <td>1831.736499</td>\n      <td>1962.964470</td>\n      <td>1700.508528</td>\n      <td></td>\n    </tr>\n    <tr>\n      <th>2019-06-24</th>\n      <td>1907.953857</td>\n      <td>1835.970190</td>\n      <td>1971.444249</td>\n      <td>1700.496132</td>\n      <td></td>\n    </tr>\n  </tbody>\n</table>\n<p>2384 rows × 5 columns</p>\n</div>",
      "text/plain": "              Adj Close       center           ub           lb trade\nDate                                                                \n2010-01-04   133.899994   133.984001   141.460445   126.507556      \n2010-01-05   134.690002   133.839500   141.132776   126.546225      \n2010-01-06   132.250000   133.741500   141.066419   126.416581      \n2010-01-07   130.000000   133.536000   141.045671   126.026329      \n2010-01-08   133.520004   133.646500   141.082939   126.210062      \n...                 ...          ...          ...          ...   ...\n2019-06-18  1901.369995  1821.456500  1935.384678  1707.528322      \n2019-06-19  1908.790039  1824.020001  1943.535145  1704.504858      \n2019-06-20  1918.189941  1826.945495  1952.830613  1701.060378      \n2019-06-21  1911.300049  1831.736499  1962.964470  1700.508528      \n2019-06-24  1907.953857  1835.970190  1971.444249  1700.496132      \n\n[2384 rows x 5 columns]"
     },
     "execution_count": 64,
     "metadata": {},
     "output_type": "execute_result"
    }
   ],
   "source": [
    "bol_df.start_time('2010-01-01')"
   ]
  },
  {
   "cell_type": "code",
   "execution_count": 65,
   "metadata": {},
   "outputs": [
    {
     "data": {
      "text/plain": "trade\n       1521\nbuy     863\ndtype: int64"
     },
     "execution_count": 65,
     "metadata": {},
     "output_type": "execute_result"
    }
   ],
   "source": [
    "bol_df.insert_buy()"
   ]
  },
  {
   "cell_type": "code",
   "execution_count": 66,
   "metadata": {},
   "outputs": [
    {
     "name": "stderr",
     "output_type": "stream",
     "text": [
      "/Users/ohyoulooknice/Desktop/국비교육-파이썬 강의/파이썬/220913/bollinger/__init__.py:85: SettingWithCopyWarning: \n",
      "A value is trying to be set on a copy of a slice from a DataFrame.\n",
      "Try using .loc[row_indexer,col_indexer] = value instead\n",
      "\n",
      "See the caveats in the documentation: https://pandas.pydata.org/pandas-docs/stable/user_guide/indexing.html#returning-a-view-versus-a-copy\n",
      "  print('진입일: ', i, '진입 가격: ', self.buy)\n",
      "/Users/ohyoulooknice/Desktop/국비교육-파이썬 강의/파이썬/220913/bollinger/__init__.py:99: SettingWithCopyWarning: \n",
      "A value is trying to be set on a copy of a slice from a DataFrame.\n",
      "Try using .loc[row_indexer,col_indexer] = value instead\n",
      "\n",
      "See the caveats in the documentation: https://pandas.pydata.org/pandas-docs/stable/user_guide/indexing.html#returning-a-view-versus-a-copy\n",
      "  \n",
      "/Users/ohyoulooknice/Desktop/국비교육-파이썬 강의/파이썬/220913/bollinger/__init__.py:114: SettingWithCopyWarning: \n",
      "A value is trying to be set on a copy of a slice from a DataFrame.\n",
      "Try using .loc[row_indexer,col_indexer] = value instead\n",
      "\n",
      "See the caveats in the documentation: https://pandas.pydata.org/pandas-docs/stable/user_guide/indexing.html#returning-a-view-versus-a-copy\n"
     ]
    },
    {
     "name": "stdout",
     "output_type": "stream",
     "text": [
      "진입일:  2010-05-04 진입 가격:  129.830002\n",
      "청산일:  2010-08-04 진입 가격:  129.830002 청산 가격:  127.580002 | return:  0.9827\n",
      "진입일:  2010-11-16 진입 가격:  157.779999\n",
      "청산일:  2010-11-24 진입 가격:  157.779999 청산 가격:  177.25 | return:  1.1234\n",
      "진입일:  2011-01-21 진입 가격:  177.419998\n",
      "청산일:  2011-03-30 진입 가격:  177.419998 청산 가격:  179.419998 | return:  1.0113\n",
      "진입일:  2011-06-06 진입 가격:  185.690002\n",
      "청산일:  2011-06-27 진입 가격:  185.690002 청산 가격:  201.25 | return:  1.0838\n",
      "진입일:  2011-08-04 진입 가격:  201.479996\n",
      "청산일:  2011-10-14 진입 가격:  201.479996 청산 가격:  246.710007 | return:  1.2245\n",
      "진입일:  2011-10-26 진입 가격:  198.399994\n",
      "청산일:  2012-01-18 진입 가격:  198.399994 청산 가격:  189.440002 | return:  0.9548\n",
      "진입일:  2012-10-10 진입 가격:  244.990005\n",
      "청산일:  2012-11-29 진입 가격:  244.990005 청산 가격:  251.270004 | return:  1.0256\n",
      "진입일:  2013-04-29 진입 가격:  249.740005\n",
      "청산일:  2013-06-07 진입 가격:  249.740005 청산 가격:  276.869995 | return:  1.1086\n",
      "진입일:  2013-08-14 진입 가격:  291.339996\n",
      "청산일:  2013-09-18 진입 가격:  291.339996 청산 가격:  312.029999 | return:  1.071\n",
      "진입일:  2014-01-24 진입 가격:  387.600006\n",
      "청산일:  2014-03-05 진입 가격:  387.600006 청산 가격:  372.369995 | return:  0.9607\n",
      "진입일:  2014-03-24 진입 가격:  351.850006\n",
      "청산일:  2014-06-05 진입 가격:  351.850006 청산 가격:  323.570007 | return:  0.9196\n",
      "진입일:  2014-09-15 진입 가격:  323.890015\n",
      "청산일:  2014-11-14 진입 가격:  323.890015 청산 가격:  327.820007 | return:  1.0121\n",
      "진입일:  2015-01-15 진입 가격:  286.950012\n",
      "청산일:  2015-01-30 진입 가격:  286.950012 청산 가격:  354.529999 | return:  1.2355\n",
      "진입일:  2015-03-10 진입 가격:  369.51001\n",
      "청산일:  2015-04-08 진입 가격:  369.51001 청산 가격:  381.200012 | return:  1.0316\n",
      "진입일:  2015-08-20 진입 가격:  515.780029\n",
      "청산일:  2015-10-23 진입 가격:  515.780029 청산 가격:  599.030029 | return:  1.1614\n",
      "진입일:  2015-12-11 진입 가격:  640.150024\n",
      "청산일:  2015-12-29 진입 가격:  640.150024 청산 가격:  693.969971 | return:  1.0841\n",
      "진입일:  2016-01-04 진입 가격:  636.98999\n",
      "청산일:  2016-03-29 진입 가격:  636.98999 청산 가격:  593.859985 | return:  0.9323\n",
      "진입일:  2016-06-24 진입 가격:  698.960022\n",
      "청산일:  2016-07-06 진입 가격:  698.960022 청산 가격:  737.609985 | return:  1.0553\n",
      "진입일:  2016-10-28 진입 가격:  776.320007\n",
      "청산일:  2017-01-06 진입 가격:  776.320007 청산 가격:  795.98999 | return:  1.0253\n",
      "진입일:  2017-08-10 진입 가격:  956.919983\n",
      "청산일:  2017-09-13 진입 가격:  956.919983 청산 가격:  999.599976 | return:  1.0446\n",
      "진입일:  2017-09-25 진입 가격:  939.789978\n",
      "청산일:  2017-10-27 진입 가격:  939.789978 청산 가격:  1100.949951 | return:  1.1715\n",
      "진입일:  2018-03-28 진입 가격:  1431.420044\n",
      "청산일:  2018-06-01 진입 가격:  1431.420044 청산 가격:  1641.540039 | return:  1.1468\n",
      "진입일:  2018-10-08 진입 가격:  1864.420044\n",
      "청산일:  2019-03-01 진입 가격:  1864.420044 청산 가격:  1671.72998 | return:  0.8966\n",
      "진입일:  2019-05-13 진입 가격:  1822.680054\n"
     ]
    },
    {
     "data": {
      "text/plain": "3.138061358619031"
     },
     "execution_count": 66,
     "metadata": {},
     "output_type": "execute_result"
    }
   ],
   "source": [
    "bol_df.returns()"
   ]
  },
  {
   "cell_type": "code",
   "execution_count": null,
   "metadata": {},
   "outputs": [],
   "source": []
  }
 ],
 "metadata": {
  "kernelspec": {
   "display_name": "Python 3.8.5 64-bit",
   "metadata": {
    "interpreter": {
     "hash": "aee8b7b246df8f9039afb4144a1f6fd8d2ca17a180786b69acc140d282b71a49"
    }
   },
   "name": "python3"
  },
  "language_info": {
   "codemirror_mode": {
    "name": "ipython",
    "version": 3
   },
   "file_extension": ".py",
   "mimetype": "text/x-python",
   "name": "python",
   "nbconvert_exporter": "python",
   "pygments_lexer": "ipython3",
   "version": "3.8.5"
  },
  "orig_nbformat": 2
 },
 "nbformat": 4,
 "nbformat_minor": 2
}