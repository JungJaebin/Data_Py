{
 "cells": [
  {
   "cell_type": "code",
   "execution_count": 1,
   "metadata": {},
   "outputs": [
    {
     "name": "stdout",
     "output_type": "stream",
     "text": [
      "zsh:1: /opt/homebrew/bin/pip: bad interpreter: /opt/homebrew/opt/python@3.9/bin/python3.9: no such file or directory\n"
     ]
    }
   ],
   "source": [
    "!pip install pandas"
   ]
  },
  {
   "cell_type": "code",
   "execution_count": 2,
   "metadata": {},
   "outputs": [],
   "source": [
    "import pandas as pd\n",
    "import os"
   ]
  },
  {
   "cell_type": "code",
   "execution_count": 6,
   "metadata": {},
   "outputs": [
    {
     "data": {
      "text/plain": "['201702_expense_list.csv',\n '201709_expense_list.csv',\n '201712_expense_list.csv',\n '201706_expense_list.csv',\n '201703_expense_list.csv',\n '201708_expense_list.csv',\n '201707_expense_list.csv',\n '201704_expense_list.csv',\n '201710_expense_list.csv',\n '201701_expense_list.csv',\n '201705_expense_list.csv',\n '201711_expense_list.csv']"
     },
     "execution_count": 6,
     "metadata": {},
     "output_type": "execute_result"
    }
   ],
   "source": [
    "# 지정된 경로에 있는 파일 리스트\n",
    "\n",
    "files = os.listdir('../csv/2017')\n",
    "\n",
    "files"
   ]
  },
  {
   "cell_type": "code",
   "execution_count": 5,
   "metadata": {},
   "outputs": [
    {
     "data": {
      "text/plain": "70132"
     },
     "execution_count": 5,
     "metadata": {},
     "output_type": "execute_result"
    }
   ],
   "source": [
    "# 지정된 폴더에 있는 파일들을 하나의 데이터프레임으로 결합\n",
    "# 1. 빈 데이터프레임 생성\n",
    "# 2. 반복문을 이용하여 리스트에 있는 csv 파일들을 하나씩 로드하여\n",
    "# 3. 빈 데이터프레임에 concat() 사용하여 결합\n",
    "\n",
    "df_2017 = pd.DataFrame()        # 빈 데이터프레임 생성\n",
    "\n",
    "for i in files :\n",
    "    path = '../csv/2017/'\n",
    "    df = pd.read_csv(path + i)\n",
    "    df_2017 = pd.concat([df_2017, df], ignore_index = True)\n",
    "\n",
    "len(df_2017)"
   ]
  },
  {
   "cell_type": "code",
   "execution_count": 14,
   "metadata": {},
   "outputs": [
    {
     "data": {
      "text/plain": "['202110_expense_list.xlsx',\n '202110_expense_list.xml',\n '202105_expense_list.json',\n '202104_expense_list.xml',\n '202109_expense_list.xlsx',\n '202107_expense_list.csv',\n '202111_expense_list.xlsx',\n '202103_expense_list.csv',\n '202104_expense_list.json',\n '202108_expense_list.csv',\n '202108_expense_list.xlsx',\n '202101_expense_list.json',\n '202112_expense_list.xlsx',\n '202111_expense_list.xml',\n '202112_expense_list.csv',\n '202107_expense_list.json',\n '202106_expense_list.csv',\n '202105_expense_list.xml',\n '202102_expense_list.json',\n '202101_expense_list.xml',\n '202102_expense_list.csv',\n '202106_expense_list.json',\n '202103_expense_list.json',\n '202109_expense_list.csv',\n '202105_expense_list.csv',\n '202103_expense_list.xlsx',\n '202106_expense_list.xml',\n '202112_expense_list.xml',\n '202111_expense_list.csv',\n '202106_expense_list.xlsx',\n '202109_expense_list.xml',\n '202102_expense_list.xlsx',\n '202102_expense_list.xml',\n '202112_expense_list.json',\n '202101_expense_list.csv',\n '202107_expense_list.xlsx',\n '202107_expense_list.xml',\n '202108_expense_list.json',\n '202101_expense_list.xlsx',\n '202104_expense_list.csv',\n '202111_expense_list.json',\n '202110_expense_list.csv',\n '202104_expense_list.xlsx',\n '202109_expense_list.json',\n '202108_expense_list.xml',\n '202110_expense_list.json',\n '202105_expense_list.xlsx',\n '202103_expense_list.xml']"
     },
     "execution_count": 14,
     "metadata": {},
     "output_type": "execute_result"
    }
   ],
   "source": [
    "# 2021 폴더에서 csv 파일만 출력\n",
    "\n",
    "files = os.listdir('../csv/2021')\n",
    "\n",
    "files"
   ]
  },
  {
   "cell_type": "code",
   "execution_count": 13,
   "metadata": {},
   "outputs": [
    {
     "data": {
      "text/plain": "[]"
     },
     "execution_count": 13,
     "metadata": {},
     "output_type": "execute_result"
    }
   ],
   "source": [
    "files = [file for file in files if file.endswith('.csv')]\n",
    "\n",
    "files"
   ]
  },
  {
   "cell_type": "code",
   "execution_count": 15,
   "metadata": {},
   "outputs": [],
   "source": [
    "# 1. 컬럼명 변경 - ['nid', '제목', 'url',\n",
    "#                '부서레벨1', '부서레벨2', '부서레벨3', '부서레벨4', '부서레벨5',\n",
    "#                '집행연도', '집행월', '예산', '집행',\n",
    "#                '구분', '부서명', '집행일시', '집행장소', '집행목적', 대상인원', '결제방법', '집행금액']\n",
    "# 2. 컬럼 삭제 - ['부서레벨3', '부서레벨4', '부서레벨5', '예산', '집행', '구분']\n",
    "# 3. 연도별 집행금액의 합 시각화(bar 그래프)\n",
    "# 4. pivot_table을 사용하여 그룹화(연도, 월)후 집행금액의 합계를 그래프로 출력(bar 그래프)"
   ]
  },
  {
   "cell_type": "code",
   "execution_count": 19,
   "metadata": {},
   "outputs": [],
   "source": [
    "df_2017.columns = ['nid', '제목', 'url',\n",
    "                   '부서레벨1', '부서레벨2', '부서레벨3', '부서레벨4', '부서레벨5',\n",
    "                   '집행연도', '집행월', '예산', '집행',\n",
    "                   '구분', '부서명', '집행일시', '집행장소', '집행목적', '대상인원', '결제방법', '집행금액']"
   ]
  },
  {
   "cell_type": "code",
   "execution_count": 24,
   "metadata": {},
   "outputs": [],
   "source": [
    "df_2017 = df_2017.drop(columns = ['부서레벨3', '부서레벨4', '부서레벨5', '예산', '집행', '구분'])"
   ]
  },
  {
   "cell_type": "code",
   "execution_count": 25,
   "metadata": {},
   "outputs": [
    {
     "name": "stdout",
     "output_type": "stream",
     "text": [
      "Requirement already satisfied: matplotlib in /Library/Frameworks/Python.framework/Versions/3.8/lib/python3.8/site-packages (3.5.3)\n",
      "Requirement already satisfied: python-dateutil>=2.7 in /Users/ohyoulooknice/Library/Python/3.8/lib/python/site-packages (from matplotlib) (2.8.2)\n",
      "Requirement already satisfied: pillow>=6.2.0 in /Library/Frameworks/Python.framework/Versions/3.8/lib/python3.8/site-packages (from matplotlib) (9.2.0)\n",
      "Requirement already satisfied: pyparsing>=2.2.1 in /Users/ohyoulooknice/Library/Python/3.8/lib/python/site-packages (from matplotlib) (3.0.9)\n",
      "Requirement already satisfied: cycler>=0.10 in /Library/Frameworks/Python.framework/Versions/3.8/lib/python3.8/site-packages (from matplotlib) (0.11.0)\n",
      "Requirement already satisfied: numpy>=1.17 in /Library/Frameworks/Python.framework/Versions/3.8/lib/python3.8/site-packages (from matplotlib) (1.23.2)\n",
      "Requirement already satisfied: fonttools>=4.22.0 in /Library/Frameworks/Python.framework/Versions/3.8/lib/python3.8/site-packages (from matplotlib) (4.37.1)\n",
      "Requirement already satisfied: kiwisolver>=1.0.1 in /Library/Frameworks/Python.framework/Versions/3.8/lib/python3.8/site-packages (from matplotlib) (1.4.4)\n",
      "Requirement already satisfied: packaging>=20.0 in /Users/ohyoulooknice/Library/Python/3.8/lib/python/site-packages (from matplotlib) (21.3)\n",
      "Requirement already satisfied: six>=1.5 in /Users/ohyoulooknice/Library/Python/3.8/lib/python/site-packages (from python-dateutil>=2.7->matplotlib) (1.16.0)\n",
      "Note: you may need to restart the kernel to use updated packages.\n"
     ]
    }
   ],
   "source": [
    "pip install matplotlib"
   ]
  },
  {
   "cell_type": "code",
   "execution_count": 26,
   "metadata": {},
   "outputs": [],
   "source": [
    "import matplotlib.pyplot as plt"
   ]
  },
  {
   "cell_type": "code",
   "execution_count": 29,
   "metadata": {},
   "outputs": [
    {
     "data": {
      "text/plain": "집행월\n1      710368860\n2      712679864\n3      737250454\n4      635265805\n5      647582378\n6      758257342\n7      701604626\n8      661174850\n9      806170700\n10     637219943\n11     843619171\n12    1225747394\nName: 집행금액, dtype: int64"
     },
     "execution_count": 29,
     "metadata": {},
     "output_type": "execute_result"
    }
   ],
   "source": [
    "month_df = df_2017.groupby('집행월').sum()['집행금액']\n",
    "\n",
    "month_df"
   ]
  },
  {
   "cell_type": "code",
   "execution_count": 33,
   "metadata": {},
   "outputs": [],
   "source": [
    "pivot_month = pd.pivot_table(df_2017, index = ['집행월'], columns = ['집행연도'], values = ['집행금액'], aggfunc = 'sum')"
   ]
  },
  {
   "cell_type": "code",
   "execution_count": 34,
   "metadata": {},
   "outputs": [
    {
     "data": {
      "image/png": "[encoded data removed]",
      "text/plain": "<Figure size 640x480 with 1 Axes>"
     },
     "metadata": {
      "transient": {}
     },
     "output_type": "display_data"
    }
   ],
   "source": [
    "# bar 그래프의 x값: 집행월, y값: 집행금액의 합계\n",
    "\n",
    "x = month_df.index\n",
    "\n",
    "plt.bar(x, month_df)\n",
    "plt.show()"
   ]
  },
  {
   "cell_type": "code",
   "execution_count": 36,
   "metadata": {},
   "outputs": [
    {
     "data": {
      "text/plain": "<AxesSubplot:ylabel='집행월'>"
     },
     "execution_count": 36,
     "metadata": {},
     "output_type": "execute_result"
    },
    {
     "name": "stderr",
     "output_type": "stream",
     "text": [
      "/Users/ohyoulooknice/Library/Python/3.8/lib/python/site-packages/IPython/core/events.py:89: UserWarning: Glyph 51665 (\\N{HANGUL SYLLABLE JIB}) missing from current font.\n",
      "  func(*args, **kwargs)\n",
      "/Users/ohyoulooknice/Library/Python/3.8/lib/python/site-packages/IPython/core/events.py:89: UserWarning: Glyph 54665 (\\N{HANGUL SYLLABLE HAENG}) missing from current font.\n",
      "  func(*args, **kwargs)\n",
      "/Users/ohyoulooknice/Library/Python/3.8/lib/python/site-packages/IPython/core/events.py:89: UserWarning: Glyph 50900 (\\N{HANGUL SYLLABLE WEOL}) missing from current font.\n",
      "  func(*args, **kwargs)\n",
      "/Users/ohyoulooknice/Library/Python/3.8/lib/python/site-packages/IPython/core/events.py:89: UserWarning: Glyph 50672 (\\N{HANGUL SYLLABLE YEON}) missing from current font.\n",
      "  func(*args, **kwargs)\n",
      "/Users/ohyoulooknice/Library/Python/3.8/lib/python/site-packages/IPython/core/events.py:89: UserWarning: Glyph 46020 (\\N{HANGUL SYLLABLE DO}) missing from current font.\n",
      "  func(*args, **kwargs)\n",
      "/Users/ohyoulooknice/Library/Python/3.8/lib/python/site-packages/IPython/core/events.py:89: UserWarning: Glyph 44552 (\\N{HANGUL SYLLABLE GEUM}) missing from current font.\n",
      "  func(*args, **kwargs)\n",
      "/Users/ohyoulooknice/Library/Python/3.8/lib/python/site-packages/IPython/core/events.py:89: UserWarning: Glyph 50529 (\\N{HANGUL SYLLABLE AEG}) missing from current font.\n",
      "  func(*args, **kwargs)\n",
      "/Users/ohyoulooknice/Library/Python/3.8/lib/python/site-packages/IPython/core/pylabtools.py:151: UserWarning: Glyph 51665 (\\N{HANGUL SYLLABLE JIB}) missing from current font.\n",
      "  fig.canvas.print_figure(bytes_io, **kw)\n",
      "/Users/ohyoulooknice/Library/Python/3.8/lib/python/site-packages/IPython/core/pylabtools.py:151: UserWarning: Glyph 54665 (\\N{HANGUL SYLLABLE HAENG}) missing from current font.\n",
      "  fig.canvas.print_figure(bytes_io, **kw)\n",
      "/Users/ohyoulooknice/Library/Python/3.8/lib/python/site-packages/IPython/core/pylabtools.py:151: UserWarning: Glyph 50900 (\\N{HANGUL SYLLABLE WEOL}) missing from current font.\n",
      "  fig.canvas.print_figure(bytes_io, **kw)\n",
      "/Users/ohyoulooknice/Library/Python/3.8/lib/python/site-packages/IPython/core/pylabtools.py:151: UserWarning: Glyph 50672 (\\N{HANGUL SYLLABLE YEON}) missing from current font.\n",
      "  fig.canvas.print_figure(bytes_io, **kw)\n",
      "/Users/ohyoulooknice/Library/Python/3.8/lib/python/site-packages/IPython/core/pylabtools.py:151: UserWarning: Glyph 46020 (\\N{HANGUL SYLLABLE DO}) missing from current font.\n",
      "  fig.canvas.print_figure(bytes_io, **kw)\n",
      "/Users/ohyoulooknice/Library/Python/3.8/lib/python/site-packages/IPython/core/pylabtools.py:151: UserWarning: Glyph 44552 (\\N{HANGUL SYLLABLE GEUM}) missing from current font.\n",
      "  fig.canvas.print_figure(bytes_io, **kw)\n",
      "/Users/ohyoulooknice/Library/Python/3.8/lib/python/site-packages/IPython/core/pylabtools.py:151: UserWarning: Glyph 50529 (\\N{HANGUL SYLLABLE AEG}) missing from current font.\n",
      "  fig.canvas.print_figure(bytes_io, **kw)\n"
     ]
    },
    {
     "data": {
      "image/png": "[encoded data removed]",
      "text/plain": "<Figure size 640x480 with 1 Axes>"
     },
     "metadata": {
      "transient": {}
     },
     "output_type": "display_data"
    }
   ],
   "source": [
    "pivot_month.plot.barh()"
   ]
  },
  {
   "cell_type": "code",
   "execution_count": null,
   "metadata": {},
   "outputs": [],
   "source": []
  }
 ],
 "metadata": {
  "kernelspec": {
   "display_name": "Python 3.8.5 64-bit",
   "metadata": {
    "interpreter": {
     "hash": "aee8b7b246df8f9039afb4144a1f6fd8d2ca17a180786b69acc140d282b71a49"
    }
   },
   "name": "python3"
  },
  "language_info": {
   "codemirror_mode": {
    "name": "ipython",
    "version": 3
   },
   "file_extension": ".py",
   "mimetype": "text/x-python",
   "name": "python",
   "nbconvert_exporter": "python",
   "pygments_lexer": "ipython3",
   "version": "3.8.5"
  },
  "orig_nbformat": 2
 },
 "nbformat": 4,
 "nbformat_minor": 2
}