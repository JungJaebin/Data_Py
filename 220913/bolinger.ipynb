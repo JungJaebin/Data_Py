{
 "cells": [
  {
   "cell_type": "code",
   "execution_count": 46,
   "metadata": {},
   "outputs": [],
   "source": [
    "import pandas as pd"
   ]
  },
  {
   "cell_type": "code",
   "execution_count": 47,
   "metadata": {},
   "outputs": [
    {
     "data": {
      "text/html": "<div>\n<style scoped>\n    .dataframe tbody tr th:only-of-type {\n        vertical-align: middle;\n    }\n\n    .dataframe tbody tr th {\n        vertical-align: top;\n    }\n\n    .dataframe thead th {\n        text-align: right;\n    }\n</style>\n<table border=\"1\" class=\"dataframe\">\n  <thead>\n    <tr style=\"text-align: right;\">\n      <th></th>\n      <th>Open</th>\n      <th>High</th>\n      <th>Low</th>\n      <th>Close</th>\n      <th>Adj Close</th>\n      <th>Volume</th>\n    </tr>\n    <tr>\n      <th>Date</th>\n      <th></th>\n      <th></th>\n      <th></th>\n      <th></th>\n      <th></th>\n      <th></th>\n    </tr>\n  </thead>\n  <tbody>\n    <tr>\n      <th>2007-04-10</th>\n      <td>75.070000</td>\n      <td>75.260002</td>\n      <td>75.000000</td>\n      <td>75.239998</td>\n      <td>51.523693</td>\n      <td>35000</td>\n    </tr>\n    <tr>\n      <th>2007-04-11</th>\n      <td>75.160004</td>\n      <td>75.290001</td>\n      <td>75.029999</td>\n      <td>75.040001</td>\n      <td>51.386742</td>\n      <td>87700</td>\n    </tr>\n    <tr>\n      <th>2007-04-12</th>\n      <td>75.059998</td>\n      <td>75.080002</td>\n      <td>74.959999</td>\n      <td>75.029999</td>\n      <td>51.379879</td>\n      <td>78100</td>\n    </tr>\n    <tr>\n      <th>2007-04-13</th>\n      <td>75.040001</td>\n      <td>75.070000</td>\n      <td>74.849998</td>\n      <td>74.910004</td>\n      <td>51.297688</td>\n      <td>18000</td>\n    </tr>\n    <tr>\n      <th>2007-04-16</th>\n      <td>74.989998</td>\n      <td>74.989998</td>\n      <td>74.940002</td>\n      <td>74.980003</td>\n      <td>51.345627</td>\n      <td>52700</td>\n    </tr>\n  </tbody>\n</table>\n</div>",
      "text/plain": "                 Open       High        Low      Close  Adj Close  Volume\nDate                                                                     \n2007-04-10  75.070000  75.260002  75.000000  75.239998  51.523693   35000\n2007-04-11  75.160004  75.290001  75.029999  75.040001  51.386742   87700\n2007-04-12  75.059998  75.080002  74.959999  75.029999  51.379879   78100\n2007-04-13  75.040001  75.070000  74.849998  74.910004  51.297688   18000\n2007-04-16  74.989998  74.989998  74.940002  74.980003  51.345627   52700"
     },
     "execution_count": 47,
     "metadata": {},
     "output_type": "execute_result"
    }
   ],
   "source": [
    "df = pd.read_csv('../csv/BND.csv', index_col = 'Date')\n",
    "\n",
    "df.head()"
   ]
  },
  {
   "cell_type": "code",
   "execution_count": 48,
   "metadata": {},
   "outputs": [
    {
     "data": {
      "text/html": "<div>\n<style scoped>\n    .dataframe tbody tr th:only-of-type {\n        vertical-align: middle;\n    }\n\n    .dataframe tbody tr th {\n        vertical-align: top;\n    }\n\n    .dataframe thead th {\n        text-align: right;\n    }\n</style>\n<table border=\"1\" class=\"dataframe\">\n  <thead>\n    <tr style=\"text-align: right;\">\n      <th></th>\n      <th>Adj Close</th>\n    </tr>\n    <tr>\n      <th>Date</th>\n      <th></th>\n    </tr>\n  </thead>\n  <tbody>\n    <tr>\n      <th>2007-04-10</th>\n      <td>51.523693</td>\n    </tr>\n  </tbody>\n</table>\n</div>",
      "text/plain": "            Adj Close\nDate                 \n2007-04-10  51.523693"
     },
     "execution_count": 48,
     "metadata": {},
     "output_type": "execute_result"
    }
   ],
   "source": [
    "price_df = df.loc[:, ['Adj Close']]\n",
    "\n",
    "price_df.head(1)"
   ]
  },
  {
   "cell_type": "code",
   "execution_count": 49,
   "metadata": {},
   "outputs": [
    {
     "data": {
      "text/html": "<div>\n<style scoped>\n    .dataframe tbody tr th:only-of-type {\n        vertical-align: middle;\n    }\n\n    .dataframe tbody tr th {\n        vertical-align: top;\n    }\n\n    .dataframe thead th {\n        text-align: right;\n    }\n</style>\n<table border=\"1\" class=\"dataframe\">\n  <thead>\n    <tr style=\"text-align: right;\">\n      <th></th>\n      <th>Adj Close</th>\n      <th>center</th>\n    </tr>\n    <tr>\n      <th>Date</th>\n      <th></th>\n      <th></th>\n    </tr>\n  </thead>\n  <tbody>\n    <tr>\n      <th>2007-05-04</th>\n      <td>51.679100</td>\n      <td>NaN</td>\n    </tr>\n    <tr>\n      <th>2007-05-07</th>\n      <td>51.713379</td>\n      <td>51.556713</td>\n    </tr>\n    <tr>\n      <th>2007-05-08</th>\n      <td>51.720268</td>\n      <td>51.566542</td>\n    </tr>\n    <tr>\n      <th>2007-05-09</th>\n      <td>51.658497</td>\n      <td>51.580130</td>\n    </tr>\n    <tr>\n      <th>2007-05-10</th>\n      <td>51.706562</td>\n      <td>51.596464</td>\n    </tr>\n    <tr>\n      <th>2007-05-11</th>\n      <td>51.637943</td>\n      <td>51.613477</td>\n    </tr>\n    <tr>\n      <th>2007-05-14</th>\n      <td>51.603649</td>\n      <td>51.626378</td>\n    </tr>\n  </tbody>\n</table>\n</div>",
      "text/plain": "            Adj Close     center\nDate                            \n2007-05-04  51.679100        NaN\n2007-05-07  51.713379  51.556713\n2007-05-08  51.720268  51.566542\n2007-05-09  51.658497  51.580130\n2007-05-10  51.706562  51.596464\n2007-05-11  51.637943  51.613477\n2007-05-14  51.603649  51.626378"
     },
     "execution_count": 49,
     "metadata": {},
     "output_type": "execute_result"
    }
   ],
   "source": [
    "# 볼린저밴드: 상단, 하단 밴드를 설정 후 주가가 하단 밴드 밑으로 내려가면 매수 / 주가가 상단 밴드 위로 올라가면 매도\n",
    "# 이동평균선 파생변수 생성 → 데이터양 20개의 평균을 구해서 컬럼에 대입\n",
    "\n",
    "price_df['center'] = price_df['Adj Close'].rolling(20).mean()\n",
    "\n",
    "price_df.iloc[18 : 25]"
   ]
  },
  {
   "cell_type": "code",
   "execution_count": 50,
   "metadata": {},
   "outputs": [
    {
     "data": {
      "text/html": "<div>\n<style scoped>\n    .dataframe tbody tr th:only-of-type {\n        vertical-align: middle;\n    }\n\n    .dataframe tbody tr th {\n        vertical-align: top;\n    }\n\n    .dataframe thead th {\n        text-align: right;\n    }\n</style>\n<table border=\"1\" class=\"dataframe\">\n  <thead>\n    <tr style=\"text-align: right;\">\n      <th></th>\n      <th>Adj Close</th>\n      <th>center</th>\n      <th>ub</th>\n    </tr>\n    <tr>\n      <th>Date</th>\n      <th></th>\n      <th></th>\n      <th></th>\n    </tr>\n  </thead>\n  <tbody>\n    <tr>\n      <th>2007-05-04</th>\n      <td>51.679100</td>\n      <td>NaN</td>\n      <td>NaN</td>\n    </tr>\n    <tr>\n      <th>2007-05-07</th>\n      <td>51.713379</td>\n      <td>51.556713</td>\n      <td>51.807910</td>\n    </tr>\n    <tr>\n      <th>2007-05-08</th>\n      <td>51.720268</td>\n      <td>51.566542</td>\n      <td>51.827492</td>\n    </tr>\n    <tr>\n      <th>2007-05-09</th>\n      <td>51.658497</td>\n      <td>51.580130</td>\n      <td>51.829713</td>\n    </tr>\n    <tr>\n      <th>2007-05-10</th>\n      <td>51.706562</td>\n      <td>51.596464</td>\n      <td>51.833301</td>\n    </tr>\n    <tr>\n      <th>2007-05-11</th>\n      <td>51.637943</td>\n      <td>51.613477</td>\n      <td>51.804375</td>\n    </tr>\n    <tr>\n      <th>2007-05-14</th>\n      <td>51.603649</td>\n      <td>51.626378</td>\n      <td>51.770106</td>\n    </tr>\n  </tbody>\n</table>\n</div>",
      "text/plain": "            Adj Close     center         ub\nDate                                       \n2007-05-04  51.679100        NaN        NaN\n2007-05-07  51.713379  51.556713  51.807910\n2007-05-08  51.720268  51.566542  51.827492\n2007-05-09  51.658497  51.580130  51.829713\n2007-05-10  51.706562  51.596464  51.833301\n2007-05-11  51.637943  51.613477  51.804375\n2007-05-14  51.603649  51.626378  51.770106"
     },
     "execution_count": 50,
     "metadata": {},
     "output_type": "execute_result"
    }
   ],
   "source": [
    "# 상단 밴드 파생변수 생성(이동평균선 + 2 * 표준편차)\n",
    "\n",
    "price_df['ub'] = price_df['center'] + 2 * price_df['Adj Close'].rolling(20).std()\n",
    "price_df.iloc[18 : 25]"
   ]
  },
  {
   "cell_type": "code",
   "execution_count": 51,
   "metadata": {},
   "outputs": [
    {
     "data": {
      "text/html": "<div>\n<style scoped>\n    .dataframe tbody tr th:only-of-type {\n        vertical-align: middle;\n    }\n\n    .dataframe tbody tr th {\n        vertical-align: top;\n    }\n\n    .dataframe thead th {\n        text-align: right;\n    }\n</style>\n<table border=\"1\" class=\"dataframe\">\n  <thead>\n    <tr style=\"text-align: right;\">\n      <th></th>\n      <th>Adj Close</th>\n      <th>center</th>\n      <th>ub</th>\n      <th>lb</th>\n    </tr>\n    <tr>\n      <th>Date</th>\n      <th></th>\n      <th></th>\n      <th></th>\n      <th></th>\n    </tr>\n  </thead>\n  <tbody>\n    <tr>\n      <th>2007-05-04</th>\n      <td>51.679100</td>\n      <td>NaN</td>\n      <td>NaN</td>\n      <td>NaN</td>\n    </tr>\n    <tr>\n      <th>2007-05-07</th>\n      <td>51.713379</td>\n      <td>51.556713</td>\n      <td>51.807910</td>\n      <td>51.305517</td>\n    </tr>\n    <tr>\n      <th>2007-05-08</th>\n      <td>51.720268</td>\n      <td>51.566542</td>\n      <td>51.827492</td>\n      <td>51.305592</td>\n    </tr>\n    <tr>\n      <th>2007-05-09</th>\n      <td>51.658497</td>\n      <td>51.580130</td>\n      <td>51.829713</td>\n      <td>51.330546</td>\n    </tr>\n    <tr>\n      <th>2007-05-10</th>\n      <td>51.706562</td>\n      <td>51.596464</td>\n      <td>51.833301</td>\n      <td>51.359627</td>\n    </tr>\n    <tr>\n      <th>2007-05-11</th>\n      <td>51.637943</td>\n      <td>51.613477</td>\n      <td>51.804375</td>\n      <td>51.422579</td>\n    </tr>\n    <tr>\n      <th>2007-05-14</th>\n      <td>51.603649</td>\n      <td>51.626378</td>\n      <td>51.770106</td>\n      <td>51.482650</td>\n    </tr>\n  </tbody>\n</table>\n</div>",
      "text/plain": "            Adj Close     center         ub         lb\nDate                                                  \n2007-05-04  51.679100        NaN        NaN        NaN\n2007-05-07  51.713379  51.556713  51.807910  51.305517\n2007-05-08  51.720268  51.566542  51.827492  51.305592\n2007-05-09  51.658497  51.580130  51.829713  51.330546\n2007-05-10  51.706562  51.596464  51.833301  51.359627\n2007-05-11  51.637943  51.613477  51.804375  51.422579\n2007-05-14  51.603649  51.626378  51.770106  51.482650"
     },
     "execution_count": 51,
     "metadata": {},
     "output_type": "execute_result"
    }
   ],
   "source": [
    "# 하단 밴드 파생변수 생성(이동평균선 - 2 * 표준편차)\n",
    "\n",
    "price_df['lb'] = price_df['center'] - 2 * price_df['Adj Close'].rolling(20).std()\n",
    "price_df.iloc[18 : 25]"
   ]
  },
  {
   "cell_type": "code",
   "execution_count": 52,
   "metadata": {},
   "outputs": [
    {
     "data": {
      "text/html": "<div>\n<style scoped>\n    .dataframe tbody tr th:only-of-type {\n        vertical-align: middle;\n    }\n\n    .dataframe tbody tr th {\n        vertical-align: top;\n    }\n\n    .dataframe thead th {\n        text-align: right;\n    }\n</style>\n<table border=\"1\" class=\"dataframe\">\n  <thead>\n    <tr style=\"text-align: right;\">\n      <th></th>\n      <th>Adj Close</th>\n      <th>center</th>\n      <th>ub</th>\n      <th>lb</th>\n    </tr>\n    <tr>\n      <th>Date</th>\n      <th></th>\n      <th></th>\n      <th></th>\n      <th></th>\n    </tr>\n  </thead>\n  <tbody>\n    <tr>\n      <th>2010-01-04</th>\n      <td>60.611969</td>\n      <td>60.826958</td>\n      <td>61.336124</td>\n      <td>60.317793</td>\n    </tr>\n    <tr>\n      <th>2010-01-05</th>\n      <td>60.789135</td>\n      <td>60.819153</td>\n      <td>61.325461</td>\n      <td>60.312844</td>\n    </tr>\n    <tr>\n      <th>2010-01-06</th>\n      <td>60.766037</td>\n      <td>60.802128</td>\n      <td>61.290324</td>\n      <td>60.313932</td>\n    </tr>\n    <tr>\n      <th>2010-01-07</th>\n      <td>60.719822</td>\n      <td>60.777802</td>\n      <td>61.228214</td>\n      <td>60.327389</td>\n    </tr>\n    <tr>\n      <th>2010-01-08</th>\n      <td>60.781410</td>\n      <td>60.759625</td>\n      <td>61.175685</td>\n      <td>60.343565</td>\n    </tr>\n    <tr>\n      <th>...</th>\n      <td>...</td>\n      <td>...</td>\n      <td>...</td>\n      <td>...</td>\n    </tr>\n    <tr>\n      <th>2019-06-18</th>\n      <td>82.397118</td>\n      <td>81.737070</td>\n      <td>82.743959</td>\n      <td>80.730181</td>\n    </tr>\n    <tr>\n      <th>2019-06-19</th>\n      <td>82.676468</td>\n      <td>81.836350</td>\n      <td>82.799510</td>\n      <td>80.873191</td>\n    </tr>\n    <tr>\n      <th>2019-06-20</th>\n      <td>82.806168</td>\n      <td>81.934650</td>\n      <td>82.870640</td>\n      <td>80.998661</td>\n    </tr>\n    <tr>\n      <th>2019-06-21</th>\n      <td>82.576698</td>\n      <td>82.007045</td>\n      <td>82.903749</td>\n      <td>81.110341</td>\n    </tr>\n    <tr>\n      <th>2019-06-24</th>\n      <td>82.726349</td>\n      <td>82.086923</td>\n      <td>82.937662</td>\n      <td>81.236184</td>\n    </tr>\n  </tbody>\n</table>\n<p>2384 rows × 4 columns</p>\n</div>",
      "text/plain": "            Adj Close     center         ub         lb\nDate                                                  \n2010-01-04  60.611969  60.826958  61.336124  60.317793\n2010-01-05  60.789135  60.819153  61.325461  60.312844\n2010-01-06  60.766037  60.802128  61.290324  60.313932\n2010-01-07  60.719822  60.777802  61.228214  60.327389\n2010-01-08  60.781410  60.759625  61.175685  60.343565\n...               ...        ...        ...        ...\n2019-06-18  82.397118  81.737070  82.743959  80.730181\n2019-06-19  82.676468  81.836350  82.799510  80.873191\n2019-06-20  82.806168  81.934650  82.870640  80.998661\n2019-06-21  82.576698  82.007045  82.903749  81.110341\n2019-06-24  82.726349  82.086923  82.937662  81.236184\n\n[2384 rows x 4 columns]"
     },
     "execution_count": 52,
     "metadata": {},
     "output_type": "execute_result"
    }
   ],
   "source": [
    "# 시작 시간\n",
    "\n",
    "start_time = '2010-01-02'\n",
    "price_df = price_df.loc[start_time:]\n",
    "\n",
    "price_df"
   ]
  },
  {
   "cell_type": "code",
   "execution_count": 53,
   "metadata": {},
   "outputs": [
    {
     "data": {
      "text/html": "<div>\n<style scoped>\n    .dataframe tbody tr th:only-of-type {\n        vertical-align: middle;\n    }\n\n    .dataframe tbody tr th {\n        vertical-align: top;\n    }\n\n    .dataframe thead th {\n        text-align: right;\n    }\n</style>\n<table border=\"1\" class=\"dataframe\">\n  <thead>\n    <tr style=\"text-align: right;\">\n      <th></th>\n      <th>Adj Close</th>\n      <th>center</th>\n      <th>ub</th>\n      <th>lb</th>\n      <th>trade</th>\n    </tr>\n    <tr>\n      <th>Date</th>\n      <th></th>\n      <th></th>\n      <th></th>\n      <th></th>\n      <th></th>\n    </tr>\n  </thead>\n  <tbody>\n    <tr>\n      <th>2010-01-04</th>\n      <td>60.611969</td>\n      <td>60.826958</td>\n      <td>61.336124</td>\n      <td>60.317793</td>\n      <td></td>\n    </tr>\n    <tr>\n      <th>2010-01-05</th>\n      <td>60.789135</td>\n      <td>60.819153</td>\n      <td>61.325461</td>\n      <td>60.312844</td>\n      <td></td>\n    </tr>\n    <tr>\n      <th>2010-01-06</th>\n      <td>60.766037</td>\n      <td>60.802128</td>\n      <td>61.290324</td>\n      <td>60.313932</td>\n      <td></td>\n    </tr>\n    <tr>\n      <th>2010-01-07</th>\n      <td>60.719822</td>\n      <td>60.777802</td>\n      <td>61.228214</td>\n      <td>60.327389</td>\n      <td></td>\n    </tr>\n    <tr>\n      <th>2010-01-08</th>\n      <td>60.781410</td>\n      <td>60.759625</td>\n      <td>61.175685</td>\n      <td>60.343565</td>\n      <td></td>\n    </tr>\n    <tr>\n      <th>...</th>\n      <td>...</td>\n      <td>...</td>\n      <td>...</td>\n      <td>...</td>\n      <td>...</td>\n    </tr>\n    <tr>\n      <th>2019-06-18</th>\n      <td>82.397118</td>\n      <td>81.737070</td>\n      <td>82.743959</td>\n      <td>80.730181</td>\n      <td></td>\n    </tr>\n    <tr>\n      <th>2019-06-19</th>\n      <td>82.676468</td>\n      <td>81.836350</td>\n      <td>82.799510</td>\n      <td>80.873191</td>\n      <td></td>\n    </tr>\n    <tr>\n      <th>2019-06-20</th>\n      <td>82.806168</td>\n      <td>81.934650</td>\n      <td>82.870640</td>\n      <td>80.998661</td>\n      <td></td>\n    </tr>\n    <tr>\n      <th>2019-06-21</th>\n      <td>82.576698</td>\n      <td>82.007045</td>\n      <td>82.903749</td>\n      <td>81.110341</td>\n      <td></td>\n    </tr>\n    <tr>\n      <th>2019-06-24</th>\n      <td>82.726349</td>\n      <td>82.086923</td>\n      <td>82.937662</td>\n      <td>81.236184</td>\n      <td></td>\n    </tr>\n  </tbody>\n</table>\n<p>2384 rows × 5 columns</p>\n</div>",
      "text/plain": "            Adj Close     center         ub         lb trade\nDate                                                        \n2010-01-04  60.611969  60.826958  61.336124  60.317793      \n2010-01-05  60.789135  60.819153  61.325461  60.312844      \n2010-01-06  60.766037  60.802128  61.290324  60.313932      \n2010-01-07  60.719822  60.777802  61.228214  60.327389      \n2010-01-08  60.781410  60.759625  61.175685  60.343565      \n...               ...        ...        ...        ...   ...\n2019-06-18  82.397118  81.737070  82.743959  80.730181      \n2019-06-19  82.676468  81.836350  82.799510  80.873191      \n2019-06-20  82.806168  81.934650  82.870640  80.998661      \n2019-06-21  82.576698  82.007045  82.903749  81.110341      \n2019-06-24  82.726349  82.086923  82.937662  81.236184      \n\n[2384 rows x 5 columns]"
     },
     "execution_count": 53,
     "metadata": {},
     "output_type": "execute_result"
    }
   ],
   "source": [
    "# 'trade' 파생변수 생성, 값들은 비어있는 값\n",
    "\n",
    "price_df['trade'] = ''\n",
    "\n",
    "price_df"
   ]
  },
  {
   "cell_type": "code",
   "execution_count": 54,
   "metadata": {},
   "outputs": [],
   "source": [
    "# 구매 내역 데이터를 삽입\n",
    "# 조건: 상단 밴드보다 종가가 높은 경우\n",
    "#       if 구매 상태\n",
    "#           매도 trade = ''\n",
    "#       else\n",
    "#           아무 행동 X trade = ''\n",
    "#\n",
    "#      하단 밴드보다 종가가 낮은 경우\n",
    "#       if 구매 상태\n",
    "#           구매 상태 유지 trade = 'buy'\n",
    "#       else\n",
    "#           구매 trade = 'buy'\n",
    "#\n",
    "#      상단 밴드와 하단 밴드 사이에 종가가 존재하면\n",
    "#       if 구매 상태\n",
    "#           현 상태 유지 trade = 'buy'\n",
    "#       else\n",
    "#           현 상태 유지 trade = ''"
   ]
  },
  {
   "cell_type": "code",
   "execution_count": 55,
   "metadata": {},
   "outputs": [
    {
     "data": {
      "text/plain": "trade\n       1568\nbuy     816\ndtype: int64"
     },
     "execution_count": 55,
     "metadata": {},
     "output_type": "execute_result"
    }
   ],
   "source": [
    "for i in price_df.index :\n",
    "    if price_df.loc[i, 'Adj Close'] > price_df.loc[i, 'ub'] :\n",
    "        price_df.loc[i, 'trade'] = ''\n",
    "    \n",
    "    elif price_df.loc[i, 'lb'] > price_df.loc[i, 'Adj Close'] :\n",
    "        price_df.loc[i, 'trade'] = 'buy'\n",
    "\n",
    "    elif price_df.loc[i, 'ub'] >= price_df.loc[i, 'Adj Close'] and price_df.loc[i, 'Adj Close'] >= price_df.loc[i, 'lb'] :\n",
    "        if price_df.shift(1).loc[i, 'trade'] == 'buy' :         # shift(1) = 전 행의 데이터\n",
    "            price_df.loc[i, 'trade'] = 'buy'\n",
    "\n",
    "        else :\n",
    "            price_df.loc[i, 'trade'] = ''\n",
    "\n",
    "price_df.value_counts('trade')      # buy 값이 제대로 들어갔는지 확인"
   ]
  },
  {
   "cell_type": "code",
   "execution_count": 56,
   "metadata": {},
   "outputs": [
    {
     "name": "stdout",
     "output_type": "stream",
     "text": [
      "진입일:  2010-03-25 진입 가격:  61.205368\n",
      "청산일:  2010-05-04 진입 가격:  61.205368 청산 가격:  62.186432 | return:  1.016\n",
      "진입일:  2010-09-10 진입 가격:  64.517815\n",
      "청산일:  2010-09-28 진입 가격:  64.517815 청산 가격:  65.29863 | return:  1.0121\n",
      "진입일:  2010-11-12 진입 가격:  64.902885\n",
      "청산일:  2011-03-16 진입 가격:  64.902885 청산 가격:  65.105652 | return:  1.0031\n",
      "진입일:  2011-06-29 진입 가격:  66.049957\n",
      "청산일:  2011-08-01 진입 가격:  66.049957 청산 가격:  67.197464 | return:  1.0174\n",
      "진입일:  2011-11-30 진입 가격:  68.584297\n",
      "청산일:  2011-12-13 진입 가격:  68.584297 청산 가격:  69.032143 | return:  1.0065\n",
      "진입일:  2012-03-14 진입 가격:  69.140411\n",
      "청산일:  2012-04-10 진입 가격:  69.140411 청산 가격:  70.015167 | return:  1.0127\n",
      "진입일:  2012-08-15 진입 가격:  71.121567\n",
      "청산일:  2013-02-25 진입 가격:  71.121567 청산 가격:  71.270378 | return:  1.0021\n",
      "진입일:  2013-05-10 진입 가격:  71.452927\n",
      "청산일:  2013-09-18 진입 가격:  71.452927 청산 가격:  69.627502 | return:  0.9745\n",
      "진입일:  2013-12-24 진입 가격:  69.648918\n",
      "청산일:  2014-02-03 진입 가격:  69.648918 청산 가격:  70.937912 | return:  1.0185\n",
      "진입일:  2014-09-10 진입 가격:  72.17923\n",
      "청산일:  2014-10-01 진입 가격:  72.17923 청산 가격:  72.65773 | return:  1.0066\n",
      "진입일:  2015-02-17 진입 가격:  73.605263\n",
      "청산일:  2015-03-18 진입 가격:  73.605263 청산 가격:  74.53598 | return:  1.0126\n",
      "진입일:  2015-04-28 진입 가격:  74.316902\n",
      "청산일:  2015-07-08 진입 가격:  74.316902 청산 가격:  73.50975 | return:  0.9891\n",
      "진입일:  2015-10-29 진입 가격:  73.890236\n",
      "청산일:  2015-12-01 진입 가격:  73.890236 청산 가격:  74.04142 | return:  1.002\n",
      "진입일:  2016-09-09 진입 가격:  77.30217\n",
      "청산일:  2017-01-05 진입 가격:  77.30217 청산 가격:  75.613007 | return:  0.9781\n",
      "진입일:  2017-03-08 진입 가격:  75.011765\n",
      "청산일:  2017-04-13 진입 가격:  75.011765 청산 가격:  76.464966 | return:  1.0194\n",
      "진입일:  2017-10-26 진입 가격:  77.53038\n",
      "청산일:  2018-03-14 진입 가격:  77.53038 청산 가격:  76.601967 | return:  0.988\n",
      "진입일:  2018-04-20 진입 가격:  76.244148\n",
      "청산일:  2018-05-29 진입 가격:  76.244148 청산 가격:  77.054466 | return:  1.0106\n",
      "진입일:  2018-09-11 진입 가격:  76.900856\n",
      "청산일:  2018-12-04 진입 가격:  76.900856 청산 가격:  76.951714 | return:  1.0007\n",
      "진입일:  2019-03-01 진입 가격:  78.634193\n",
      "청산일:  2019-03-08 진입 가격:  78.634193 청산 가격:  79.258186 | return:  1.0079\n",
      "누적 수익률:  1.0794\n"
     ]
    }
   ],
   "source": [
    "# 손익 계산\n",
    "\n",
    "rtn = 1.0\n",
    "buy = 0.0\n",
    "sell = 0.0\n",
    "\n",
    "price_df['return'] = 1\n",
    "\n",
    "for i in price_df.index :\n",
    "    if price_df.loc[i, 'trade'] == 'buy' and price_df.shift(1).loc[i, 'trade'] == '' :      # 구매하는 경우\n",
    "        buy = price_df.loc[i, 'Adj Close']\n",
    "\n",
    "        print('진입일: ', i, '진입 가격: ', buy)\n",
    "\n",
    "    elif price_df.loc[i, 'trade'] == '' and price_df.shift(1).loc[i, 'trade'] == 'buy' :    # 매도하는 경우\n",
    "        sell = price_df.loc[i, 'Adj Close']\n",
    "        rtn = (sell - buy) / buy + 1        # 손익 계산식\n",
    "        price_df.loc[i, 'return'] = rtn\n",
    "\n",
    "        print('청산일: ', i, '진입 가격: ', buy, '청산 가격: ', sell, '| return: ', round(rtn, 4))\n",
    "\n",
    "    if price_df.loc[i, 'trade'] == '' :         # buy, sell 변수 초기화\n",
    "        buy = 0.0\n",
    "        sell = 0.0\n",
    "\n",
    "\n",
    "acc_rtn = 1.0\n",
    "\n",
    "for i in price_df.index :\n",
    "    rtn = price_df.loc[i, 'return']\n",
    "    acc_rtn = acc_rtn * rtn         # 누적곱\n",
    "    price_df.loc[i, 'acc_rtn'] = acc_rtn\n",
    "\n",
    "print('누적 수익률: ', round(acc_rtn, 4))"
   ]
  },
  {
   "cell_type": "code",
   "execution_count": 57,
   "metadata": {},
   "outputs": [],
   "source": [
    "# 볼린저밴드 모듈 생성\n",
    "# 1. bollinger 폴더 생성\n",
    "# 2. '__init__' 파일 생성\n",
    "# 3. 클래스 생성\n",
    "# 4. 데이터프레임, 기준이 되는 컬럼을 '__init__' 함수에서 인자로 받아오는 함수\n",
    "# 5. 이동평균선, 상단 밴드, 하단 밴드, trade == '' 생성하는 함수 생성\n",
    "# 6. 시작시간은 인자값으로 받아와서 데이터의 개수 필터링\n",
    "# 7. 구매 상태를 삽입하는 함수 생성\n",
    "# 8. 손익 계산하는 함수 생성"
   ]
  },
  {
   "cell_type": "code",
   "execution_count": null,
   "metadata": {},
   "outputs": [],
   "source": []
  }
 ],
 "metadata": {
  "kernelspec": {
   "display_name": "Python 3.8.5 64-bit",
   "metadata": {
    "interpreter": {
     "hash": "aee8b7b246df8f9039afb4144a1f6fd8d2ca17a180786b69acc140d282b71a49"
    }
   },
   "name": "python3"
  },
  "language_info": {
   "codemirror_mode": {
    "name": "ipython",
    "version": 3
   },
   "file_extension": ".py",
   "mimetype": "text/x-python",
   "name": "python",
   "nbconvert_exporter": "python",
   "pygments_lexer": "ipython3",
   "version": "3.8.5"
  },
  "orig_nbformat": 2
 },
 "nbformat": 4,
 "nbformat_minor": 2
}