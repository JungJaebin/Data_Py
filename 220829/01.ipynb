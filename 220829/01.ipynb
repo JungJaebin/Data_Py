{
 "cells": [
  {
   "cell_type": "code",
   "execution_count": 6,
   "metadata": {},
   "outputs": [
    {
     "name": "stdout",
     "output_type": "stream",
     "text": [
      "10\n",
      "Hello world\n",
      "<class 'int'>\n",
      "<class 'str'>\n"
     ]
    }
   ],
   "source": [
    "a = 10\n",
    "b = \"Hello world\"\n",
    "\n",
    "print(a)\n",
    "print(b)\n",
    "\n",
    "print(type(a))\n",
    "print(type(b))"
   ]
  },
  {
   "cell_type": "code",
   "execution_count": 7,
   "metadata": {},
   "outputs": [
    {
     "name": "stdout",
     "output_type": "stream",
     "text": [
      "8 2 15 1.6666666666666667 1 2 125\n"
     ]
    }
   ],
   "source": [
    "# 연산자\n",
    "\n",
    "x = 5\n",
    "y = 3\n",
    "\n",
    "print(x+y, x-y, x*y, x/y, x//y, x%y, x**y)"
   ]
  },
  {
   "cell_type": "code",
   "execution_count": 8,
   "metadata": {},
   "outputs": [
    {
     "name": "stdout",
     "output_type": "stream",
     "text": [
      "6\n"
     ]
    }
   ],
   "source": [
    "# 대입 연산자\n",
    "# x는 5인 상태\n",
    "\n",
    "x += 1\n",
    "\n",
    "print(x)"
   ]
  },
  {
   "cell_type": "code",
   "execution_count": 9,
   "metadata": {},
   "outputs": [
    {
     "name": "stdout",
     "output_type": "stream",
     "text": [
      "3\n"
     ]
    }
   ],
   "source": [
    "# x는 6인 상태\n",
    "\n",
    "x -= 3\n",
    "\n",
    "print(x)"
   ]
  },
  {
   "cell_type": "code",
   "execution_count": 10,
   "metadata": {},
   "outputs": [
    {
     "name": "stdout",
     "output_type": "stream",
     "text": [
      "False True True False True False\n"
     ]
    }
   ],
   "source": [
    "# 비교 연산자\n",
    "\n",
    "a = 5\n",
    "b = 3\n",
    "\n",
    "print(a == b, a != b, a > b, a < b, a >= b, a <= b)"
   ]
  },
  {
   "cell_type": "code",
   "execution_count": 24,
   "metadata": {},
   "outputs": [
    {
     "name": "stdout",
     "output_type": "stream",
     "text": [
      "True\n",
      "False\n",
      "True\n",
      "False\n"
     ]
    }
   ],
   "source": [
    "a = 10\n",
    "\n",
    "print((a > 5) and (a < 15))\n",
    "print((a < 5) and (a < 15))\n",
    "\n",
    "print((a > 5) or (a > 15))\n",
    "\n",
    "print(not(a == 10))"
   ]
  },
  {
   "cell_type": "markdown",
   "metadata": {},
   "source": [
    "### if문\n",
    "1. 조건식이 참인 경우 코드가 실행 (들여쓰기 한 코드가 실행)\n",
    "2. 조건식이 거짓인 경우 코드가 실행 되지 않는다.\n",
    "3. 거짓일 때의 코드를 실행하려면 else문을 사용해야 한다."
   ]
  },
  {
   "cell_type": "code",
   "execution_count": 26,
   "metadata": {},
   "outputs": [
    {
     "name": "stdout",
     "output_type": "stream",
     "text": [
      "a는 10보다 크거나 같다.\n"
     ]
    }
   ],
   "source": [
    "a = 15\n",
    "\n",
    "if a < 10 :\n",
    "    print(\"a는 10보다 작다.\")           # a가 10보다 작은 경우 실행\n",
    "\n",
    "else :\n",
    "    print(\"a는 10보다 크거나 같다.\")     # 그 외의 경우에 실행"
   ]
  },
  {
   "cell_type": "code",
   "execution_count": 4,
   "metadata": {},
   "outputs": [
    {
     "name": "stdout",
     "output_type": "stream",
     "text": [
      "A\n"
     ]
    }
   ],
   "source": [
    "score = int(input(\"점수를 입력해주세요: \"))\n",
    "\n",
    "if score >= 90 :\n",
    "    print(\"A\")\n",
    "\n",
    "elif score >= 80 :\n",
    "    print(\"B\")\n",
    "\n",
    "elif score >= 70 :\n",
    "    print(\"C\")\n",
    "\n",
    "else :\n",
    "    print(\"F\")"
   ]
  },
  {
   "cell_type": "markdown",
   "metadata": {},
   "source": [
    "### 반복문\n",
    "1. for문\n",
    "2. while문"
   ]
  },
  {
   "cell_type": "code",
   "execution_count": 5,
   "metadata": {},
   "outputs": [
    {
     "name": "stdout",
     "output_type": "stream",
     "text": [
      "0\n",
      "1\n",
      "2\n",
      "3\n",
      "4\n"
     ]
    }
   ],
   "source": [
    "# for문\n",
    "# for 변수명 in range(시작값, 종료값, 증가값) :\n",
    "\n",
    "for i in range(0, 5, 1) :\n",
    "    print(i)"
   ]
  },
  {
   "cell_type": "code",
   "execution_count": 6,
   "metadata": {},
   "outputs": [
    {
     "name": "stdout",
     "output_type": "stream",
     "text": [
      "10\n",
      "9\n",
      "8\n",
      "7\n",
      "6\n",
      "5\n",
      "4\n",
      "3\n",
      "2\n"
     ]
    }
   ],
   "source": [
    "for i in range(10, 1, -1) :\n",
    "    print(i)"
   ]
  },
  {
   "cell_type": "code",
   "execution_count": 7,
   "metadata": {},
   "outputs": [
    {
     "name": "stdout",
     "output_type": "stream",
     "text": [
      "0\n",
      "2\n",
      "4\n",
      "6\n",
      "8\n"
     ]
    }
   ],
   "source": [
    "for i in range(0, 10, 2) :\n",
    "    print(i)"
   ]
  },
  {
   "cell_type": "code",
   "execution_count": 24,
   "metadata": {},
   "outputs": [
    {
     "name": "stdout",
     "output_type": "stream",
     "text": [
      "55\n"
     ]
    }
   ],
   "source": [
    "# for문을 이용해서 1부터 10까지의 합계를 출력하시오\n",
    "\n",
    "sum = 0\n",
    "\n",
    "for i in range(1, 11, 1) :\n",
    "    sum += i          # sum = sum + i\n",
    "\n",
    "print(sum)"
   ]
  },
  {
   "cell_type": "code",
   "execution_count": 32,
   "metadata": {},
   "outputs": [
    {
     "name": "stdout",
     "output_type": "stream",
     "text": [
      "650\n"
     ]
    }
   ],
   "source": [
    "# 1부터 50까지의 짝수의 합계를 구사는 식(for + if)\n",
    "'''\n",
    "sum = 0\n",
    "\n",
    "for i in range(2, 51, 2) :\n",
    "    sum += i\n",
    "\n",
    "print(sum)\n",
    "'''\n",
    "\n",
    "sum = 0\n",
    "\n",
    "for i in range(1, 51, 1) :\n",
    "    if i % 2 == 0 :\n",
    "        sum += i\n",
    "\n",
    "print(sum)"
   ]
  },
  {
   "cell_type": "code",
   "execution_count": 22,
   "metadata": {},
   "outputs": [
    {
     "name": "stdout",
     "output_type": "stream",
     "text": [
      "4 6\n",
      "5 5\n",
      "6 4\n"
     ]
    }
   ],
   "source": [
    "# 주사위 2개를 굴려서 합이 10이 되는 경우의 수를 출력하시오(이중 for + if)\n",
    "# 주사위가 2개 (총 경우의 수 36)\n",
    "\n",
    "for i in range(1, 7, 1) :               # 1번 주사위를 경우의 수\n",
    "    for j in range(1, 7, 1) :           # 2번 주사위를 경우의 수\n",
    "        if i + j == 10 :\n",
    "            print(i, j)"
   ]
  },
  {
   "cell_type": "code",
   "execution_count": 1,
   "metadata": {},
   "outputs": [
    {
     "name": "stdout",
     "output_type": "stream",
     "text": [
      "0 1 2 3 4 5 6 "
     ]
    }
   ],
   "source": [
    "# break문: 반복문을 종료\n",
    "\n",
    "for i in range(0, 100, 1) :\n",
    "    if i == 7 :\n",
    "        break\n",
    "    print(i, end=\" \")"
   ]
  },
  {
   "cell_type": "code",
   "execution_count": 2,
   "metadata": {},
   "outputs": [
    {
     "name": "stdout",
     "output_type": "stream",
     "text": [
      "0 1 2 3 4 5 6 7 "
     ]
    }
   ],
   "source": [
    "for i in range(0, 100, 1) :\n",
    "    print(i, end=\" \")\n",
    "    if i == 7 :\n",
    "        break"
   ]
  },
  {
   "cell_type": "code",
   "execution_count": 8,
   "metadata": {},
   "outputs": [
    {
     "name": "stdout",
     "output_type": "stream",
     "text": [
      "903\n"
     ]
    }
   ],
   "source": [
    "# 1부터 1000까지의 합을 구하는데 합계가 900이 넘어가는 최초의 숫자는 무엇인가?\n",
    "\n",
    "# 1. 합계를 구하기 위해서는 초기 합계 변수 하나 생성\n",
    "# 2. for, while 문을 이용하여 1부터 1000까지의 합계를 구하는 반복문 생성\n",
    "# 3. 합계가 900이 넘어가는 지점에서 i값을 출력\n",
    "# 4. i값을 출력한 후에 반복문 종료\n",
    "\n",
    "sum = 0\n",
    "\n",
    "for i in range(1, 1001, 1) :\n",
    "    sum += i\n",
    "    if sum > 900 :\n",
    "        break\n",
    "\n",
    "print(sum)"
   ]
  },
  {
   "cell_type": "code",
   "execution_count": 5,
   "metadata": {},
   "outputs": [
    {
     "name": "stdout",
     "output_type": "stream",
     "text": [
      "(20, 'test') (3, 3.14) (20, 'test', 3, 3.14) (20, 'test', 20, 'test', 20, 'test')\n"
     ]
    }
   ],
   "source": [
    "# tuple 데이터형태\n",
    "\n",
    "a = (20, \"test\")\n",
    "b = (3, 3.14)\n",
    "c = a + b\n",
    "d = a * 3\n",
    "\n",
    "print(a, b, c, d)"
   ]
  },
  {
   "cell_type": "code",
   "execution_count": 9,
   "metadata": {},
   "outputs": [
    {
     "name": "stdout",
     "output_type": "stream",
     "text": [
      "20\n"
     ]
    }
   ],
   "source": [
    "# 20이라는 숫자를 출력 하려면\n",
    "\n",
    "print(a[0])"
   ]
  },
  {
   "cell_type": "code",
   "execution_count": 13,
   "metadata": {},
   "outputs": [
    {
     "data": {
      "text/plain": "(10, 20, 30)"
     },
     "execution_count": 13,
     "metadata": {},
     "output_type": "execute_result"
    }
   ],
   "source": [
    "a = (10, 20, 30, 40)\n",
    "\n",
    "a[:3]"
   ]
  },
  {
   "cell_type": "code",
   "execution_count": 14,
   "metadata": {},
   "outputs": [],
   "source": [
    "# list 데이터형\n",
    "\n",
    "a = [20, 10, 50, 5]\n",
    "b = [10, 20, 30, 40]"
   ]
  },
  {
   "cell_type": "code",
   "execution_count": 15,
   "metadata": {},
   "outputs": [
    {
     "data": {
      "text/plain": "[5, 10, 20, 50]"
     },
     "execution_count": 15,
     "metadata": {},
     "output_type": "execute_result"
    }
   ],
   "source": [
    "# sort(): 오름차순 정렬\n",
    "\n",
    "a.sort()\n",
    "\n",
    "a"
   ]
  },
  {
   "cell_type": "code",
   "execution_count": 16,
   "metadata": {},
   "outputs": [
    {
     "data": {
      "text/plain": "[50, 20, 10, 5]"
     },
     "execution_count": 16,
     "metadata": {},
     "output_type": "execute_result"
    }
   ],
   "source": [
    "# reverse(): 역순으로 정렬\n",
    "\n",
    "a.reverse()\n",
    "\n",
    "a"
   ]
  },
  {
   "cell_type": "code",
   "execution_count": 19,
   "metadata": {},
   "outputs": [
    {
     "name": "stdout",
     "output_type": "stream",
     "text": [
      "[50, 20, 10, 5, 70, 70, 70]\n"
     ]
    }
   ],
   "source": [
    "# append(): 리스트 가장 뒤에 값을 추가\n",
    "\n",
    "a.append(70)\n",
    "\n",
    "print(a)"
   ]
  },
  {
   "cell_type": "code",
   "execution_count": 21,
   "metadata": {},
   "outputs": [
    {
     "name": "stdout",
     "output_type": "stream",
     "text": [
      "[3, 6, 9, 12, 15, 18, 21, 24, 27, 30, 33, 36, 39, 42, 45, 48, 51, 54, 57, 60, 63, 66, 69]\n"
     ]
    }
   ],
   "source": [
    "# 1부터 70까지 3의 배수를 리스트로 만들어서 출력하시오.\n",
    "# 리스트로 출력을 하려면 비어있는 리스트 변수를 하나 생성\n",
    "\n",
    "a = []\n",
    "\n",
    "for i in range(1, 71, 1) :\n",
    "    if i % 3 == 0:\n",
    "        a.append(i)\n",
    "\n",
    "print(a)"
   ]
  },
  {
   "cell_type": "code",
   "execution_count": 24,
   "metadata": {},
   "outputs": [],
   "source": [
    "# 딕셔너리 형태\n",
    "# {key : value, key2 : value2...}\n",
    "\n",
    "dict = {\"name\" : \"test\", \"age\" : 20, \"phone\" : \"01012345678\"}"
   ]
  },
  {
   "cell_type": "code",
   "execution_count": 26,
   "metadata": {},
   "outputs": [
    {
     "name": "stdout",
     "output_type": "stream",
     "text": [
      "test\n"
     ]
    }
   ],
   "source": [
    "print(dict[\"name\"])"
   ]
  },
  {
   "cell_type": "code",
   "execution_count": 27,
   "metadata": {},
   "outputs": [],
   "source": [
    "dict[\"area\"] = \"seoul\""
   ]
  },
  {
   "cell_type": "code",
   "execution_count": 28,
   "metadata": {},
   "outputs": [
    {
     "name": "stdout",
     "output_type": "stream",
     "text": [
      "{'name': 'test', 'age': 20, 'phone': '01012345678', 'area': 'seoul'}\n"
     ]
    }
   ],
   "source": [
    "print(dict)"
   ]
  },
  {
   "cell_type": "code",
   "execution_count": 30,
   "metadata": {},
   "outputs": [],
   "source": [
    "# 데이터의 형태 [{ }, { }, { }]\n",
    "\n",
    "test_data = [\n",
    "    {\"name\" : \"test\",\n",
    "    \"age\" : 20},\n",
    "    {\"name2\" : \"test2\",\n",
    "    \"age\" : 25},\n",
    "    {\"name3\" : \"test3\",\n",
    "    \"age\" : 30}\n",
    "]"
   ]
  },
  {
   "cell_type": "code",
   "execution_count": 31,
   "metadata": {},
   "outputs": [
    {
     "name": "stdout",
     "output_type": "stream",
     "text": [
      "[{'name': 'test', 'age': 20}, {'name2': 'test2', 'age': 25}, {'name3': 'test3', 'age': 30}]\n"
     ]
    }
   ],
   "source": [
    "print(test_data)"
   ]
  },
  {
   "cell_type": "code",
   "execution_count": 33,
   "metadata": {},
   "outputs": [
    {
     "name": "stdout",
     "output_type": "stream",
     "text": [
      "{'name': 'test', 'age': 20}\n",
      "test\n"
     ]
    }
   ],
   "source": [
    "# test 문구를 출력하려면?\n",
    "\n",
    "print(test_data[0])\n",
    "\n",
    "print(test_data[0][\"name\"])"
   ]
  },
  {
   "cell_type": "code",
   "execution_count": 34,
   "metadata": {},
   "outputs": [
    {
     "name": "stdout",
     "output_type": "stream",
     "text": [
      "HELLO WORLD\n",
      "hello world\n",
      "Hello World\n"
     ]
    }
   ],
   "source": [
    "# 대소문자 변환\n",
    "# upper(): 모든 문자의 대문자화 \n",
    "# lower(): 모든 문자의 소문자화\n",
    "# title(): 각 단어의 첫번째 글자만 대문자화\n",
    "\n",
    "a = \"Hello world\"\n",
    "\n",
    "print(a.upper())\n",
    "print(a.lower())\n",
    "print(a.title())"
   ]
  },
  {
   "cell_type": "code",
   "execution_count": 36,
   "metadata": {},
   "outputs": [
    {
     "name": "stdout",
     "output_type": "stream",
     "text": [
      "   hello  world  \n"
     ]
    },
    {
     "data": {
      "text/plain": "'   hello  world  '"
     },
     "execution_count": 36,
     "metadata": {},
     "output_type": "execute_result"
    }
   ],
   "source": [
    "# 공백 제거 함수\n",
    "# strip()\n",
    "# replace()\n",
    "\n",
    "a = \"   hello  world  \"\n",
    "\n",
    "print(a)\n",
    "a"
   ]
  },
  {
   "cell_type": "code",
   "execution_count": 37,
   "metadata": {},
   "outputs": [
    {
     "data": {
      "text/plain": "'   hello  world'"
     },
     "execution_count": 37,
     "metadata": {},
     "output_type": "execute_result"
    }
   ],
   "source": [
    "#lstrip(): 왼쪽만 공백 제거\n",
    "#rstrip(): 오른쪽만 공백 제거\n",
    "\n",
    "a.strip()\n",
    "a.lstrip()\n",
    "a.rstrip()"
   ]
  },
  {
   "cell_type": "code",
   "execution_count": 38,
   "metadata": {},
   "outputs": [
    {
     "data": {
      "text/plain": "'   hi  world  '"
     },
     "execution_count": 38,
     "metadata": {},
     "output_type": "execute_result"
    }
   ],
   "source": [
    "a.replace(\"hello\", \"hi\")"
   ]
  },
  {
   "cell_type": "code",
   "execution_count": 39,
   "metadata": {},
   "outputs": [
    {
     "data": {
      "text/plain": "'helloworld'"
     },
     "execution_count": 39,
     "metadata": {},
     "output_type": "execute_result"
    }
   ],
   "source": [
    "a.replace(\" \", \"\")"
   ]
  },
  {
   "cell_type": "code",
   "execution_count": 40,
   "metadata": {},
   "outputs": [
    {
     "data": {
      "text/plain": "'a,b,c,d,e'"
     },
     "execution_count": 40,
     "metadata": {},
     "output_type": "execute_result"
    }
   ],
   "source": [
    "# split(): 기준이 되는 문자열이나 , . / 등의 특수문자열을 기준으로 문자열을 나눠주는 역할\n",
    "\n",
    "a = \"a,b,c,d,e\"\n",
    "\n",
    "a"
   ]
  },
  {
   "cell_type": "code",
   "execution_count": 41,
   "metadata": {},
   "outputs": [
    {
     "data": {
      "text/plain": "['a', 'b', 'c', 'd', 'e']"
     },
     "execution_count": 41,
     "metadata": {},
     "output_type": "execute_result"
    }
   ],
   "source": [
    "a.split(\",\")"
   ]
  },
  {
   "cell_type": "code",
   "execution_count": 42,
   "metadata": {},
   "outputs": [
    {
     "name": "stdout",
     "output_type": "stream",
     "text": [
      "Hello World\n",
      "Hello World\n"
     ]
    }
   ],
   "source": [
    "# 함수: 뭔가 행동, 데이터를 변환\n",
    "# def 함수명 (매개변수):\n",
    "\n",
    "def func_1():\n",
    "    print(\"Hello World\")\n",
    "\n",
    "func_1()\n",
    "func_1()"
   ]
  },
  {
   "cell_type": "code",
   "execution_count": 44,
   "metadata": {},
   "outputs": [
    {
     "name": "stdout",
     "output_type": "stream",
     "text": [
      "15\n"
     ]
    }
   ],
   "source": [
    "# 함수 안에 있는 result 라는 변수는 '지역 변수' 라고 부른다.\n",
    "# 함수 밖에 있는 x 라는 변수는 '전역 변수' 라고 부른다.\n",
    "\n",
    "x = 3\n",
    "\n",
    "def func_2 (a) :\n",
    "    result = a * x\n",
    "    return result\n",
    "\n",
    "print(func_2(5))"
   ]
  },
  {
   "cell_type": "code",
   "execution_count": 47,
   "metadata": {},
   "outputs": [
    {
     "name": "stdout",
     "output_type": "stream",
     "text": [
      "2\n",
      "6\n"
     ]
    }
   ],
   "source": [
    "def func_3 (a, b, c = 5):\n",
    "    result = a + b - c\n",
    "    return result\n",
    "\n",
    "print(func_3(5, 2))\n",
    "print(func_3(5, 2, 1))"
   ]
  },
  {
   "cell_type": "code",
   "execution_count": null,
   "metadata": {},
   "outputs": [],
   "source": []
  }
 ],
 "metadata": {
  "kernelspec": {
   "display_name": "Python 3.10.5 64-bit",
   "metadata": {
    "interpreter": {
     "hash": "aee8b7b246df8f9039afb4144a1f6fd8d2ca17a180786b69acc140d282b71a49"
    }
   },
   "name": "python3"
  },
  "language_info": {
   "codemirror_mode": {
    "name": "ipython",
    "version": 3
   },
   "file_extension": ".py",
   "mimetype": "text/x-python",
   "name": "python",
   "nbconvert_exporter": "python",
   "pygments_lexer": "ipython3",
   "version": "3.10.5-final"
  },
  "orig_nbformat": 2
 },
 "nbformat": 4,
 "nbformat_minor": 2
}