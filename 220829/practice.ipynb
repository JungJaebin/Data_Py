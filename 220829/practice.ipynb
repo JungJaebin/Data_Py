{
 "cells": [
  {
   "cell_type": "code",
   "execution_count": 6,
   "metadata": {},
   "outputs": [
    {
     "name": "stdout",
     "output_type": "stream",
     "text": [
      "14\n",
      "28\n",
      "42\n",
      "56\n",
      "70\n",
      "84\n",
      "98\n",
      "112\n",
      "126\n"
     ]
    }
   ],
   "source": [
    "# 구구단 n단 구하기\n",
    "\n",
    "n = int(input(\"몇 단을 구할건지 입력하세요: \"))\n",
    "\n",
    "i = 1\n",
    "\n",
    "for i in range(1, 10, 1) :\n",
    "    gugu = n * i\n",
    "    print(gugu)"
   ]
  },
  {
   "cell_type": "code",
   "execution_count": 14,
   "metadata": {},
   "outputs": [
    {
     "name": "stdout",
     "output_type": "stream",
     "text": [
      "233168\n"
     ]
    }
   ],
   "source": [
    "# 10 미만의 자연수에서 3과 5의 배수를 구하면 3, 5, 6, 9 이다.\n",
    "# 이들의 총 합은 23이다.\n",
    "# 1000 미만의 자연수에서 3의 배수와 5의 배수의 총 합을 구하라.\n",
    "\n",
    "sum = 0\n",
    "\n",
    "for i in range(1, 1000) :\n",
    "    if i % 3 == 0 or i % 5 == 0 :\n",
    "        sum += i\n",
    "        \n",
    "print(sum)"
   ]
  },
  {
   "cell_type": "code",
   "execution_count": 1,
   "metadata": {},
   "outputs": [
    {
     "name": "stdout",
     "output_type": "stream",
     "text": [
      "903\n"
     ]
    }
   ],
   "source": [
    "# 1부터 1000까지의 합을 구하는데 합계가 900이 넘어가는 최초의 숫자는 무엇인가?\n",
    "\n",
    "# 1. 합계를 구하기 위해서는 초기 합계 변수 하나 생성\n",
    "# 2. for, while 문을 이용하여 1부터 1000까지의 합계를 구하는 반복문 생성\n",
    "# 3. 합계가 900이 넘어가는 지점에서 i값을 출력\n",
    "# 4. i값을 출력한 후에 반복문 종료\n",
    "\n",
    "sum = 0\n",
    "\n",
    "for i in range(1, 1001, 1) :\n",
    "    sum += i\n",
    "    if sum > 900 :\n",
    "        break\n",
    "\n",
    "print(sum)"
   ]
  },
  {
   "cell_type": "code",
   "execution_count": 6,
   "metadata": {},
   "outputs": [
    {
     "name": "stdout",
     "output_type": "stream",
     "text": [
      "[3, 6, 9, 12, 15, 18, 21, 24, 27, 30, 33, 36, 39, 42, 45, 48, 51, 54, 57, 60, 63, 66, 69]\n"
     ]
    }
   ],
   "source": [
    "# 1부터 70까지 3의 배수를 리스트로 만들어서 출력하시오.\n",
    "# 리스트로 출력을 하려면 비어있는 리스트 변수를 하나 생성\n",
    "\n",
    "a = []\n",
    "\n",
    "for i in range(3, 71, 3) :\n",
    "    a.append(i)\n",
    "\n",
    "print(a)"
   ]
  },
  {
   "cell_type": "code",
   "execution_count": 7,
   "metadata": {},
   "outputs": [
    {
     "name": "stdout",
     "output_type": "stream",
     "text": [
      "banana\n"
     ]
    }
   ],
   "source": [
    "dict = {\"fruit1\" : \"apple\", \"fruit2\" : \"banana\", \"fruit3\" : \"kiwi\"}\n",
    "\n",
    "print(dict[\"fruit2\"])"
   ]
  },
  {
   "cell_type": "code",
   "execution_count": 8,
   "metadata": {},
   "outputs": [
    {
     "name": "stdout",
     "output_type": "stream",
     "text": [
      "{'fruit1': 'apple', 'fruit2': 'banana', 'fruit3': 'kiwi', 'fruit4': 'melon'}\n"
     ]
    }
   ],
   "source": [
    "dict[\"fruit4\"] = \"melon\"\n",
    "\n",
    "print(dict)"
   ]
  },
  {
   "cell_type": "code",
   "execution_count": 10,
   "metadata": {},
   "outputs": [
    {
     "name": "stdout",
     "output_type": "stream",
     "text": [
      "[{'name': 'test', 'age': 20}, {'name2': 'test2', 'age': 25}, {'name3': 'test3', 'age': 30}]\n"
     ]
    }
   ],
   "source": [
    "# 데이터의 형태 [{ }, { }, { }]\n",
    "\n",
    "test_data = [\n",
    "    {\"name\" : \"test\",\n",
    "    \"age\" : 20},\n",
    "    {\"name2\" : \"test2\",\n",
    "    \"age\" : 25},\n",
    "    {\"name3\" : \"test3\",\n",
    "    \"age\" : 30}\n",
    "]\n",
    "\n",
    "print(test_data)"
   ]
  },
  {
   "cell_type": "code",
   "execution_count": 13,
   "metadata": {},
   "outputs": [
    {
     "name": "stdout",
     "output_type": "stream",
     "text": [
      "{'name': 'test', 'age': 20}\n",
      "test\n"
     ]
    }
   ],
   "source": [
    "# test 문구를 출력하려면?\n",
    "\n",
    "print(test_data[0][\"name\"])"
   ]
  },
  {
   "cell_type": "code",
   "execution_count": 15,
   "metadata": {},
   "outputs": [
    {
     "data": {
      "text/plain": "'Akja Anvow Xmca'"
     },
     "execution_count": 15,
     "metadata": {},
     "output_type": "execute_result"
    }
   ],
   "source": [
    "a = \"akja anvow xmca\"\n",
    "\n",
    "a.title()"
   ]
  },
  {
   "cell_type": "code",
   "execution_count": 21,
   "metadata": {},
   "outputs": [
    {
     "data": {
      "text/plain": "'helloworld'"
     },
     "execution_count": 21,
     "metadata": {},
     "output_type": "execute_result"
    }
   ],
   "source": [
    "a = \"   hello    world   \"\n",
    "\n",
    "a.strip()\n",
    "\n",
    "a.replace(\" \", \"\")"
   ]
  },
  {
   "cell_type": "code",
   "execution_count": 25,
   "metadata": {},
   "outputs": [
    {
     "data": {
      "text/plain": "['a', 'b', 'c', 'd', 'e']"
     },
     "execution_count": 25,
     "metadata": {},
     "output_type": "execute_result"
    }
   ],
   "source": [
    "a = \"a/b/c/d/e\"\n",
    "\n",
    "a.split(\"/\")"
   ]
  },
  {
   "cell_type": "code",
   "execution_count": 26,
   "metadata": {},
   "outputs": [
    {
     "name": "stdout",
     "output_type": "stream",
     "text": [
      "15\n"
     ]
    }
   ],
   "source": [
    "def add(*args) :\n",
    "    \n",
    "    sum = 0\n",
    "    \n",
    "    for i in args :\n",
    "        sum += i\n",
    "    \n",
    "    return sum\n",
    "\n",
    "sum = add(1, 2, 3, 4, 5)\n",
    "\n",
    "print(sum)"
   ]
  },
  {
   "cell_type": "code",
   "execution_count": null,
   "metadata": {},
   "outputs": [],
   "source": []
  }
 ],
 "metadata": {
  "kernelspec": {
   "display_name": "Python 3.10.5 64-bit",
   "metadata": {
    "interpreter": {
     "hash": "aee8b7b246df8f9039afb4144a1f6fd8d2ca17a180786b69acc140d282b71a49"
    }
   },
   "name": "python3"
  },
  "language_info": {
   "codemirror_mode": {
    "name": "ipython",
    "version": 3
   },
   "file_extension": ".py",
   "mimetype": "text/x-python",
   "name": "python",
   "nbconvert_exporter": "python",
   "pygments_lexer": "ipython3",
   "version": "3.10.5"
  },
  "orig_nbformat": 2
 },
 "nbformat": 4,
 "nbformat_minor": 2
}