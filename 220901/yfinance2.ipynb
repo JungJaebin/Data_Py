{
 "cells": [
  {
   "cell_type": "markdown",
   "metadata": {},
   "source": [
    "# yfinance\n",
    "---"
   ]
  },
  {
   "cell_type": "markdown",
   "metadata": {},
   "source": [
    "## Q.\n",
    "- 각자 한종목의 데이터를 선택\n",
    "- open, close, high, low 컬럼의 값들을 소수점 2번자리까지 반올림 유지\n",
    "- NaN 값이 존재하면, 이를 시가로 변경\n",
    "- 파생변수 등락폭(종가-시가) 생성\n",
    "- 등락율(등락폭 / 시가 * 100) 파생변수 생성\n",
    "- 시가 / 종가 / 등락폭 / 볼륨 데이터를 시각화하여 표시 subplot 4개의 그래프 생성"
   ]
  },
  {
   "cell_type": "code",
   "execution_count": 1,
   "metadata": {},
   "outputs": [
    {
     "name": "stdout",
     "output_type": "stream",
     "text": [
      "Requirement already satisfied: yfinance in /Library/Frameworks/Python.framework/Versions/3.8/lib/python3.8/site-packages (0.1.74)\n",
      "Requirement already satisfied: numpy>=1.15 in /Library/Frameworks/Python.framework/Versions/3.8/lib/python3.8/site-packages (from yfinance) (1.23.2)\n",
      "Requirement already satisfied: pandas>=0.24.0 in /Library/Frameworks/Python.framework/Versions/3.8/lib/python3.8/site-packages (from yfinance) (1.4.4)\n",
      "Requirement already satisfied: requests>=2.26 in /Users/ohyoulooknice/Library/Python/3.8/lib/python/site-packages (from yfinance) (2.28.1)\n",
      "Requirement already satisfied: multitasking>=0.0.7 in /Library/Frameworks/Python.framework/Versions/3.8/lib/python3.8/site-packages (from yfinance) (0.0.11)\n",
      "Requirement already satisfied: lxml>=4.5.1 in /Library/Frameworks/Python.framework/Versions/3.8/lib/python3.8/site-packages (from yfinance) (4.9.1)\n",
      "Requirement already satisfied: pytz>=2020.1 in /Library/Frameworks/Python.framework/Versions/3.8/lib/python3.8/site-packages (from pandas>=0.24.0->yfinance) (2022.2.1)\n",
      "Requirement already satisfied: python-dateutil>=2.8.1 in /Users/ohyoulooknice/Library/Python/3.8/lib/python/site-packages (from pandas>=0.24.0->yfinance) (2.8.2)\n",
      "Requirement already satisfied: certifi>=2017.4.17 in /Users/ohyoulooknice/Library/Python/3.8/lib/python/site-packages (from requests>=2.26->yfinance) (2022.6.15)\n",
      "Requirement already satisfied: charset-normalizer<3,>=2 in /Users/ohyoulooknice/Library/Python/3.8/lib/python/site-packages (from requests>=2.26->yfinance) (2.1.1)\n",
      "Requirement already satisfied: idna<4,>=2.5 in /Users/ohyoulooknice/Library/Python/3.8/lib/python/site-packages (from requests>=2.26->yfinance) (3.3)\n",
      "Requirement already satisfied: urllib3<1.27,>=1.21.1 in /Users/ohyoulooknice/Library/Python/3.8/lib/python/site-packages (from requests>=2.26->yfinance) (1.26.12)\n",
      "Requirement already satisfied: six>=1.5 in /Users/ohyoulooknice/Library/Python/3.8/lib/python/site-packages (from python-dateutil>=2.8.1->pandas>=0.24.0->yfinance) (1.16.0)\n",
      "\u001b[33mWARNING: You are using pip version 20.1.1; however, version 22.2.2 is available.\n",
      "You should consider upgrading via the '/usr/local/bin/python3 -m pip install --upgrade pip' command.\u001b[0m\n",
      "Note: you may need to restart the kernel to use updated packages.\n"
     ]
    }
   ],
   "source": [
    "pip install yfinance"
   ]
  },
  {
   "cell_type": "code",
   "execution_count": 2,
   "metadata": {},
   "outputs": [],
   "source": [
    "import yfinance as yf\n",
    "import pandas as pd"
   ]
  },
  {
   "cell_type": "code",
   "execution_count": 3,
   "metadata": {},
   "outputs": [
    {
     "name": "stdout",
     "output_type": "stream",
     "text": [
      "[*********************100%***********************]  1 of 1 completed\n"
     ]
    }
   ],
   "source": [
    "df_ks = yf.download('003490.KS', start='2019-01-01', end = '2020-01-01')            #대한항공\n",
    "df_ks_copy = df_ks"
   ]
  },
  {
   "cell_type": "code",
   "execution_count": 4,
   "metadata": {},
   "outputs": [
    {
     "data": {
      "text/html": "<div>\n<style scoped>\n    .dataframe tbody tr th:only-of-type {\n        vertical-align: middle;\n    }\n\n    .dataframe tbody tr th {\n        vertical-align: top;\n    }\n\n    .dataframe thead th {\n        text-align: right;\n    }\n</style>\n<table border=\"1\" class=\"dataframe\">\n  <thead>\n    <tr style=\"text-align: right;\">\n      <th></th>\n      <th>Open</th>\n      <th>High</th>\n      <th>Low</th>\n      <th>Close</th>\n      <th>Adj Close</th>\n      <th>Volume</th>\n    </tr>\n    <tr>\n      <th>Date</th>\n      <th></th>\n      <th></th>\n      <th></th>\n      <th></th>\n      <th></th>\n      <th></th>\n    </tr>\n  </thead>\n  <tbody>\n    <tr>\n      <th>2019-01-02</th>\n      <td>32950.0</td>\n      <td>32950.0</td>\n      <td>32050.0</td>\n      <td>32400.0</td>\n      <td>32400.0</td>\n      <td>349580</td>\n    </tr>\n    <tr>\n      <th>2019-01-03</th>\n      <td>32700.0</td>\n      <td>32950.0</td>\n      <td>31650.0</td>\n      <td>31800.0</td>\n      <td>31800.0</td>\n      <td>464995</td>\n    </tr>\n    <tr>\n      <th>2019-01-04</th>\n      <td>31650.0</td>\n      <td>32450.0</td>\n      <td>31300.0</td>\n      <td>32350.0</td>\n      <td>32350.0</td>\n      <td>424001</td>\n    </tr>\n    <tr>\n      <th>2019-01-07</th>\n      <td>32600.0</td>\n      <td>33500.0</td>\n      <td>32300.0</td>\n      <td>33500.0</td>\n      <td>33500.0</td>\n      <td>619120</td>\n    </tr>\n    <tr>\n      <th>2019-01-08</th>\n      <td>33550.0</td>\n      <td>34050.0</td>\n      <td>32900.0</td>\n      <td>33900.0</td>\n      <td>33900.0</td>\n      <td>515749</td>\n    </tr>\n    <tr>\n      <th>...</th>\n      <td>...</td>\n      <td>...</td>\n      <td>...</td>\n      <td>...</td>\n      <td>...</td>\n      <td>...</td>\n    </tr>\n    <tr>\n      <th>2019-12-23</th>\n      <td>27800.0</td>\n      <td>29700.0</td>\n      <td>27200.0</td>\n      <td>29100.0</td>\n      <td>29100.0</td>\n      <td>1847155</td>\n    </tr>\n    <tr>\n      <th>2019-12-24</th>\n      <td>29150.0</td>\n      <td>29800.0</td>\n      <td>27750.0</td>\n      <td>28000.0</td>\n      <td>28000.0</td>\n      <td>1066768</td>\n    </tr>\n    <tr>\n      <th>2019-12-26</th>\n      <td>27600.0</td>\n      <td>28200.0</td>\n      <td>27600.0</td>\n      <td>27900.0</td>\n      <td>27900.0</td>\n      <td>352610</td>\n    </tr>\n    <tr>\n      <th>2019-12-27</th>\n      <td>27550.0</td>\n      <td>28450.0</td>\n      <td>27250.0</td>\n      <td>28300.0</td>\n      <td>28300.0</td>\n      <td>470749</td>\n    </tr>\n    <tr>\n      <th>2019-12-30</th>\n      <td>28750.0</td>\n      <td>28850.0</td>\n      <td>28300.0</td>\n      <td>28500.0</td>\n      <td>28500.0</td>\n      <td>428087</td>\n    </tr>\n  </tbody>\n</table>\n<p>246 rows × 6 columns</p>\n</div>",
      "text/plain": "               Open     High      Low    Close  Adj Close   Volume\nDate                                                              \n2019-01-02  32950.0  32950.0  32050.0  32400.0    32400.0   349580\n2019-01-03  32700.0  32950.0  31650.0  31800.0    31800.0   464995\n2019-01-04  31650.0  32450.0  31300.0  32350.0    32350.0   424001\n2019-01-07  32600.0  33500.0  32300.0  33500.0    33500.0   619120\n2019-01-08  33550.0  34050.0  32900.0  33900.0    33900.0   515749\n...             ...      ...      ...      ...        ...      ...\n2019-12-23  27800.0  29700.0  27200.0  29100.0    29100.0  1847155\n2019-12-24  29150.0  29800.0  27750.0  28000.0    28000.0  1066768\n2019-12-26  27600.0  28200.0  27600.0  27900.0    27900.0   352610\n2019-12-27  27550.0  28450.0  27250.0  28300.0    28300.0   470749\n2019-12-30  28750.0  28850.0  28300.0  28500.0    28500.0   428087\n\n[246 rows x 6 columns]"
     },
     "execution_count": 4,
     "metadata": {},
     "output_type": "execute_result"
    }
   ],
   "source": [
    "df_ks_copy"
   ]
  },
  {
   "cell_type": "code",
   "execution_count": 5,
   "metadata": {},
   "outputs": [],
   "source": [
    "df_ks_copy[\"월\"] = df_ks_copy[\"Open\"]\n",
    "df_ks_copy[\"월\"] = pd.to_datetime(df_ks_copy.index, format=\"%Y-%m-%d %H:%M:%S\").month.to_list()\n",
    "df_ks_copy[\"월\"] = df_ks_copy[\"월\"].astype(\"str\") + \"월\""
   ]
  },
  {
   "cell_type": "code",
   "execution_count": 6,
   "metadata": {},
   "outputs": [
    {
     "data": {
      "text/html": "<div>\n<style scoped>\n    .dataframe tbody tr th:only-of-type {\n        vertical-align: middle;\n    }\n\n    .dataframe tbody tr th {\n        vertical-align: top;\n    }\n\n    .dataframe thead th {\n        text-align: right;\n    }\n</style>\n<table border=\"1\" class=\"dataframe\">\n  <thead>\n    <tr style=\"text-align: right;\">\n      <th></th>\n      <th>Open</th>\n      <th>High</th>\n      <th>Low</th>\n      <th>Close</th>\n      <th>Adj Close</th>\n      <th>Volume</th>\n      <th>월</th>\n    </tr>\n    <tr>\n      <th>Date</th>\n      <th></th>\n      <th></th>\n      <th></th>\n      <th></th>\n      <th></th>\n      <th></th>\n      <th></th>\n    </tr>\n  </thead>\n  <tbody>\n    <tr>\n      <th>2019-01-02</th>\n      <td>32950.0</td>\n      <td>32950.0</td>\n      <td>32050.0</td>\n      <td>32400.0</td>\n      <td>32400.0</td>\n      <td>349580</td>\n      <td>1월</td>\n    </tr>\n    <tr>\n      <th>2019-01-03</th>\n      <td>32700.0</td>\n      <td>32950.0</td>\n      <td>31650.0</td>\n      <td>31800.0</td>\n      <td>31800.0</td>\n      <td>464995</td>\n      <td>1월</td>\n    </tr>\n    <tr>\n      <th>2019-01-04</th>\n      <td>31650.0</td>\n      <td>32450.0</td>\n      <td>31300.0</td>\n      <td>32350.0</td>\n      <td>32350.0</td>\n      <td>424001</td>\n      <td>1월</td>\n    </tr>\n    <tr>\n      <th>2019-01-07</th>\n      <td>32600.0</td>\n      <td>33500.0</td>\n      <td>32300.0</td>\n      <td>33500.0</td>\n      <td>33500.0</td>\n      <td>619120</td>\n      <td>1월</td>\n    </tr>\n    <tr>\n      <th>2019-01-08</th>\n      <td>33550.0</td>\n      <td>34050.0</td>\n      <td>32900.0</td>\n      <td>33900.0</td>\n      <td>33900.0</td>\n      <td>515749</td>\n      <td>1월</td>\n    </tr>\n    <tr>\n      <th>...</th>\n      <td>...</td>\n      <td>...</td>\n      <td>...</td>\n      <td>...</td>\n      <td>...</td>\n      <td>...</td>\n      <td>...</td>\n    </tr>\n    <tr>\n      <th>2019-12-23</th>\n      <td>27800.0</td>\n      <td>29700.0</td>\n      <td>27200.0</td>\n      <td>29100.0</td>\n      <td>29100.0</td>\n      <td>1847155</td>\n      <td>12월</td>\n    </tr>\n    <tr>\n      <th>2019-12-24</th>\n      <td>29150.0</td>\n      <td>29800.0</td>\n      <td>27750.0</td>\n      <td>28000.0</td>\n      <td>28000.0</td>\n      <td>1066768</td>\n      <td>12월</td>\n    </tr>\n    <tr>\n      <th>2019-12-26</th>\n      <td>27600.0</td>\n      <td>28200.0</td>\n      <td>27600.0</td>\n      <td>27900.0</td>\n      <td>27900.0</td>\n      <td>352610</td>\n      <td>12월</td>\n    </tr>\n    <tr>\n      <th>2019-12-27</th>\n      <td>27550.0</td>\n      <td>28450.0</td>\n      <td>27250.0</td>\n      <td>28300.0</td>\n      <td>28300.0</td>\n      <td>470749</td>\n      <td>12월</td>\n    </tr>\n    <tr>\n      <th>2019-12-30</th>\n      <td>28750.0</td>\n      <td>28850.0</td>\n      <td>28300.0</td>\n      <td>28500.0</td>\n      <td>28500.0</td>\n      <td>428087</td>\n      <td>12월</td>\n    </tr>\n  </tbody>\n</table>\n<p>246 rows × 7 columns</p>\n</div>",
      "text/plain": "               Open     High      Low    Close  Adj Close   Volume    월\nDate                                                                   \n2019-01-02  32950.0  32950.0  32050.0  32400.0    32400.0   349580   1월\n2019-01-03  32700.0  32950.0  31650.0  31800.0    31800.0   464995   1월\n2019-01-04  31650.0  32450.0  31300.0  32350.0    32350.0   424001   1월\n2019-01-07  32600.0  33500.0  32300.0  33500.0    33500.0   619120   1월\n2019-01-08  33550.0  34050.0  32900.0  33900.0    33900.0   515749   1월\n...             ...      ...      ...      ...        ...      ...  ...\n2019-12-23  27800.0  29700.0  27200.0  29100.0    29100.0  1847155  12월\n2019-12-24  29150.0  29800.0  27750.0  28000.0    28000.0  1066768  12월\n2019-12-26  27600.0  28200.0  27600.0  27900.0    27900.0   352610  12월\n2019-12-27  27550.0  28450.0  27250.0  28300.0    28300.0   470749  12월\n2019-12-30  28750.0  28850.0  28300.0  28500.0    28500.0   428087  12월\n\n[246 rows x 7 columns]"
     },
     "execution_count": 6,
     "metadata": {},
     "output_type": "execute_result"
    }
   ],
   "source": [
    "df_ks_copy"
   ]
  },
  {
   "cell_type": "code",
   "execution_count": 7,
   "metadata": {},
   "outputs": [],
   "source": [
    "# df_ks_copy[[\"open\", \"High\", \"Low\", \"Close\"]] = round(df_ks_copy[[\"open\", \"High\", \"Low\", \"Close\"]],2)\n",
    "# 원화라서 소수점 X\n",
    "\n",
    "df_ks_copy[\"Open\"] = round(df_ks_copy[\"Open\"],2)\n",
    "df_ks_copy[\"High\"] = round(df_ks_copy[\"High\"],2)\n",
    "df_ks_copy[\"Low\"] = round(df_ks_copy[\"Low\"],2)\n",
    "df_ks_copy[\"Close\"] = round(df_ks_copy[\"Close\"],2)"
   ]
  },
  {
   "cell_type": "code",
   "execution_count": 8,
   "metadata": {},
   "outputs": [
    {
     "data": {
      "text/plain": "Open         0\nHigh         0\nLow          0\nClose        0\nAdj Close    0\nVolume       0\n월            0\ndtype: int64"
     },
     "execution_count": 8,
     "metadata": {},
     "output_type": "execute_result"
    }
   ],
   "source": [
    "df_ks_copy.isna().sum()\n",
    "#Nan값 없음 확인"
   ]
  },
  {
   "cell_type": "code",
   "execution_count": 9,
   "metadata": {},
   "outputs": [],
   "source": [
    "#등락폭 파생변수 생성\n",
    "df_ks_copy[\"등락폭\"] = df_ks_copy[\"Close\"] - df_ks_copy[\"Open\"]\n"
   ]
  },
  {
   "cell_type": "code",
   "execution_count": 10,
   "metadata": {},
   "outputs": [],
   "source": [
    "#등략률 파생변수 생성\n",
    "df_ks_copy[\"등락률\"] = df_ks_copy[\"등락폭\"] / df_ks_copy[\"Open\"] * 100"
   ]
  },
  {
   "cell_type": "markdown",
   "metadata": {},
   "source": [
    "## Plot"
   ]
  },
  {
   "cell_type": "code",
   "execution_count": 11,
   "metadata": {},
   "outputs": [],
   "source": [
    "# pip install matplotlib\n",
    "import matplotlib.pyplot as plt\n",
    "from matplotlib import font_manager, rc"
   ]
  },
  {
   "cell_type": "code",
   "execution_count": 12,
   "metadata": {},
   "outputs": [],
   "source": [
    "# #시가 / 종가 / 등락폭 / 볼륨\n",
    "# x = df_ks_copy.index.to_list()\n",
    "# y1 = df_ks_copy[\"Open\"].to_list()\n",
    "# y2 = df_ks_copy[\"Close\"].to_list()\n",
    "# y3 = df_ks_copy[\"등락폭\"].to_list()\n",
    "# y4 = df_ks_copy[\"Volume\"].to_list()\n",
    "\n",
    "#시가 / 종가 / 등락폭 / 볼륨\n",
    "x = df_ks_copy.index.to_list()\n",
    "y1 = df_ks_copy.groupby(\"월\").mean()[\"Open\"]\n",
    "y2 = df_ks_copy.groupby(\"월\").mean()[\"Close\"]\n",
    "y3 = df_ks_copy.groupby(\"월\").mean()[\"등락폭\"]\n",
    "y4 = df_ks_copy.groupby(\"월\").mean()[\"Volume\"]"
   ]
  },
  {
   "cell_type": "code",
   "execution_count": 13,
   "metadata": {},
   "outputs": [
    {
     "name": "stderr",
     "output_type": "stream",
     "text": [
      "/Users/ohyoulooknice/Library/Python/3.8/lib/python/site-packages/IPython/core/pylabtools.py:151: UserWarning: Glyph 50900 (\\N{HANGUL SYLLABLE WEOL}) missing from current font.\n",
      "  fig.canvas.print_figure(bytes_io, **kw)\n",
      "/Users/ohyoulooknice/Library/Python/3.8/lib/python/site-packages/IPython/core/pylabtools.py:151: UserWarning: Glyph 45824 (\\N{HANGUL SYLLABLE DAE}) missing from current font.\n",
      "  fig.canvas.print_figure(bytes_io, **kw)\n",
      "/Users/ohyoulooknice/Library/Python/3.8/lib/python/site-packages/IPython/core/pylabtools.py:151: UserWarning: Glyph 54620 (\\N{HANGUL SYLLABLE HAN}) missing from current font.\n",
      "  fig.canvas.print_figure(bytes_io, **kw)\n",
      "/Users/ohyoulooknice/Library/Python/3.8/lib/python/site-packages/IPython/core/pylabtools.py:151: UserWarning: Glyph 54637 (\\N{HANGUL SYLLABLE HANG}) missing from current font.\n",
      "  fig.canvas.print_figure(bytes_io, **kw)\n",
      "/Users/ohyoulooknice/Library/Python/3.8/lib/python/site-packages/IPython/core/pylabtools.py:151: UserWarning: Glyph 44277 (\\N{HANGUL SYLLABLE GONG}) missing from current font.\n",
      "  fig.canvas.print_figure(bytes_io, **kw)\n"
     ]
    },
    {
     "data": {
      "image/png": "[encoded data removed]",
      "text/plain": "<Figure size 640x480 with 4 Axes>"
     },
     "metadata": {
      "transient": {}
     },
     "output_type": "display_data"
    }
   ],
   "source": [
    "# subplot(a,b,c) -> a행, b열로 공간을 나눈 뒤 c번째 공간을 쓰자.\n",
    "plt.subplot(2,2,1)\n",
    "plt.plot(y1)\n",
    "\n",
    "plt.subplot(2,2,2)\n",
    "plt.plot(y2)\n",
    "\n",
    "plt.subplot(2,2,3)\n",
    "plt.plot(y3)\n",
    "\n",
    "plt.subplot(2,2,4)\n",
    "plt.plot(y4)\n",
    "\n",
    "rc('font', family='AppleGothic')\n",
    "plt.rcParams['axes.unicode_minus'] = False\n",
    "\n",
    "# plt.plot(x,y, \"--r\")    # \"--r\"은 점선\n",
    "# plt.plot(x, [4,2,6,4], \"oy\")    # \"oy\"는 노랑점\n",
    "# plt.xlabel(\"Class\")\n",
    "# plt.ylabel(\"Count\")\n",
    "plt.title(\"대한항공\")  #제목\n",
    "# plt.legend([\"시가\",\"종가\",\"등락폭\",\"볼륨\"], loc=1)    #legend는 범례추가. loc는 위치지정\n",
    "plt.show()"
   ]
  },
  {
   "cell_type": "code",
   "execution_count": null,
   "metadata": {},
   "outputs": [],
   "source": []
  },
  {
   "cell_type": "markdown",
   "metadata": {},
   "source": [
    "# uriage.csv\n",
    "- 파일로드\n",
    "- purchase_date 컬럼을 시계열 데이털 변경\n",
    "- item_name 컬럼의 값들을 다 대문자 변경\n",
    "- item_name 컬럼의 값들의 공백 다 삭제(좌우 띄어쓰기 전부 삭제)\n",
    "- item_name을 기준으로 오름차순 정렬\n",
    "- 인덱스 재지정\n",
    "- 결측치의 값을 확인"
   ]
  },
  {
   "cell_type": "code",
   "execution_count": 14,
   "metadata": {},
   "outputs": [
    {
     "data": {
      "text/html": "<div>\n<style scoped>\n    .dataframe tbody tr th:only-of-type {\n        vertical-align: middle;\n    }\n\n    .dataframe tbody tr th {\n        vertical-align: top;\n    }\n\n    .dataframe thead th {\n        text-align: right;\n    }\n</style>\n<table border=\"1\" class=\"dataframe\">\n  <thead>\n    <tr style=\"text-align: right;\">\n      <th></th>\n      <th>purchase_date</th>\n      <th>item_name</th>\n      <th>item_price</th>\n      <th>customer_name</th>\n    </tr>\n  </thead>\n  <tbody>\n    <tr>\n      <th>0</th>\n      <td>2019-06-13 18:02</td>\n      <td>상품A</td>\n      <td>100.0</td>\n      <td>김가온</td>\n    </tr>\n    <tr>\n      <th>1</th>\n      <td>2019-07-13 13:05</td>\n      <td>상 품 S</td>\n      <td>NaN</td>\n      <td>김우찬</td>\n    </tr>\n    <tr>\n      <th>2</th>\n      <td>2019-05-11 19:42</td>\n      <td>상 품 a</td>\n      <td>NaN</td>\n      <td>김유찬</td>\n    </tr>\n    <tr>\n      <th>3</th>\n      <td>2019-02-12 23:40</td>\n      <td>상품Z</td>\n      <td>2600.0</td>\n      <td>김재현</td>\n    </tr>\n    <tr>\n      <th>4</th>\n      <td>2019-04-22 3:09</td>\n      <td>상품a</td>\n      <td>NaN</td>\n      <td>김강현</td>\n    </tr>\n    <tr>\n      <th>...</th>\n      <td>...</td>\n      <td>...</td>\n      <td>...</td>\n      <td>...</td>\n    </tr>\n    <tr>\n      <th>2994</th>\n      <td>2019-02-15 2:56</td>\n      <td>상품Y</td>\n      <td>2500.0</td>\n      <td>김정민</td>\n    </tr>\n    <tr>\n      <th>2995</th>\n      <td>2019-06-22 4:03</td>\n      <td>상품M</td>\n      <td>1300.0</td>\n      <td>김재원</td>\n    </tr>\n    <tr>\n      <th>2996</th>\n      <td>2019-03-29 11:14</td>\n      <td>상품Q</td>\n      <td>NaN</td>\n      <td>김지율</td>\n    </tr>\n    <tr>\n      <th>2997</th>\n      <td>2019-07-14 12:56</td>\n      <td>상품H</td>\n      <td>NaN</td>\n      <td>김승주</td>\n    </tr>\n    <tr>\n      <th>2998</th>\n      <td>2019-07-21 0:31</td>\n      <td>상품D</td>\n      <td>400.0</td>\n      <td>정준기</td>\n    </tr>\n  </tbody>\n</table>\n<p>2999 rows × 4 columns</p>\n</div>",
      "text/plain": "         purchase_date item_name  item_price customer_name\n0     2019-06-13 18:02       상품A       100.0           김가온\n1     2019-07-13 13:05     상 품 S         NaN           김우찬\n2     2019-05-11 19:42     상 품 a         NaN           김유찬\n3     2019-02-12 23:40       상품Z      2600.0           김재현\n4      2019-04-22 3:09       상품a         NaN           김강현\n...                ...       ...         ...           ...\n2994   2019-02-15 2:56       상품Y      2500.0           김정민\n2995   2019-06-22 4:03       상품M      1300.0           김재원\n2996  2019-03-29 11:14       상품Q         NaN           김지율\n2997  2019-07-14 12:56       상품H         NaN           김승주\n2998   2019-07-21 0:31       상품D       400.0           정준기\n\n[2999 rows x 4 columns]"
     },
     "execution_count": 14,
     "metadata": {},
     "output_type": "execute_result"
    }
   ],
   "source": [
    "df_uriage = pd.read_csv(\"../csv/uriage.csv\")\n",
    "df_uriage"
   ]
  },
  {
   "cell_type": "code",
   "execution_count": 15,
   "metadata": {},
   "outputs": [],
   "source": [
    "df_uriage[\"purchase_date\"] = pd.to_datetime(df_uriage[\"purchase_date\"])"
   ]
  },
  {
   "cell_type": "code",
   "execution_count": 16,
   "metadata": {},
   "outputs": [
    {
     "data": {
      "text/html": "<div>\n<style scoped>\n    .dataframe tbody tr th:only-of-type {\n        vertical-align: middle;\n    }\n\n    .dataframe tbody tr th {\n        vertical-align: top;\n    }\n\n    .dataframe thead th {\n        text-align: right;\n    }\n</style>\n<table border=\"1\" class=\"dataframe\">\n  <thead>\n    <tr style=\"text-align: right;\">\n      <th></th>\n      <th>purchase_date</th>\n      <th>item_name</th>\n      <th>item_price</th>\n      <th>customer_name</th>\n    </tr>\n  </thead>\n  <tbody>\n    <tr>\n      <th>0</th>\n      <td>2019-06-13 18:02:00</td>\n      <td>상품A</td>\n      <td>100.0</td>\n      <td>김가온</td>\n    </tr>\n    <tr>\n      <th>1</th>\n      <td>2019-07-13 13:05:00</td>\n      <td>상 품 S</td>\n      <td>NaN</td>\n      <td>김우찬</td>\n    </tr>\n    <tr>\n      <th>2</th>\n      <td>2019-05-11 19:42:00</td>\n      <td>상 품 a</td>\n      <td>NaN</td>\n      <td>김유찬</td>\n    </tr>\n    <tr>\n      <th>3</th>\n      <td>2019-02-12 23:40:00</td>\n      <td>상품Z</td>\n      <td>2600.0</td>\n      <td>김재현</td>\n    </tr>\n    <tr>\n      <th>4</th>\n      <td>2019-04-22 03:09:00</td>\n      <td>상품a</td>\n      <td>NaN</td>\n      <td>김강현</td>\n    </tr>\n    <tr>\n      <th>...</th>\n      <td>...</td>\n      <td>...</td>\n      <td>...</td>\n      <td>...</td>\n    </tr>\n    <tr>\n      <th>2994</th>\n      <td>2019-02-15 02:56:00</td>\n      <td>상품Y</td>\n      <td>2500.0</td>\n      <td>김정민</td>\n    </tr>\n    <tr>\n      <th>2995</th>\n      <td>2019-06-22 04:03:00</td>\n      <td>상품M</td>\n      <td>1300.0</td>\n      <td>김재원</td>\n    </tr>\n    <tr>\n      <th>2996</th>\n      <td>2019-03-29 11:14:00</td>\n      <td>상품Q</td>\n      <td>NaN</td>\n      <td>김지율</td>\n    </tr>\n    <tr>\n      <th>2997</th>\n      <td>2019-07-14 12:56:00</td>\n      <td>상품H</td>\n      <td>NaN</td>\n      <td>김승주</td>\n    </tr>\n    <tr>\n      <th>2998</th>\n      <td>2019-07-21 00:31:00</td>\n      <td>상품D</td>\n      <td>400.0</td>\n      <td>정준기</td>\n    </tr>\n  </tbody>\n</table>\n<p>2999 rows × 4 columns</p>\n</div>",
      "text/plain": "           purchase_date item_name  item_price customer_name\n0    2019-06-13 18:02:00       상품A       100.0           김가온\n1    2019-07-13 13:05:00     상 품 S         NaN           김우찬\n2    2019-05-11 19:42:00     상 품 a         NaN           김유찬\n3    2019-02-12 23:40:00       상품Z      2600.0           김재현\n4    2019-04-22 03:09:00       상품a         NaN           김강현\n...                  ...       ...         ...           ...\n2994 2019-02-15 02:56:00       상품Y      2500.0           김정민\n2995 2019-06-22 04:03:00       상품M      1300.0           김재원\n2996 2019-03-29 11:14:00       상품Q         NaN           김지율\n2997 2019-07-14 12:56:00       상품H         NaN           김승주\n2998 2019-07-21 00:31:00       상품D       400.0           정준기\n\n[2999 rows x 4 columns]"
     },
     "execution_count": 16,
     "metadata": {},
     "output_type": "execute_result"
    }
   ],
   "source": [
    "df_uriage"
   ]
  },
  {
   "cell_type": "code",
   "execution_count": 17,
   "metadata": {},
   "outputs": [],
   "source": [
    "df_uriage[\"item_name\"] = df_uriage[\"item_name\"].str.upper()"
   ]
  },
  {
   "cell_type": "code",
   "execution_count": 18,
   "metadata": {},
   "outputs": [
    {
     "data": {
      "text/plain": "0"
     },
     "execution_count": 18,
     "metadata": {},
     "output_type": "execute_result"
    }
   ],
   "source": [
    "df_uriage[\"item_name\"][1].replace(\" \", \"\").count(\" \")"
   ]
  },
  {
   "cell_type": "code",
   "execution_count": 19,
   "metadata": {},
   "outputs": [],
   "source": [
    "def Reple(x):\n",
    "        return x.replace(\" \", \"\")\n",
    "\n",
    "df_uriage[\"item_name\"]=df_uriage[\"item_name\"].apply(Reple)"
   ]
  },
  {
   "cell_type": "code",
   "execution_count": 20,
   "metadata": {},
   "outputs": [],
   "source": [
    "df_uriage.sort_values([\"item_name\"],ascending=True, inplace=True)"
   ]
  },
  {
   "cell_type": "code",
   "execution_count": 21,
   "metadata": {},
   "outputs": [
    {
     "data": {
      "text/html": "<div>\n<style scoped>\n    .dataframe tbody tr th:only-of-type {\n        vertical-align: middle;\n    }\n\n    .dataframe tbody tr th {\n        vertical-align: top;\n    }\n\n    .dataframe thead th {\n        text-align: right;\n    }\n</style>\n<table border=\"1\" class=\"dataframe\">\n  <thead>\n    <tr style=\"text-align: right;\">\n      <th></th>\n      <th>index</th>\n      <th>purchase_date</th>\n      <th>item_name</th>\n      <th>item_price</th>\n      <th>customer_name</th>\n    </tr>\n  </thead>\n  <tbody>\n    <tr>\n      <th>0</th>\n      <td>0</td>\n      <td>2019-06-13 18:02:00</td>\n      <td>상품A</td>\n      <td>100.0</td>\n      <td>김가온</td>\n    </tr>\n    <tr>\n      <th>1</th>\n      <td>1748</td>\n      <td>2019-05-19 20:22:00</td>\n      <td>상품A</td>\n      <td>100.0</td>\n      <td>김시훈</td>\n    </tr>\n    <tr>\n      <th>2</th>\n      <td>223</td>\n      <td>2019-06-25 08:13:00</td>\n      <td>상품A</td>\n      <td>100.0</td>\n      <td>김유진</td>\n    </tr>\n    <tr>\n      <th>3</th>\n      <td>1742</td>\n      <td>2019-06-13 16:03:00</td>\n      <td>상품A</td>\n      <td>100.0</td>\n      <td>김건희</td>\n    </tr>\n    <tr>\n      <th>4</th>\n      <td>1738</td>\n      <td>2019-02-10 00:28:00</td>\n      <td>상품A</td>\n      <td>100.0</td>\n      <td>김하랑</td>\n    </tr>\n    <tr>\n      <th>...</th>\n      <td>...</td>\n      <td>...</td>\n      <td>...</td>\n      <td>...</td>\n      <td>...</td>\n    </tr>\n    <tr>\n      <th>2994</th>\n      <td>2880</td>\n      <td>2019-04-22 00:36:00</td>\n      <td>상품Y</td>\n      <td>NaN</td>\n      <td>김동욱</td>\n    </tr>\n    <tr>\n      <th>2995</th>\n      <td>2881</td>\n      <td>2019-04-30 14:21:00</td>\n      <td>상품Y</td>\n      <td>NaN</td>\n      <td>김하준</td>\n    </tr>\n    <tr>\n      <th>2996</th>\n      <td>1525</td>\n      <td>2019-01-24 10:27:00</td>\n      <td>상품Y</td>\n      <td>2500.0</td>\n      <td>김범준</td>\n    </tr>\n    <tr>\n      <th>2997</th>\n      <td>1361</td>\n      <td>2019-05-28 13:45:00</td>\n      <td>상품Y</td>\n      <td>2500.0</td>\n      <td>김수현</td>\n    </tr>\n    <tr>\n      <th>2998</th>\n      <td>3</td>\n      <td>2019-02-12 23:40:00</td>\n      <td>상품Z</td>\n      <td>2600.0</td>\n      <td>김재현</td>\n    </tr>\n  </tbody>\n</table>\n<p>2999 rows × 5 columns</p>\n</div>",
      "text/plain": "      index       purchase_date item_name  item_price customer_name\n0         0 2019-06-13 18:02:00       상품A       100.0           김가온\n1      1748 2019-05-19 20:22:00       상품A       100.0           김시훈\n2       223 2019-06-25 08:13:00       상품A       100.0           김유진\n3      1742 2019-06-13 16:03:00       상품A       100.0           김건희\n4      1738 2019-02-10 00:28:00       상품A       100.0           김하랑\n...     ...                 ...       ...         ...           ...\n2994   2880 2019-04-22 00:36:00       상품Y         NaN           김동욱\n2995   2881 2019-04-30 14:21:00       상품Y         NaN           김하준\n2996   1525 2019-01-24 10:27:00       상품Y      2500.0           김범준\n2997   1361 2019-05-28 13:45:00       상품Y      2500.0           김수현\n2998      3 2019-02-12 23:40:00       상품Z      2600.0           김재현\n\n[2999 rows x 5 columns]"
     },
     "execution_count": 21,
     "metadata": {},
     "output_type": "execute_result"
    }
   ],
   "source": [
    "df_uriage.reset_index()"
   ]
  },
  {
   "cell_type": "code",
   "execution_count": 22,
   "metadata": {},
   "outputs": [
    {
     "data": {
      "text/plain": "purchase_date      0\nitem_name          0\nitem_price       387\ncustomer_name      0\ndtype: int64"
     },
     "execution_count": 22,
     "metadata": {},
     "output_type": "execute_result"
    }
   ],
   "source": [
    "df_uriage.isna().sum()"
   ]
  },
  {
   "cell_type": "markdown",
   "metadata": {},
   "source": [
    "## Q.\n",
    "## 결측치의 값에 해당하는 item_name들의 item_price의 값으로 치환\n",
    "---"
   ]
  },
  {
   "cell_type": "code",
   "execution_count": 23,
   "metadata": {},
   "outputs": [
    {
     "data": {
      "text/plain": "0       False\n1748    False\n223     False\n1742    False\n1738    False\n        ...  \n2880     True\n2881     True\n1525    False\n1361    False\n3       False\nName: item_price, Length: 2999, dtype: bool"
     },
     "execution_count": 23,
     "metadata": {},
     "output_type": "execute_result"
    }
   ],
   "source": [
    "fig_null = df_uriage[\"item_price\"].isna()       #결측치가 있는 값을 T/F로 표현 (결측치가 있으면 T, 없으면 F)\n",
    "fig_null"
   ]
  },
  {
   "cell_type": "code",
   "execution_count": 24,
   "metadata": {},
   "outputs": [
    {
     "data": {
      "text/plain": "array(['상품A', '상품B', '상품C', '상품D', '상품E', '상품F', '상품G', '상품H', '상품I',\n       '상품J', '상품K', '상품L', '상품M', '상품N', '상품O', '상품P', '상품Q', '상품R',\n       '상품S', '상품T', '상품U', '상품V', '상품W', '상품X', '상품Y'], dtype=object)"
     },
     "execution_count": 24,
     "metadata": {},
     "output_type": "execute_result"
    }
   ],
   "source": [
    "# df_uriage.loc[fig_null] #\n",
    "name_list = df_uriage.loc[fig_null, 'item_name'].unique()\n",
    "name_list"
   ]
  },
  {
   "cell_type": "markdown",
   "metadata": {},
   "source": [
    "- '~'연산자 -> 부정\n",
    "- ~False = True, ~True = False"
   ]
  },
  {
   "cell_type": "code",
   "execution_count": 25,
   "metadata": {},
   "outputs": [
    {
     "data": {
      "text/plain": "100.0"
     },
     "execution_count": 25,
     "metadata": {},
     "output_type": "execute_result"
    }
   ],
   "source": [
    "df_uriage.loc[(~fig_null) & (df_uriage[\"item_name\"] == '상품A'), \"item_price\"].max()\n",
    "\n",
    "# ~fig_nill은 결측치가 아닌 정상값."
   ]
  },
  {
   "cell_type": "code",
   "execution_count": 26,
   "metadata": {},
   "outputs": [],
   "source": [
    "for name in list(name_list):\n",
    "    price = df_uriage.loc[(~fig_null) & (df_uriage[\"item_name\"] == name), \"item_price\"].min()\n",
    "    df_uriage.loc[(fig_null) & (df_uriage[\"item_name\"] == name), \"item_price\"] = price\n"
   ]
  },
  {
   "cell_type": "code",
   "execution_count": 27,
   "metadata": {},
   "outputs": [
    {
     "data": {
      "text/plain": "purchase_date    0\nitem_name        0\nitem_price       0\ncustomer_name    0\ndtype: int64"
     },
     "execution_count": 27,
     "metadata": {},
     "output_type": "execute_result"
    }
   ],
   "source": [
    "df_uriage.isna().sum()"
   ]
  },
  {
   "cell_type": "code",
   "execution_count": null,
   "metadata": {},
   "outputs": [],
   "source": []
  }
 ],
 "metadata": {
  "kernelspec": {
   "display_name": "Python 3.8.5 64-bit",
   "metadata": {
    "interpreter": {
     "hash": "aee8b7b246df8f9039afb4144a1f6fd8d2ca17a180786b69acc140d282b71a49"
    }
   },
   "name": "python3"
  },
  "language_info": {
   "codemirror_mode": {
    "name": "ipython",
    "version": 3
   },
   "file_extension": ".py",
   "mimetype": "text/x-python",
   "name": "python",
   "nbconvert_exporter": "python",
   "pygments_lexer": "ipython3",
   "version": "3.8.5"
  },
  "orig_nbformat": 4,
  "vscode": {
   "interpreter": {
    "hash": "c97f18ea1c0f4969cf594a5df9f14ba2a838cf106fc5300ddecce29d9d6f0c71"
   }
  }
 },
 "nbformat": 4,
 "nbformat_minor": 2
}