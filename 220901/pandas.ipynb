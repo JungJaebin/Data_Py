{
 "cells": [
  {
   "cell_type": "code",
   "execution_count": 1,
   "metadata": {},
   "outputs": [],
   "source": [
    "import pandas as pd\n",
    "import numpy as np"
   ]
  },
  {
   "cell_type": "code",
   "execution_count": 2,
   "metadata": {},
   "outputs": [],
   "source": [
    "corona = pd.read_csv('../csv/corona.csv')"
   ]
  },
  {
   "cell_type": "code",
   "execution_count": 3,
   "metadata": {},
   "outputs": [],
   "source": [
    "corona.drop(['Unnamed: 0'], axis = 'columns', inplace = True)"
   ]
  },
  {
   "cell_type": "code",
   "execution_count": 4,
   "metadata": {},
   "outputs": [],
   "source": [
    "corona.columns = ['등록일시', '사망자', '확진자', '게시글번호', '기준일', '기준시간', '수정일시', '누적의심자', '누적확진률']"
   ]
  },
  {
   "cell_type": "code",
   "execution_count": 5,
   "metadata": {},
   "outputs": [],
   "source": [
    "corona.reset_index(drop = True, inplace = True)"
   ]
  },
  {
   "cell_type": "code",
   "execution_count": 6,
   "metadata": {},
   "outputs": [],
   "source": [
    "corona = corona.sort_values('등록일시')"
   ]
  },
  {
   "cell_type": "code",
   "execution_count": 7,
   "metadata": {},
   "outputs": [
    {
     "data": {
      "text/html": "<div>\n<style scoped>\n    .dataframe tbody tr th:only-of-type {\n        vertical-align: middle;\n    }\n\n    .dataframe tbody tr th {\n        vertical-align: top;\n    }\n\n    .dataframe thead th {\n        text-align: right;\n    }\n</style>\n<table border=\"1\" class=\"dataframe\">\n  <thead>\n    <tr style=\"text-align: right;\">\n      <th></th>\n      <th>등록일시</th>\n      <th>사망자</th>\n      <th>확진자</th>\n      <th>게시글번호</th>\n      <th>기준일</th>\n      <th>기준시간</th>\n      <th>수정일시</th>\n      <th>누적의심자</th>\n      <th>누적확진률</th>\n      <th>일일확진자</th>\n      <th>일일사망자</th>\n    </tr>\n  </thead>\n  <tbody>\n    <tr>\n      <th>819</th>\n      <td>2020-03-10 00:00:00.000</td>\n      <td>54</td>\n      <td>7513</td>\n      <td>51</td>\n      <td>20200310</td>\n      <td>00:00</td>\n      <td>2021-10-07 10:30:51.51</td>\n      <td>210144.0</td>\n      <td>3.919308</td>\n      <td>NaN</td>\n      <td>NaN</td>\n    </tr>\n    <tr>\n      <th>818</th>\n      <td>2020-03-11 00:00:00.000</td>\n      <td>60</td>\n      <td>7755</td>\n      <td>52</td>\n      <td>20200311</td>\n      <td>00:00</td>\n      <td>2021-10-07 10:30:51.51</td>\n      <td>222395.0</td>\n      <td>3.804175</td>\n      <td>242.0</td>\n      <td>6.0</td>\n    </tr>\n    <tr>\n      <th>817</th>\n      <td>2020-03-12 00:00:00.000</td>\n      <td>66</td>\n      <td>7869</td>\n      <td>53</td>\n      <td>20200312</td>\n      <td>00:00</td>\n      <td>2021-10-07 10:30:51.51</td>\n      <td>234998.0</td>\n      <td>3.621744</td>\n      <td>114.0</td>\n      <td>6.0</td>\n    </tr>\n    <tr>\n      <th>816</th>\n      <td>2020-03-13 00:00:00.000</td>\n      <td>67</td>\n      <td>7979</td>\n      <td>54</td>\n      <td>20200313</td>\n      <td>00:00</td>\n      <td>2021-10-07 10:30:51.51</td>\n      <td>248647.0</td>\n      <td>3.458499</td>\n      <td>110.0</td>\n      <td>1.0</td>\n    </tr>\n    <tr>\n      <th>815</th>\n      <td>2020-03-14 00:00:00.000</td>\n      <td>72</td>\n      <td>8086</td>\n      <td>55</td>\n      <td>20200314</td>\n      <td>00:00</td>\n      <td>2021-10-07 10:30:51.51</td>\n      <td>261335.0</td>\n      <td>3.318000</td>\n      <td>107.0</td>\n      <td>5.0</td>\n    </tr>\n  </tbody>\n</table>\n</div>",
      "text/plain": "                        등록일시  사망자   확진자  게시글번호       기준일   기준시간  \\\n819  2020-03-10 00:00:00.000   54  7513     51  20200310  00:00   \n818  2020-03-11 00:00:00.000   60  7755     52  20200311  00:00   \n817  2020-03-12 00:00:00.000   66  7869     53  20200312  00:00   \n816  2020-03-13 00:00:00.000   67  7979     54  20200313  00:00   \n815  2020-03-14 00:00:00.000   72  8086     55  20200314  00:00   \n\n                       수정일시     누적의심자     누적확진률  일일확진자  일일사망자  \n819  2021-10-07 10:30:51.51  210144.0  3.919308    NaN    NaN  \n818  2021-10-07 10:30:51.51  222395.0  3.804175  242.0    6.0  \n817  2021-10-07 10:30:51.51  234998.0  3.621744  114.0    6.0  \n816  2021-10-07 10:30:51.51  248647.0  3.458499  110.0    1.0  \n815  2021-10-07 10:30:51.51  261335.0  3.318000  107.0    5.0  "
     },
     "execution_count": 7,
     "metadata": {},
     "output_type": "execute_result"
    }
   ],
   "source": [
    "corona['일일확진자'] = corona['확진자'].diff()\n",
    "corona['일일사망자'] = corona['사망자'].diff()\n",
    "\n",
    "corona.head()"
   ]
  },
  {
   "cell_type": "code",
   "execution_count": 8,
   "metadata": {},
   "outputs": [
    {
     "data": {
      "text/html": "<div>\n<style scoped>\n    .dataframe tbody tr th:only-of-type {\n        vertical-align: middle;\n    }\n\n    .dataframe tbody tr th {\n        vertical-align: top;\n    }\n\n    .dataframe thead th {\n        text-align: right;\n    }\n</style>\n<table border=\"1\" class=\"dataframe\">\n  <thead>\n    <tr style=\"text-align: right;\">\n      <th></th>\n      <th>등록일시</th>\n      <th>사망자</th>\n      <th>확진자</th>\n      <th>게시글번호</th>\n      <th>기준일</th>\n      <th>기준시간</th>\n      <th>수정일시</th>\n      <th>누적의심자</th>\n      <th>누적확진률</th>\n      <th>일일확진자</th>\n      <th>일일사망자</th>\n    </tr>\n  </thead>\n  <tbody>\n    <tr>\n      <th>0</th>\n      <td>2020-03-10 00:00:00.000</td>\n      <td>54</td>\n      <td>7513</td>\n      <td>51</td>\n      <td>20200310</td>\n      <td>00:00</td>\n      <td>2021-10-07 10:30:51.51</td>\n      <td>210144.0</td>\n      <td>3.919308</td>\n      <td>NaN</td>\n      <td>NaN</td>\n    </tr>\n    <tr>\n      <th>1</th>\n      <td>2020-03-11 00:00:00.000</td>\n      <td>60</td>\n      <td>7755</td>\n      <td>52</td>\n      <td>20200311</td>\n      <td>00:00</td>\n      <td>2021-10-07 10:30:51.51</td>\n      <td>222395.0</td>\n      <td>3.804175</td>\n      <td>242.0</td>\n      <td>6.0</td>\n    </tr>\n    <tr>\n      <th>2</th>\n      <td>2020-03-12 00:00:00.000</td>\n      <td>66</td>\n      <td>7869</td>\n      <td>53</td>\n      <td>20200312</td>\n      <td>00:00</td>\n      <td>2021-10-07 10:30:51.51</td>\n      <td>234998.0</td>\n      <td>3.621744</td>\n      <td>114.0</td>\n      <td>6.0</td>\n    </tr>\n    <tr>\n      <th>3</th>\n      <td>2020-03-13 00:00:00.000</td>\n      <td>67</td>\n      <td>7979</td>\n      <td>54</td>\n      <td>20200313</td>\n      <td>00:00</td>\n      <td>2021-10-07 10:30:51.51</td>\n      <td>248647.0</td>\n      <td>3.458499</td>\n      <td>110.0</td>\n      <td>1.0</td>\n    </tr>\n    <tr>\n      <th>4</th>\n      <td>2020-03-14 00:00:00.000</td>\n      <td>72</td>\n      <td>8086</td>\n      <td>55</td>\n      <td>20200314</td>\n      <td>00:00</td>\n      <td>2021-10-07 10:30:51.51</td>\n      <td>261335.0</td>\n      <td>3.318000</td>\n      <td>107.0</td>\n      <td>5.0</td>\n    </tr>\n  </tbody>\n</table>\n</div>",
      "text/plain": "                      등록일시  사망자   확진자  게시글번호       기준일   기준시간  \\\n0  2020-03-10 00:00:00.000   54  7513     51  20200310  00:00   \n1  2020-03-11 00:00:00.000   60  7755     52  20200311  00:00   \n2  2020-03-12 00:00:00.000   66  7869     53  20200312  00:00   \n3  2020-03-13 00:00:00.000   67  7979     54  20200313  00:00   \n4  2020-03-14 00:00:00.000   72  8086     55  20200314  00:00   \n\n                     수정일시     누적의심자     누적확진률  일일확진자  일일사망자  \n0  2021-10-07 10:30:51.51  210144.0  3.919308    NaN    NaN  \n1  2021-10-07 10:30:51.51  222395.0  3.804175  242.0    6.0  \n2  2021-10-07 10:30:51.51  234998.0  3.621744  114.0    6.0  \n3  2021-10-07 10:30:51.51  248647.0  3.458499  110.0    1.0  \n4  2021-10-07 10:30:51.51  261335.0  3.318000  107.0    5.0  "
     },
     "execution_count": 8,
     "metadata": {},
     "output_type": "execute_result"
    }
   ],
   "source": [
    "corona = corona.reset_index(drop = True)\n",
    "\n",
    "corona.head()"
   ]
  },
  {
   "cell_type": "code",
   "execution_count": 9,
   "metadata": {},
   "outputs": [
    {
     "data": {
      "text/html": "<div>\n<style scoped>\n    .dataframe tbody tr th:only-of-type {\n        vertical-align: middle;\n    }\n\n    .dataframe tbody tr th {\n        vertical-align: top;\n    }\n\n    .dataframe thead th {\n        text-align: right;\n    }\n</style>\n<table border=\"1\" class=\"dataframe\">\n  <thead>\n    <tr style=\"text-align: right;\">\n      <th></th>\n      <th>등록일시</th>\n      <th>사망자</th>\n      <th>확진자</th>\n      <th>게시글번호</th>\n      <th>기준일</th>\n      <th>기준시간</th>\n      <th>수정일시</th>\n      <th>누적의심자</th>\n      <th>누적확진률</th>\n      <th>일일확진자</th>\n      <th>일일사망자</th>\n    </tr>\n  </thead>\n  <tbody>\n    <tr>\n      <th>0</th>\n      <td>2020-03-10 00:00:00.000</td>\n      <td>54</td>\n      <td>7513</td>\n      <td>51</td>\n      <td>20200310</td>\n      <td>00:00</td>\n      <td>2021-10-07 10:30:51.51</td>\n      <td>210144.0</td>\n      <td>3.919308</td>\n      <td>0.0</td>\n      <td>0.0</td>\n    </tr>\n    <tr>\n      <th>1</th>\n      <td>2020-03-11 00:00:00.000</td>\n      <td>60</td>\n      <td>7755</td>\n      <td>52</td>\n      <td>20200311</td>\n      <td>00:00</td>\n      <td>2021-10-07 10:30:51.51</td>\n      <td>222395.0</td>\n      <td>3.804175</td>\n      <td>242.0</td>\n      <td>6.0</td>\n    </tr>\n    <tr>\n      <th>2</th>\n      <td>2020-03-12 00:00:00.000</td>\n      <td>66</td>\n      <td>7869</td>\n      <td>53</td>\n      <td>20200312</td>\n      <td>00:00</td>\n      <td>2021-10-07 10:30:51.51</td>\n      <td>234998.0</td>\n      <td>3.621744</td>\n      <td>114.0</td>\n      <td>6.0</td>\n    </tr>\n    <tr>\n      <th>3</th>\n      <td>2020-03-13 00:00:00.000</td>\n      <td>67</td>\n      <td>7979</td>\n      <td>54</td>\n      <td>20200313</td>\n      <td>00:00</td>\n      <td>2021-10-07 10:30:51.51</td>\n      <td>248647.0</td>\n      <td>3.458499</td>\n      <td>110.0</td>\n      <td>1.0</td>\n    </tr>\n    <tr>\n      <th>4</th>\n      <td>2020-03-14 00:00:00.000</td>\n      <td>72</td>\n      <td>8086</td>\n      <td>55</td>\n      <td>20200314</td>\n      <td>00:00</td>\n      <td>2021-10-07 10:30:51.51</td>\n      <td>261335.0</td>\n      <td>3.318000</td>\n      <td>107.0</td>\n      <td>5.0</td>\n    </tr>\n  </tbody>\n</table>\n</div>",
      "text/plain": "                      등록일시  사망자   확진자  게시글번호       기준일   기준시간  \\\n0  2020-03-10 00:00:00.000   54  7513     51  20200310  00:00   \n1  2020-03-11 00:00:00.000   60  7755     52  20200311  00:00   \n2  2020-03-12 00:00:00.000   66  7869     53  20200312  00:00   \n3  2020-03-13 00:00:00.000   67  7979     54  20200313  00:00   \n4  2020-03-14 00:00:00.000   72  8086     55  20200314  00:00   \n\n                     수정일시     누적의심자     누적확진률  일일확진자  일일사망자  \n0  2021-10-07 10:30:51.51  210144.0  3.919308    0.0    0.0  \n1  2021-10-07 10:30:51.51  222395.0  3.804175  242.0    6.0  \n2  2021-10-07 10:30:51.51  234998.0  3.621744  114.0    6.0  \n3  2021-10-07 10:30:51.51  248647.0  3.458499  110.0    1.0  \n4  2021-10-07 10:30:51.51  261335.0  3.318000  107.0    5.0  "
     },
     "execution_count": 9,
     "metadata": {},
     "output_type": "execute_result"
    }
   ],
   "source": [
    "# 결측치를 채우는 함수\n",
    "# fillna(결측치에 들어갈 값)\n",
    "\n",
    "corona['일일확진자'] = corona['일일확진자'].fillna(0)\n",
    "corona['일일사망자'] = corona['일일사망자'].fillna(0)\n",
    "\n",
    "corona.head()"
   ]
  },
  {
   "cell_type": "code",
   "execution_count": 10,
   "metadata": {},
   "outputs": [
    {
     "data": {
      "text/plain": "0      210144.0\n1      222395.0\n2      234998.0\n3      248647.0\n4      261335.0\n         ...   \n815         NaN\n816         NaN\n817         NaN\n818         NaN\n819         NaN\nName: 누적의심자, Length: 820, dtype: float64"
     },
     "execution_count": 10,
     "metadata": {},
     "output_type": "execute_result"
    }
   ],
   "source": [
    "# fillna(옵션)\n",
    "# method 속성 → ffill, bfill\n",
    "# fill '채우다'라는 의미, f: front / b: back\n",
    "# ffill → 전의 값으로 채운다\n",
    "# bfill → 후의 값으로 채운다\n",
    "# 누적의심자 컬럼의 값들을 fillna(method = 'bfill')\n",
    "\n",
    "corona[\"누적의심자\"].fillna(method = 'bfill')"
   ]
  },
  {
   "cell_type": "code",
   "execution_count": 11,
   "metadata": {},
   "outputs": [
    {
     "data": {
      "text/plain": "0        210144.0\n1        222395.0\n2        234998.0\n3        248647.0\n4        261335.0\n          ...    \n815    21518073.0\n816    21518073.0\n817    21518073.0\n818    21518073.0\n819    21518073.0\nName: 누적의심자, Length: 820, dtype: float64"
     },
     "execution_count": 11,
     "metadata": {},
     "output_type": "execute_result"
    }
   ],
   "source": [
    "corona[\"누적의심자\"].fillna(method = 'ffill')"
   ]
  },
  {
   "cell_type": "code",
   "execution_count": 12,
   "metadata": {},
   "outputs": [
    {
     "data": {
      "text/plain": "등록일시       0\n사망자        0\n확진자        0\n게시글번호      0\n기준일        0\n기준시간       0\n수정일시       3\n누적의심자    128\n누적확진률    197\n일일확진자      0\n일일사망자      0\ndtype: int64"
     },
     "execution_count": 12,
     "metadata": {},
     "output_type": "execute_result"
    }
   ],
   "source": [
    "# 결측치 확인\n",
    "\n",
    "corona.isna().sum()"
   ]
  },
  {
   "cell_type": "code",
   "execution_count": 13,
   "metadata": {},
   "outputs": [
    {
     "data": {
      "text/plain": "0      3.919308\n1      3.804175\n2      3.621744\n3      3.458499\n4      3.318000\n         ...   \n815    1.556435\n816    1.556435\n817    1.556435\n818    1.556435\n819    1.556435\nName: 누적확진률, Length: 820, dtype: float64"
     },
     "execution_count": 13,
     "metadata": {},
     "output_type": "execute_result"
    }
   ],
   "source": [
    "# 누적확진률에 결측치의 값을 누적확진률의 평균으로 채운다.\n",
    "\n",
    "corona['누적확진률'] = corona['누적확진률'].fillna(corona['누적확진률'].mean())\n",
    "\n",
    "corona['누적확진률']"
   ]
  },
  {
   "cell_type": "code",
   "execution_count": 14,
   "metadata": {},
   "outputs": [
    {
     "data": {
      "text/html": "<div>\n<style scoped>\n    .dataframe tbody tr th:only-of-type {\n        vertical-align: middle;\n    }\n\n    .dataframe tbody tr th {\n        vertical-align: top;\n    }\n\n    .dataframe thead th {\n        text-align: right;\n    }\n</style>\n<table border=\"1\" class=\"dataframe\">\n  <thead>\n    <tr style=\"text-align: right;\">\n      <th></th>\n      <th>등록일시</th>\n      <th>사망자</th>\n      <th>확진자</th>\n      <th>게시글번호</th>\n      <th>기준일</th>\n      <th>기준시간</th>\n      <th>수정일시</th>\n      <th>누적의심자</th>\n      <th>누적확진률</th>\n      <th>일일확진자</th>\n      <th>일일사망자</th>\n    </tr>\n  </thead>\n  <tbody>\n    <tr>\n      <th>446</th>\n      <td>2021-05-30 00:00:00.000</td>\n      <td>1957</td>\n      <td>139907</td>\n      <td>497</td>\n      <td>20210530</td>\n      <td>00:00</td>\n      <td>2021-10-07 10:30:51.51</td>\n      <td>9747612.0</td>\n      <td>1.454166</td>\n      <td>-430.0</td>\n      <td>-2.0</td>\n    </tr>\n  </tbody>\n</table>\n</div>",
      "text/plain": "                        등록일시   사망자     확진자  게시글번호       기준일   기준시간  \\\n446  2021-05-30 00:00:00.000  1957  139907    497  20210530  00:00   \n\n                       수정일시      누적의심자     누적확진률  일일확진자  일일사망자  \n446  2021-10-07 10:30:51.51  9747612.0  1.454166 -430.0   -2.0  "
     },
     "execution_count": 14,
     "metadata": {},
     "output_type": "execute_result"
    }
   ],
   "source": [
    "# filter 기능\n",
    "# query() - 괄호 안에 조건에 맞는 인덱스를 출력\n",
    "\n",
    "corona.query('일일확진자 < 0')"
   ]
  },
  {
   "cell_type": "code",
   "execution_count": 15,
   "metadata": {},
   "outputs": [
    {
     "data": {
      "text/html": "<div>\n<style scoped>\n    .dataframe tbody tr th:only-of-type {\n        vertical-align: middle;\n    }\n\n    .dataframe tbody tr th {\n        vertical-align: top;\n    }\n\n    .dataframe thead th {\n        text-align: right;\n    }\n</style>\n<table border=\"1\" class=\"dataframe\">\n  <thead>\n    <tr style=\"text-align: right;\">\n      <th></th>\n      <th>등록일시</th>\n      <th>사망자</th>\n      <th>확진자</th>\n      <th>게시글번호</th>\n      <th>기준일</th>\n      <th>기준시간</th>\n      <th>수정일시</th>\n      <th>누적의심자</th>\n      <th>누적확진률</th>\n      <th>일일확진자</th>\n      <th>일일사망자</th>\n    </tr>\n  </thead>\n  <tbody>\n    <tr>\n      <th>444</th>\n      <td>2021-05-29 00:00:00.000</td>\n      <td>1951</td>\n      <td>139427</td>\n      <td>496</td>\n      <td>20210529</td>\n      <td>00:00</td>\n      <td>2021-10-07 10:30:51.51</td>\n      <td>9733588.0</td>\n      <td>1.450884</td>\n      <td>533.0</td>\n      <td>5.0</td>\n    </tr>\n    <tr>\n      <th>445</th>\n      <td>2021-05-30 00:00:00.0</td>\n      <td>1959</td>\n      <td>140337</td>\n      <td>498</td>\n      <td>20210531</td>\n      <td>00:00</td>\n      <td>2021-10-14 13:48:56.821</td>\n      <td>9761156.0</td>\n      <td>1.456805</td>\n      <td>910.0</td>\n      <td>8.0</td>\n    </tr>\n    <tr>\n      <th>446</th>\n      <td>2021-05-30 00:00:00.000</td>\n      <td>1957</td>\n      <td>139907</td>\n      <td>497</td>\n      <td>20210530</td>\n      <td>00:00</td>\n      <td>2021-10-07 10:30:51.51</td>\n      <td>9747612.0</td>\n      <td>1.454166</td>\n      <td>-430.0</td>\n      <td>-2.0</td>\n    </tr>\n    <tr>\n      <th>447</th>\n      <td>2021-06-01 00:00:00.000</td>\n      <td>1963</td>\n      <td>140796</td>\n      <td>499</td>\n      <td>20210601</td>\n      <td>00:00</td>\n      <td>2021-10-07 10:30:51.51</td>\n      <td>9798400.0</td>\n      <td>1.455890</td>\n      <td>889.0</td>\n      <td>6.0</td>\n    </tr>\n    <tr>\n      <th>448</th>\n      <td>2021-06-02 00:00:00.000</td>\n      <td>1965</td>\n      <td>141473</td>\n      <td>500</td>\n      <td>20210602</td>\n      <td>00:00</td>\n      <td>2021-10-07 10:30:51.51</td>\n      <td>9834348.0</td>\n      <td>1.457668</td>\n      <td>677.0</td>\n      <td>2.0</td>\n    </tr>\n  </tbody>\n</table>\n</div>",
      "text/plain": "                        등록일시   사망자     확진자  게시글번호       기준일   기준시간  \\\n444  2021-05-29 00:00:00.000  1951  139427    496  20210529  00:00   \n445    2021-05-30 00:00:00.0  1959  140337    498  20210531  00:00   \n446  2021-05-30 00:00:00.000  1957  139907    497  20210530  00:00   \n447  2021-06-01 00:00:00.000  1963  140796    499  20210601  00:00   \n448  2021-06-02 00:00:00.000  1965  141473    500  20210602  00:00   \n\n                        수정일시      누적의심자     누적확진률  일일확진자  일일사망자  \n444   2021-10-07 10:30:51.51  9733588.0  1.450884  533.0    5.0  \n445  2021-10-14 13:48:56.821  9761156.0  1.456805  910.0    8.0  \n446   2021-10-07 10:30:51.51  9747612.0  1.454166 -430.0   -2.0  \n447   2021-10-07 10:30:51.51  9798400.0  1.455890  889.0    6.0  \n448   2021-10-07 10:30:51.51  9834348.0  1.457668  677.0    2.0  "
     },
     "execution_count": 15,
     "metadata": {},
     "output_type": "execute_result"
    }
   ],
   "source": [
    "# 인덱스 444 ~ 448까지의 데이터를 출력\n",
    "\n",
    "corona.loc[444 : 448]"
   ]
  },
  {
   "cell_type": "code",
   "execution_count": 16,
   "metadata": {},
   "outputs": [],
   "source": [
    "# lambda 함수 파생변수\n",
    "# 일반 def 함수 파생변수\n",
    "# 누적확진률 칼럼에서 누적확진률의 평균보다 높으면 High, 낮으면 Low\n",
    "\n",
    "corona['누적확진률'].fillna(corona['누적확진률'].mean(), inplace = True)"
   ]
  },
  {
   "cell_type": "code",
   "execution_count": 17,
   "metadata": {},
   "outputs": [
    {
     "data": {
      "text/plain": "0      3.919308\n1      3.804175\n2      3.621744\n3      3.458499\n4      3.318000\n         ...   \n815    1.556435\n816    1.556435\n817    1.556435\n818    1.556435\n819    1.556435\nName: 누적확진률, Length: 820, dtype: float64"
     },
     "execution_count": 17,
     "metadata": {},
     "output_type": "execute_result"
    }
   ],
   "source": [
    "# lambda 매개변수: 표현식\n",
    "\n",
    "corona['H/L'] = corona['누적확진률'].apply(\n",
    "    lambda x : 'High' if (x > corona['누적확진률'].mean()) else 'Low'\n",
    "                )\n",
    "\n",
    "corona['누적확진률']"
   ]
  },
  {
   "cell_type": "code",
   "execution_count": 18,
   "metadata": {},
   "outputs": [
    {
     "data": {
      "text/plain": "0      High\n1      High\n2      High\n3      High\n4      High\n       ... \n815    High\n816    High\n817    High\n818    High\n819    High\nName: 누적확진률, Length: 820, dtype: object"
     },
     "execution_count": 18,
     "metadata": {},
     "output_type": "execute_result"
    }
   ],
   "source": [
    "# apply() 일반 함수\n",
    "# 함수 생성\n",
    "# 매개변수 1개\n",
    "# 매개변수의 값이 누적확진률의 평균보다 높으면 'High' 리턴\n",
    "# 조건식이 거짓이면 'Low' 리턴\n",
    "\n",
    "def HL(x) :\n",
    "\n",
    "    if x > corona['누적확진률'].mean() :\n",
    "        return 'High'\n",
    "\n",
    "    else :\n",
    "        return 'Low'\n",
    "\n",
    "corona['누적확진률'].apply(HL)              # apply()에서는 함수의 값을 넣을 필요 없다"
   ]
  },
  {
   "cell_type": "code",
   "execution_count": 19,
   "metadata": {},
   "outputs": [],
   "source": [
    "# '요일'이라는 파생변수 생성\n",
    "# 등록일시 datetime 변경\n",
    "# datetime 기준으로 요일을 출력\n",
    "\n",
    "corona['등록일시'] = pd.to_datetime(corona['등록일시'])         # format을 꼭 사용하지 않아도 됨"
   ]
  },
  {
   "cell_type": "code",
   "execution_count": 20,
   "metadata": {},
   "outputs": [
    {
     "data": {
      "text/html": "<div>\n<style scoped>\n    .dataframe tbody tr th:only-of-type {\n        vertical-align: middle;\n    }\n\n    .dataframe tbody tr th {\n        vertical-align: top;\n    }\n\n    .dataframe thead th {\n        text-align: right;\n    }\n</style>\n<table border=\"1\" class=\"dataframe\">\n  <thead>\n    <tr style=\"text-align: right;\">\n      <th></th>\n      <th>등록일시</th>\n      <th>사망자</th>\n      <th>확진자</th>\n      <th>게시글번호</th>\n      <th>기준일</th>\n      <th>기준시간</th>\n      <th>수정일시</th>\n      <th>누적의심자</th>\n      <th>누적확진률</th>\n      <th>일일확진자</th>\n      <th>일일사망자</th>\n      <th>H/L</th>\n      <th>요일</th>\n    </tr>\n  </thead>\n  <tbody>\n    <tr>\n      <th>0</th>\n      <td>2020-03-10</td>\n      <td>54</td>\n      <td>7513</td>\n      <td>51</td>\n      <td>20200310</td>\n      <td>00:00</td>\n      <td>2021-10-07 10:30:51.51</td>\n      <td>210144.0</td>\n      <td>3.919308</td>\n      <td>0.0</td>\n      <td>0.0</td>\n      <td>High</td>\n      <td>1</td>\n    </tr>\n    <tr>\n      <th>1</th>\n      <td>2020-03-11</td>\n      <td>60</td>\n      <td>7755</td>\n      <td>52</td>\n      <td>20200311</td>\n      <td>00:00</td>\n      <td>2021-10-07 10:30:51.51</td>\n      <td>222395.0</td>\n      <td>3.804175</td>\n      <td>242.0</td>\n      <td>6.0</td>\n      <td>High</td>\n      <td>2</td>\n    </tr>\n    <tr>\n      <th>2</th>\n      <td>2020-03-12</td>\n      <td>66</td>\n      <td>7869</td>\n      <td>53</td>\n      <td>20200312</td>\n      <td>00:00</td>\n      <td>2021-10-07 10:30:51.51</td>\n      <td>234998.0</td>\n      <td>3.621744</td>\n      <td>114.0</td>\n      <td>6.0</td>\n      <td>High</td>\n      <td>3</td>\n    </tr>\n    <tr>\n      <th>3</th>\n      <td>2020-03-13</td>\n      <td>67</td>\n      <td>7979</td>\n      <td>54</td>\n      <td>20200313</td>\n      <td>00:00</td>\n      <td>2021-10-07 10:30:51.51</td>\n      <td>248647.0</td>\n      <td>3.458499</td>\n      <td>110.0</td>\n      <td>1.0</td>\n      <td>High</td>\n      <td>4</td>\n    </tr>\n    <tr>\n      <th>4</th>\n      <td>2020-03-14</td>\n      <td>72</td>\n      <td>8086</td>\n      <td>55</td>\n      <td>20200314</td>\n      <td>00:00</td>\n      <td>2021-10-07 10:30:51.51</td>\n      <td>261335.0</td>\n      <td>3.318000</td>\n      <td>107.0</td>\n      <td>5.0</td>\n      <td>High</td>\n      <td>5</td>\n    </tr>\n  </tbody>\n</table>\n</div>",
      "text/plain": "        등록일시  사망자   확진자  게시글번호       기준일   기준시간                    수정일시  \\\n0 2020-03-10   54  7513     51  20200310  00:00  2021-10-07 10:30:51.51   \n1 2020-03-11   60  7755     52  20200311  00:00  2021-10-07 10:30:51.51   \n2 2020-03-12   66  7869     53  20200312  00:00  2021-10-07 10:30:51.51   \n3 2020-03-13   67  7979     54  20200313  00:00  2021-10-07 10:30:51.51   \n4 2020-03-14   72  8086     55  20200314  00:00  2021-10-07 10:30:51.51   \n\n      누적의심자     누적확진률  일일확진자  일일사망자   H/L  요일  \n0  210144.0  3.919308    0.0    0.0  High   1  \n1  222395.0  3.804175  242.0    6.0  High   2  \n2  234998.0  3.621744  114.0    6.0  High   3  \n3  248647.0  3.458499  110.0    1.0  High   4  \n4  261335.0  3.318000  107.0    5.0  High   5  "
     },
     "execution_count": 20,
     "metadata": {},
     "output_type": "execute_result"
    }
   ],
   "source": [
    "# dt.weekday를 사용하면 \n",
    "# 0 = 월요일, ... , 6 = 일요일\n",
    "\n",
    "corona['요일'] = corona['등록일시'].dt.weekday\n",
    "\n",
    "corona.head()"
   ]
  },
  {
   "cell_type": "code",
   "execution_count": 21,
   "metadata": {},
   "outputs": [],
   "source": [
    "# apply 함수를 이용해서 숫자로 표시 되어있는 요일 칼럼을 한글로 변경\n",
    "\n",
    "def change_week(x) :\n",
    "\n",
    "    if x == 0 :\n",
    "        return '월'\n",
    "\n",
    "    elif x == 1 :\n",
    "        return '화'\n",
    "\n",
    "    elif x == 2 :\n",
    "        return '수'\n",
    "\n",
    "    elif x == 3 :\n",
    "        return '목'\n",
    "\n",
    "    elif x == 4 :\n",
    "        return '금'\n",
    "\n",
    "    elif x == 5 :\n",
    "        return '토'\n",
    "\n",
    "    else :\n",
    "        return '일'\n",
    "\n",
    "corona['요일'] = corona['요일'].apply(change_week)"
   ]
  },
  {
   "cell_type": "code",
   "execution_count": 22,
   "metadata": {},
   "outputs": [],
   "source": [
    "# corona['요일'].apply(lambda x : '월' if x == 0 else '화' if x == 1 else '수')"
   ]
  },
  {
   "cell_type": "code",
   "execution_count": 23,
   "metadata": {},
   "outputs": [
    {
     "data": {
      "text/plain": "요일\n금    22542.854701\n목    25776.267241\n수    26994.550847\n월    14862.586207\n일    20625.101695\n토    22555.948718\n화    21787.296610\nName: 일일확진자, dtype: float64"
     },
     "execution_count": 23,
     "metadata": {},
     "output_type": "execute_result"
    }
   ],
   "source": [
    "# 요일별 코로나 확진자 수의 평균이 어떻게 표시 되는지 그래프를 이용해서 출력\n",
    "\n",
    "week_corona = corona.groupby('요일').mean()\n",
    "\n",
    "week_corona['일일확진자']"
   ]
  },
  {
   "cell_type": "code",
   "execution_count": 24,
   "metadata": {},
   "outputs": [],
   "source": [
    "from matplotlib import font_manager, rc"
   ]
  },
  {
   "cell_type": "code",
   "execution_count": 25,
   "metadata": {},
   "outputs": [],
   "source": [
    "import matplotlib.pyplot as plt"
   ]
  },
  {
   "cell_type": "code",
   "execution_count": 26,
   "metadata": {},
   "outputs": [
    {
     "data": {
      "text/plain": "[<matplotlib.lines.Line2D at 0x7fbd91e30ee0>]"
     },
     "execution_count": 26,
     "metadata": {},
     "output_type": "execute_result"
    },
    {
     "data": {
      "image/png": "[encoded data removed]",
      "text/plain": "<Figure size 640x480 with 1 Axes>"
     },
     "metadata": {
      "transient": {}
     },
     "output_type": "display_data"
    }
   ],
   "source": [
    "# x축의 값은 '요일'\n",
    "# y축의 값은 '평균 확진자의 수'\n",
    "\n",
    "x = week_corona.index\n",
    "y = week_corona['일일확진자']\n",
    "\n",
    "rc('font', family='AppleGothic')\n",
    "\n",
    "plt.rcParams['axes.unicode_minus'] = False\n",
    "\n",
    "plt.plot(x, y)"
   ]
  },
  {
   "cell_type": "code",
   "execution_count": null,
   "metadata": {},
   "outputs": [],
   "source": []
  }
 ],
 "metadata": {
  "kernelspec": {
   "display_name": "Python 3.8.5 64-bit",
   "metadata": {
    "interpreter": {
     "hash": "aee8b7b246df8f9039afb4144a1f6fd8d2ca17a180786b69acc140d282b71a49"
    }
   },
   "name": "python3"
  },
  "language_info": {
   "codemirror_mode": {
    "name": "ipython",
    "version": 3
   },
   "file_extension": ".py",
   "mimetype": "text/x-python",
   "name": "python",
   "nbconvert_exporter": "python",
   "pygments_lexer": "ipython3",
   "version": "3.8.5-final"
  },
  "orig_nbformat": 2
 },
 "nbformat": 4,
 "nbformat_minor": 2
}