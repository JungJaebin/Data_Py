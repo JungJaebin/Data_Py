{
 "cells": [
  {
   "cell_type": "code",
   "execution_count": 2,
   "metadata": {},
   "outputs": [
    {
     "name": "stdout",
     "output_type": "stream",
     "text": [
      "55\n"
     ]
    }
   ],
   "source": [
    "# 2. 함수가 하는 행동 (a부터 b까지의 합을 리턴) - for문\n",
    "\n",
    "def prac (a, b) :\n",
    "\n",
    "    sum = 0\n",
    "\n",
    "    for i in range(a, b+1, 1) :\n",
    "\n",
    "        sum += i\n",
    "    \n",
    "    return sum\n",
    "\n",
    "print(prac(1, 10))"
   ]
  },
  {
   "cell_type": "code",
   "execution_count": 4,
   "metadata": {},
   "outputs": [
    {
     "name": "stdout",
     "output_type": "stream",
     "text": [
      "55\n"
     ]
    }
   ],
   "source": [
    "# 2. 함수가 하는 행동 (a부터 b까지의 합을 리턴) - while문\n",
    "\n",
    "def prac2(a, b) :\n",
    "    sum = 0\n",
    "    i = a\n",
    "    while i <= b :\n",
    "        sum += i\n",
    "        i += 1\n",
    "    return sum\n",
    "print(prac2(1, 10))"
   ]
  },
  {
   "cell_type": "code",
   "execution_count": 6,
   "metadata": {},
   "outputs": [
    {
     "name": "stdout",
     "output_type": "stream",
     "text": [
      "55\n",
      "55\n"
     ]
    }
   ],
   "source": [
    "# 3. a보다 b가 작은 경우에는 b부터 a까지의 합을 리턴, 반대인 경우 a에서 b까지의 합을 구해서 리턴 - 반복문에 조건문까지 설정\n",
    "\n",
    "def prac3(a, b) :\n",
    "    \n",
    "    sum = 0\n",
    "    \n",
    "    if a > b :\n",
    "        for i in range(b, a+1, 1) :\n",
    "            sum += i\n",
    "    \n",
    "    else :\n",
    "        for i in range(a, b+1, 1) :\n",
    "            sum += i\n",
    "    \n",
    "    return sum\n",
    "\n",
    "print(prac3(1, 10))\n",
    "print(prac3(10, 1))"
   ]
  },
  {
   "cell_type": "code",
   "execution_count": 7,
   "metadata": {},
   "outputs": [
    {
     "name": "stdout",
     "output_type": "stream",
     "text": [
      "55\n",
      "55\n"
     ]
    }
   ],
   "source": [
    "def prac4(a, b) :\n",
    "    \n",
    "    sum = 0\n",
    "\n",
    "    for i in range(min(a, b), max(a, b)+1, 1) :             # min(a, b): a, b 중 최소값 출력 / max(a, b): a, b 중 최대값 출력\n",
    "        sum += i\n",
    "    return sum\n",
    "\n",
    "print(prac4(1, 10))\n",
    "print(prac4(10, 1))"
   ]
  },
  {
   "cell_type": "code",
   "execution_count": 16,
   "metadata": {},
   "outputs": [
    {
     "name": "stdout",
     "output_type": "stream",
     "text": [
      "6\n",
      "-4\n",
      "5\n",
      "연산식이 잘못 되었습니다.\n"
     ]
    }
   ],
   "source": [
    "# 1. 함수 생성(매개변수 3개 a, b, c)\n",
    "# 2. c의 값이 '합'이면 a + b\n",
    "# 3. c의 값이 '차'이면 a - b\n",
    "# 4. c의 값이 '곱'이면 a * b\n",
    "# 5. c의 값이 위 세가지에 포함이 안되면 '연산식이 잘못 되었습니다.' 리턴\n",
    "\n",
    "\n",
    "def abc(a, b, c) :\n",
    "    \n",
    "    if c == \"합\" :\n",
    "        return a + b\n",
    "\n",
    "    elif c == \"차\" :\n",
    "        return  a - b\n",
    "\n",
    "    elif c == \"곱\" :\n",
    "        return  a * b\n",
    "\n",
    "    else :\n",
    "        return  \"연산식이 잘못 되었습니다.\"\n",
    "\n",
    "print(abc(1, 5, \"합\"))\n",
    "print(abc(1, 5, \"차\"))\n",
    "print(abc(1, 5, \"곱\"))\n",
    "print(abc(1, 5, \"나누기\"))"
   ]
  },
  {
   "cell_type": "code",
   "execution_count": 18,
   "metadata": {},
   "outputs": [
    {
     "name": "stdout",
     "output_type": "stream",
     "text": [
      "6\n",
      "-4\n",
      "5\n",
      "연산식이 잘못 되었습니다.\n"
     ]
    }
   ],
   "source": [
    "def abc2(a, b, c) :\n",
    "\n",
    "    cal = 0\n",
    "    \n",
    "    if c == \"합\" :\n",
    "        cal = a + b\n",
    "\n",
    "    elif c == \"차\" :\n",
    "        cal = a - b\n",
    "\n",
    "    elif c == \"곱\" :\n",
    "        cal = a * b\n",
    "\n",
    "    else :\n",
    "        cal = \"연산식이 잘못 되었습니다.\"\n",
    "\n",
    "    return cal\n",
    "\n",
    "print(abc2(1, 5, \"합\"))\n",
    "print(abc2(1, 5, \"차\"))\n",
    "print(abc2(1, 5, \"곱\"))\n",
    "print(abc2(1, 5, \"나누기\"))"
   ]
  },
  {
   "cell_type": "code",
   "execution_count": 1,
   "metadata": {},
   "outputs": [
    {
     "name": "stdout",
     "output_type": "stream",
     "text": [
      "25\n"
     ]
    }
   ],
   "source": [
    "# map 함수\n",
    "\n",
    "def map_fun(a) :\n",
    "    result = a ** 2\n",
    "    return result\n",
    "\n",
    "print(map_fun(5))"
   ]
  },
  {
   "cell_type": "code",
   "execution_count": 2,
   "metadata": {},
   "outputs": [
    {
     "name": "stdout",
     "output_type": "stream",
     "text": [
      "[1, 4, 9, 16]\n"
     ]
    }
   ],
   "source": [
    "a = list(map(map_fun, [1, 2, 3, 4]))\n",
    "\n",
    "print(a)"
   ]
  },
  {
   "cell_type": "code",
   "execution_count": 19,
   "metadata": {},
   "outputs": [
    {
     "data": {
      "text/plain": "16"
     },
     "execution_count": 19,
     "metadata": {},
     "output_type": "execute_result"
    }
   ],
   "source": [
    "# 람다 함수\n",
    "\n",
    "lamb = lambda x : x ** 2\n",
    "\n",
    "lamb(4)"
   ]
  },
  {
   "cell_type": "code",
   "execution_count": null,
   "metadata": {},
   "outputs": [],
   "source": []
  }
 ],
 "metadata": {
  "kernelspec": {
   "display_name": "Python 3.10.5 64-bit",
   "metadata": {
    "interpreter": {
     "hash": "aee8b7b246df8f9039afb4144a1f6fd8d2ca17a180786b69acc140d282b71a49"
    }
   },
   "name": "python3"
  },
  "language_info": {
   "codemirror_mode": {
    "name": "ipython",
    "version": 3
   },
   "file_extension": ".py",
   "mimetype": "text/x-python",
   "name": "python",
   "nbconvert_exporter": "python",
   "pygments_lexer": "ipython3",
   "version": "3.10.5"
  },
  "orig_nbformat": 2
 },
 "nbformat": 4,
 "nbformat_minor": 2
}