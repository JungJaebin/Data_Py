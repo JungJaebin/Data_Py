{
 "cells": [
  {
   "cell_type": "code",
   "execution_count": 2,
   "metadata": {},
   "outputs": [
    {
     "name": "stdout",
     "output_type": "stream",
     "text": [
      "Requirement already satisfied: pandas in /Library/Frameworks/Python.framework/Versions/3.10/lib/python3.10/site-packages (1.4.3)\n",
      "Requirement already satisfied: python-dateutil>=2.8.1 in /Users/ohyoulooknice/Library/Python/3.10/lib/python/site-packages (from pandas) (2.8.2)\n",
      "Requirement already satisfied: pytz>=2020.1 in /Library/Frameworks/Python.framework/Versions/3.10/lib/python3.10/site-packages (from pandas) (2022.2.1)\n",
      "Requirement already satisfied: numpy>=1.21.0 in /Library/Frameworks/Python.framework/Versions/3.10/lib/python3.10/site-packages (from pandas) (1.23.2)\n",
      "Requirement already satisfied: six>=1.5 in /Users/ohyoulooknice/Library/Python/3.10/lib/python/site-packages (from python-dateutil>=2.8.1->pandas) (1.16.0)\n",
      "\u001b[33mWARNING: You are using pip version 22.0.4; however, version 22.2.2 is available.\n",
      "You should consider upgrading via the '/usr/local/bin/python3 -m pip install --upgrade pip' command.\u001b[0m\u001b[33m\n",
      "\u001b[0mNote: you may need to restart the kernel to use updated packages.\n"
     ]
    }
   ],
   "source": [
    "pip install pandas"
   ]
  },
  {
   "cell_type": "code",
   "execution_count": 3,
   "metadata": {},
   "outputs": [],
   "source": [
    "import pandas as pd"
   ]
  },
  {
   "cell_type": "code",
   "execution_count": 4,
   "metadata": {},
   "outputs": [
    {
     "name": "stdout",
     "output_type": "stream",
     "text": [
      "아메리카노    5000\n",
      "카페라떼     6000\n",
      "카페모카     6500\n",
      "카푸치노     7000\n",
      "dtype: int64\n"
     ]
    }
   ],
   "source": [
    "pd_list = pd.Series([5000, 6000, 6500, 7000],\n",
    "            index = [\"아메리카노\", \"카페라떼\", \"카페모카\", \"카푸치노\"])\n",
    "\n",
    "print(pd_list)"
   ]
  },
  {
   "cell_type": "code",
   "execution_count": 8,
   "metadata": {},
   "outputs": [
    {
     "name": "stdout",
     "output_type": "stream",
     "text": [
      "시리즈의 값:  [5000 6000 6500 7000]\n",
      "시리즈의 인덱스 값:  Index(['아메리카노', '카페라떼', '카페모카', '카푸치노'], dtype='object')\n"
     ]
    }
   ],
   "source": [
    "print(\"시리즈의 값: \", pd_list.values)\n",
    "print(\"시리즈의 인덱스 값: \", pd_list.index)"
   ]
  },
  {
   "cell_type": "code",
   "execution_count": 9,
   "metadata": {},
   "outputs": [
    {
     "data": {
      "text/html": "<div>\n<style scoped>\n    .dataframe tbody tr th:only-of-type {\n        vertical-align: middle;\n    }\n\n    .dataframe tbody tr th {\n        vertical-align: top;\n    }\n\n    .dataframe thead th {\n        text-align: right;\n    }\n</style>\n<table border=\"1\" class=\"dataframe\">\n  <thead>\n    <tr style=\"text-align: right;\">\n      <th></th>\n      <th>A</th>\n      <th>B</th>\n      <th>C</th>\n    </tr>\n  </thead>\n  <tbody>\n    <tr>\n      <th>a</th>\n      <td>1</td>\n      <td>2</td>\n      <td>3</td>\n    </tr>\n    <tr>\n      <th>b</th>\n      <td>4</td>\n      <td>5</td>\n      <td>6</td>\n    </tr>\n    <tr>\n      <th>c</th>\n      <td>7</td>\n      <td>8</td>\n      <td>9</td>\n    </tr>\n  </tbody>\n</table>\n</div>",
      "text/plain": "   A  B  C\na  1  2  3\nb  4  5  6\nc  7  8  9"
     },
     "execution_count": 9,
     "metadata": {},
     "output_type": "execute_result"
    }
   ],
   "source": [
    "_value = [[1, 2, 3], [4, 5, 6], [7, 8, 9]]\n",
    "_index = ['a', 'b', 'c']\n",
    "_columns = ['A', 'B', 'C']\n",
    "\n",
    "pd_df = pd.DataFrame(_value, index = _index, columns = _columns)\n",
    "\n",
    "pd_df           # print()를 쓰지 않는게 보기에 편하다."
   ]
  },
  {
   "cell_type": "code",
   "execution_count": 11,
   "metadata": {},
   "outputs": [
    {
     "name": "stdout",
     "output_type": "stream",
     "text": [
      "데이터프레임의 값:  [[1 2 3]\n",
      " [4 5 6]\n",
      " [7 8 9]]\n",
      "데이터프레임의 인덱스 값:  Index(['a', 'b', 'c'], dtype='object')\n",
      "데이터프레임의 칼럼 값:  Index(['A', 'B', 'C'], dtype='object')\n"
     ]
    }
   ],
   "source": [
    "print(\"데이터프레임의 값: \", pd_df._values)\n",
    "print(\"데이터프레임의 인덱스 값: \", pd_df.index)\n",
    "print(\"데이터프레임의 칼럼 값: \", pd_df.columns)"
   ]
  },
  {
   "cell_type": "code",
   "execution_count": 13,
   "metadata": {},
   "outputs": [
    {
     "data": {
      "text/html": "<div>\n<style scoped>\n    .dataframe tbody tr th:only-of-type {\n        vertical-align: middle;\n    }\n\n    .dataframe tbody tr th {\n        vertical-align: top;\n    }\n\n    .dataframe thead th {\n        text-align: right;\n    }\n</style>\n<table border=\"1\" class=\"dataframe\">\n  <thead>\n    <tr style=\"text-align: right;\">\n      <th></th>\n      <th>name</th>\n      <th>age</th>\n      <th>phone</th>\n    </tr>\n  </thead>\n  <tbody>\n    <tr>\n      <th>0</th>\n      <td>A</td>\n      <td>20</td>\n      <td>010123</td>\n    </tr>\n    <tr>\n      <th>1</th>\n      <td>B</td>\n      <td>30</td>\n      <td>010456</td>\n    </tr>\n    <tr>\n      <th>2</th>\n      <td>C</td>\n      <td>40</td>\n      <td>010789</td>\n    </tr>\n  </tbody>\n</table>\n</div>",
      "text/plain": "  name  age   phone\n0    A   20  010123\n1    B   30  010456\n2    C   40  010789"
     },
     "execution_count": 13,
     "metadata": {},
     "output_type": "execute_result"
    }
   ],
   "source": [
    "# 딕셔너리 형태의 데이터를 데이터프레임으로 변경\n",
    "\n",
    "_values = {\n",
    "    \"name\": ['A', 'B', 'C'],\n",
    "    \"age\": [20, 30, 40],\n",
    "    \"phone\": ['010123', '010456', '010789']\n",
    "}\n",
    "\n",
    "pd_df2 = pd.DataFrame(_values)\n",
    "\n",
    "pd_df2"
   ]
  },
  {
   "cell_type": "code",
   "execution_count": 14,
   "metadata": {},
   "outputs": [
    {
     "data": {
      "text/html": "<div>\n<style scoped>\n    .dataframe tbody tr th:only-of-type {\n        vertical-align: middle;\n    }\n\n    .dataframe tbody tr th {\n        vertical-align: top;\n    }\n\n    .dataframe thead th {\n        text-align: right;\n    }\n</style>\n<table border=\"1\" class=\"dataframe\">\n  <thead>\n    <tr style=\"text-align: right;\">\n      <th></th>\n      <th>name</th>\n      <th>age</th>\n      <th>phone</th>\n    </tr>\n  </thead>\n  <tbody>\n    <tr>\n      <th>0</th>\n      <td>A</td>\n      <td>20</td>\n      <td>010123</td>\n    </tr>\n    <tr>\n      <th>1</th>\n      <td>B</td>\n      <td>30</td>\n      <td>010456</td>\n    </tr>\n  </tbody>\n</table>\n</div>",
      "text/plain": "  name  age   phone\n0    A   20  010123\n1    B   30  010456"
     },
     "execution_count": 14,
     "metadata": {},
     "output_type": "execute_result"
    }
   ],
   "source": [
    "# head()\n",
    "\n",
    "pd_df2.head(2)"
   ]
  },
  {
   "cell_type": "code",
   "execution_count": 15,
   "metadata": {},
   "outputs": [
    {
     "data": {
      "text/html": "<div>\n<style scoped>\n    .dataframe tbody tr th:only-of-type {\n        vertical-align: middle;\n    }\n\n    .dataframe tbody tr th {\n        vertical-align: top;\n    }\n\n    .dataframe thead th {\n        text-align: right;\n    }\n</style>\n<table border=\"1\" class=\"dataframe\">\n  <thead>\n    <tr style=\"text-align: right;\">\n      <th></th>\n      <th>name</th>\n      <th>age</th>\n      <th>phone</th>\n    </tr>\n  </thead>\n  <tbody>\n    <tr>\n      <th>1</th>\n      <td>B</td>\n      <td>30</td>\n      <td>010456</td>\n    </tr>\n    <tr>\n      <th>2</th>\n      <td>C</td>\n      <td>40</td>\n      <td>010789</td>\n    </tr>\n  </tbody>\n</table>\n</div>",
      "text/plain": "  name  age   phone\n1    B   30  010456\n2    C   40  010789"
     },
     "execution_count": 15,
     "metadata": {},
     "output_type": "execute_result"
    }
   ],
   "source": [
    "# tail()\n",
    "\n",
    "pd_df2.tail(2)"
   ]
  },
  {
   "cell_type": "code",
   "execution_count": 16,
   "metadata": {},
   "outputs": [
    {
     "data": {
      "text/plain": "0    20\n1    30\n2    40\nName: age, dtype: int64"
     },
     "execution_count": 16,
     "metadata": {},
     "output_type": "execute_result"
    }
   ],
   "source": [
    "# columns\n",
    "\n",
    "pd_df2[\"age\"]"
   ]
  },
  {
   "cell_type": "markdown",
   "metadata": {},
   "source": [
    "### 경로 지정\n",
    "\n",
    "1. 절대 경로 - 절대적인 주소(누가 들어가도 똑같은 페이지)   ex) url, c:/users/test.txt\n",
    "2. 상대 경로 - 작업중인 환경에서 현재, 상위, 하위 폴더를 경로로 지정       ex) './': 현재 작업중인 디렉토리, '../': 상위 디렉토리, './폴더명/': 하위 디렉토리로 이동"
   ]
  },
  {
   "cell_type": "code",
   "execution_count": 5,
   "metadata": {},
   "outputs": [
    {
     "data": {
      "text/html": "<div>\n<style scoped>\n    .dataframe tbody tr th:only-of-type {\n        vertical-align: middle;\n    }\n\n    .dataframe tbody tr th {\n        vertical-align: top;\n    }\n\n    .dataframe thead th {\n        text-align: right;\n    }\n</style>\n<table border=\"1\" class=\"dataframe\">\n  <thead>\n    <tr style=\"text-align: right;\">\n      <th></th>\n      <th>Name</th>\n      <th>Gender</th>\n      <th>Phone</th>\n    </tr>\n  </thead>\n  <tbody>\n    <tr>\n      <th>0</th>\n      <td>A</td>\n      <td>male</td>\n      <td>010-1234-5678</td>\n    </tr>\n    <tr>\n      <th>1</th>\n      <td>B</td>\n      <td>female</td>\n      <td>010-1234-5679</td>\n    </tr>\n    <tr>\n      <th>2</th>\n      <td>C</td>\n      <td>male</td>\n      <td>010-1234-5680</td>\n    </tr>\n    <tr>\n      <th>3</th>\n      <td>D</td>\n      <td>female</td>\n      <td>010-1234-5681</td>\n    </tr>\n    <tr>\n      <th>4</th>\n      <td>E</td>\n      <td>male</td>\n      <td>010-1234-5682</td>\n    </tr>\n    <tr>\n      <th>5</th>\n      <td>F</td>\n      <td>female</td>\n      <td>010-1234-5683</td>\n    </tr>\n    <tr>\n      <th>6</th>\n      <td>G</td>\n      <td>male</td>\n      <td>010-1234-5684</td>\n    </tr>\n    <tr>\n      <th>7</th>\n      <td>H</td>\n      <td>female</td>\n      <td>010-1234-5685</td>\n    </tr>\n    <tr>\n      <th>8</th>\n      <td>I</td>\n      <td>male</td>\n      <td>010-1234-5686</td>\n    </tr>\n    <tr>\n      <th>9</th>\n      <td>J</td>\n      <td>female</td>\n      <td>010-1234-5687</td>\n    </tr>\n  </tbody>\n</table>\n</div>",
      "text/plain": "  Name  Gender          Phone\n0    A    male  010-1234-5678\n1    B  female  010-1234-5679\n2    C    male  010-1234-5680\n3    D  female  010-1234-5681\n4    E    male  010-1234-5682\n5    F  female  010-1234-5683\n6    G    male  010-1234-5684\n7    H  female  010-1234-5685\n8    I    male  010-1234-5686\n9    J  female  010-1234-5687"
     },
     "execution_count": 5,
     "metadata": {},
     "output_type": "execute_result"
    }
   ],
   "source": [
    "csv_df = pd.read_csv(\"example.csv\")\n",
    "\n",
    "csv_df"
   ]
  },
  {
   "cell_type": "code",
   "execution_count": null,
   "metadata": {},
   "outputs": [],
   "source": []
  }
 ],
 "metadata": {
  "kernelspec": {
   "display_name": "Python 3.10.5 64-bit",
   "metadata": {
    "interpreter": {
     "hash": "aee8b7b246df8f9039afb4144a1f6fd8d2ca17a180786b69acc140d282b71a49"
    }
   },
   "name": "python3"
  },
  "language_info": {
   "codemirror_mode": {
    "name": "ipython",
    "version": 3
   },
   "file_extension": ".py",
   "mimetype": "text/x-python",
   "name": "python",
   "nbconvert_exporter": "python",
   "pygments_lexer": "ipython3",
   "version": "3.10.5"
  },
  "orig_nbformat": 2
 },
 "nbformat": 4,
 "nbformat_minor": 2
}