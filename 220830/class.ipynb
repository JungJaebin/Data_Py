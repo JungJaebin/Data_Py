{
 "cells": [
  {
   "cell_type": "code",
   "execution_count": 1,
   "metadata": {},
   "outputs": [],
   "source": [
    "# 클래스 선언\n",
    "\n",
    "class Class_1() :\n",
    "    def func_1(self) :                  # 클래스 안의 함수에는 'self' 매개변수가 있어야한다.\n",
    "        print(\"Class call\")"
   ]
  },
  {
   "cell_type": "code",
   "execution_count": 2,
   "metadata": {},
   "outputs": [],
   "source": [
    "# 클래스 생성\n",
    "\n",
    "x = Class_1()"
   ]
  },
  {
   "cell_type": "code",
   "execution_count": 3,
   "metadata": {},
   "outputs": [
    {
     "name": "stdout",
     "output_type": "stream",
     "text": [
      "Class call\n"
     ]
    }
   ],
   "source": [
    "x.func_1()          # () 안에는 x가 들어가있다."
   ]
  },
  {
   "cell_type": "code",
   "execution_count": 4,
   "metadata": {},
   "outputs": [],
   "source": [
    "class Class_2() :\n",
    "    def __init__(self, input_x, input_y) :\n",
    "        self.x = input_x\n",
    "        self.y = input_y"
   ]
  },
  {
   "cell_type": "code",
   "execution_count": 6,
   "metadata": {},
   "outputs": [],
   "source": [
    "a = Class_2(\"test\", 1)          # 클래스 내에서 변수 지정"
   ]
  },
  {
   "cell_type": "code",
   "execution_count": 7,
   "metadata": {},
   "outputs": [
    {
     "name": "stdout",
     "output_type": "stream",
     "text": [
      "test 1\n"
     ]
    }
   ],
   "source": [
    "print(a.x, a.y)"
   ]
  },
  {
   "cell_type": "code",
   "execution_count": 8,
   "metadata": {},
   "outputs": [],
   "source": [
    "b = Class_2(\"test2\", 2)"
   ]
  },
  {
   "cell_type": "code",
   "execution_count": 9,
   "metadata": {},
   "outputs": [
    {
     "name": "stdout",
     "output_type": "stream",
     "text": [
      "test 1\n",
      "test2 2\n"
     ]
    }
   ],
   "source": [
    "print(a.x, a.y)\n",
    "print(b.x, b.y)"
   ]
  },
  {
   "cell_type": "code",
   "execution_count": 11,
   "metadata": {},
   "outputs": [],
   "source": [
    "class Class_3() :\n",
    "    def __init__(self, input_x, input_y) :\n",
    "        self.x = input_x\n",
    "        self.y = input_y\n",
    "\n",
    "    def add(self) :\n",
    "        self.result = self.x + self.y\n",
    "\n",
    "        return self.result\n",
    "\n",
    "    def subtract(self) :\n",
    "        self.result = self.x - self.y\n",
    "\n",
    "        return self.result"
   ]
  },
  {
   "cell_type": "code",
   "execution_count": 12,
   "metadata": {},
   "outputs": [],
   "source": [
    "c = Class_3(10, 4)"
   ]
  },
  {
   "cell_type": "code",
   "execution_count": 13,
   "metadata": {},
   "outputs": [
    {
     "name": "stdout",
     "output_type": "stream",
     "text": [
      "14\n",
      "6\n"
     ]
    }
   ],
   "source": [
    "print(c.add())\n",
    "print(c.subtract())"
   ]
  },
  {
   "cell_type": "code",
   "execution_count": 14,
   "metadata": {},
   "outputs": [],
   "source": [
    "d = Class_3(4, 9)"
   ]
  },
  {
   "cell_type": "code",
   "execution_count": 16,
   "metadata": {},
   "outputs": [
    {
     "name": "stdout",
     "output_type": "stream",
     "text": [
      "14\n",
      "13\n",
      "6\n",
      "-5\n"
     ]
    }
   ],
   "source": [
    "print(c.add())\n",
    "print(d.add())\n",
    "\n",
    "print(c.subtract())\n",
    "print(d.subtract())"
   ]
  },
  {
   "cell_type": "code",
   "execution_count": 58,
   "metadata": {},
   "outputs": [],
   "source": [
    "# 클래스 변수\n",
    "# 클래스들은 각자 독립적인 변수들을 가지고 행동\n",
    "# 클래스 변수는 Class_3를 생성한 모든 곳에서 공유해서 사용이 가능\n",
    "\n",
    "class Class_4() :\n",
    "\n",
    "    list = []\n",
    "\n",
    "    def __init__(self, input_name) :\n",
    "        self.name = input_name\n",
    "\n",
    "    def add_list(self, input_phone) :\n",
    "        self.list.append(input_phone)"
   ]
  },
  {
   "cell_type": "code",
   "execution_count": 59,
   "metadata": {},
   "outputs": [],
   "source": [
    "test = Class_4(\"kim\")\n",
    "test2 = Class_4(\"lee\")"
   ]
  },
  {
   "cell_type": "code",
   "execution_count": 60,
   "metadata": {},
   "outputs": [],
   "source": [
    "test.add_list(\"0101234\")\n",
    "test2.add_list(\"0105678\")"
   ]
  },
  {
   "cell_type": "code",
   "execution_count": 61,
   "metadata": {},
   "outputs": [
    {
     "name": "stdout",
     "output_type": "stream",
     "text": [
      "kim\n",
      "lee\n"
     ]
    }
   ],
   "source": [
    "print(test.name)\n",
    "print(test2.name)"
   ]
  },
  {
   "cell_type": "code",
   "execution_count": 62,
   "metadata": {},
   "outputs": [
    {
     "name": "stdout",
     "output_type": "stream",
     "text": [
      "['0101234', '0105678']\n",
      "['0101234', '0105678']\n"
     ]
    }
   ],
   "source": [
    "print(test.list)\n",
    "print(test2.list)"
   ]
  },
  {
   "cell_type": "code",
   "execution_count": 63,
   "metadata": {},
   "outputs": [
    {
     "ename": "SyntaxError",
     "evalue": "incomplete input (2065092812.py, line 3)",
     "output_type": "error",
     "traceback": [
      "\u001b[0;36m  Input \u001b[0;32mIn [63]\u001b[0;36m\u001b[0m\n\u001b[0;31m    '''\u001b[0m\n\u001b[0m    ^\u001b[0m\n\u001b[0;31mSyntaxError\u001b[0m\u001b[0;31m:\u001b[0m incomplete input\n"
     ]
    }
   ],
   "source": [
    "# 1. name 하나당 휴대폰의 번호는 하나씩 나와야 하는데, 현재 2개씩 나오는 상황\n",
    "# 2. 하나씩 나오도록 수정\n",
    "'''\n",
    "class Class_4() :\n",
    "\n",
    "    #list = []\n",
    "\n",
    "    def __init__(self, input_name) :\n",
    "        self.name = input_name\n",
    "        self.list = []                  # add_list 함수에 넣으면 실행마다 초기화된다.\n",
    "\n",
    "    def add_list(self, input_phone) :           \n",
    "        self.add_list.append(input_phone)"
   ]
  },
  {
   "cell_type": "code",
   "execution_count": null,
   "metadata": {},
   "outputs": [],
   "source": [
    "# '.'은 클래스 공간 안에 변수, 함수를 호출하는 뜻\n",
    "# self를 붙여줌으로서 클래스 안에 속한 함수로 볼 수 있다.\n",
    "# self라는 뜻이 해당 클래스에 종속 되어있는 함수나 변수이다.\n",
    "# self를 안쓰면 일반 함수랑 똑같다.\n",
    "# __init__은 클래스의 한 요소 / init이 붙어있는 함수는 1. 입력받은 변수 저장(전역변수), 2. 클래스끼리 공유하기 위한, 3. 그냥 함수로 쓰기 위해서\n"
   ]
  }
 ],
 "metadata": {
  "kernelspec": {
   "display_name": "Python 3.10.5 64-bit",
   "metadata": {
    "interpreter": {
     "hash": "aee8b7b246df8f9039afb4144a1f6fd8d2ca17a180786b69acc140d282b71a49"
    }
   },
   "name": "python3"
  },
  "language_info": {
   "codemirror_mode": {
    "name": "ipython",
    "version": 3
   },
   "file_extension": ".py",
   "mimetype": "text/x-python",
   "name": "python",
   "nbconvert_exporter": "python",
   "pygments_lexer": "ipython3",
   "version": "3.10.5"
  },
  "orig_nbformat": 2
 },
 "nbformat": 4,
 "nbformat_minor": 2
}